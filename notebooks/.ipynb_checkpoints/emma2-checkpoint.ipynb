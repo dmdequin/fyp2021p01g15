{
 "cells": [
  {
   "cell_type": "markdown",
   "metadata": {},
   "source": [
    "# First Year Project\n",
    "## Project 1 - Road Collissions Analysis, ITU Copenhagen\n",
    "\n",
    "This notebook contains all of the code developed for project 1, to explore the data set of Road Collisions from UK.gov with a focus on the city of Birmingham.\n",
    "\n",
    "Nicola (niccl@itu.dk)<br>\n",
    "Emma (ebis@itu.dk)<br>\n",
    "Karlis (kabu@itu.dk)<br>\n",
    "Kirstine (kirp@itu.dk)<br>\n",
    "Danielle (ddeq@itu.dk)<br>\n",
    "\n",
    "Created: 12-02-2021\n",
    "<br>Last modified: 26-02-2021"
   ]
  },
  {
   "cell_type": "markdown",
   "metadata": {},
   "source": [
    "## Imports"
   ]
  },
  {
   "cell_type": "code",
   "execution_count": 1,
   "metadata": {},
   "outputs": [],
   "source": [
    "import numpy as np\n",
    "import pandas as pd\n",
    "import matplotlib.pyplot as plt\n",
    "import seaborn as sns\n",
    "from scipy.stats import chi2_contingency\n",
    "import csv\n",
    "\n",
    "import json\n",
    "import shapely\n",
    "from shapely.geometry import Point, MultiPoint, LineString, MultiLineString, Polygon, MultiPolygon\n",
    "import folium\n",
    "from folium.plugins import HeatMap, MarkerCluster\n",
    "\n",
    "\n",
    "#%run -i ../scripts/functions.py\n",
    "\n",
    "from ipywidgets import interact, interactive, fixed, interact_manual,FloatSlider,Checkbox\n",
    "import ipywidgets as widgets\n",
    "\n",
    "#in order for interactive to work run:\n",
    "#pip install ipywidgets\n",
    "#then run:\n",
    "#jupyter nbextension enable --py widgetsnbextension\n",
    "#(in the python terminal you run jupyter from)"
   ]
  },
  {
   "cell_type": "markdown",
   "metadata": {},
   "source": [
    "## Functions"
   ]
  },
  {
   "cell_type": "code",
   "execution_count": 2,
   "metadata": {},
   "outputs": [],
   "source": [
    "def five_num_sum(data):\n",
    "    \"\"\"A function that takes the input data and calculates the\n",
    "    five number summary.\n",
    "    \"\"\"\n",
    "    quartiles = np.percentile(data, [25, 50, 75])\n",
    "    data_min, data_max = min(data), max(data)\n",
    "    \n",
    "    print('Min: %.3f' % data_min)\n",
    "    print('Q1: %.3f' % quartiles[0])\n",
    "    print('Median: %.3f' % quartiles[1])\n",
    "    print('Q3: %.3f' % quartiles[2])\n",
    "    print('Max: %.3f' % data_max)"
   ]
  },
  {
   "cell_type": "code",
   "execution_count": 3,
   "metadata": {},
   "outputs": [],
   "source": [
    "def BarPlot(title, field_catagories, data):\n",
    "    \"\"\"Function to make a bar plot of a categorical variable\n",
    "    \"\"\"\n",
    "    \n",
    "    field_name = title\n",
    "    ax = barplot(data, field_name, field_categories)\n",
    "    \n",
    "    return plt.show()"
   ]
  },
  {
   "cell_type": "code",
   "execution_count": 4,
   "metadata": {},
   "outputs": [],
   "source": [
    "def barplot(data, field_name, field_categories):\n",
    "    \"\"\"Make a bar plot of a categorical variable, given as a field field_name in the\n",
    "    structured array data. Field categories and their names are given in the dict field_categories.\n",
    "    \"\"\"\n",
    "\n",
    "    categories, counts = np.unique(data[field_name], return_counts=True)\n",
    "\n",
    "    fig = plt.figure(figsize=(4, 3))\n",
    "    axes = fig.add_axes([0, 0, 1, 1]) # left, bottom, width, height (range 0 to 1)\n",
    "    axes.bar(range(len(categories)), counts, fc= \"coral\") # fc is the face color\n",
    "\n",
    "    axes.set_xlabel(\"\")\n",
    "    axes.set_ylabel('Count')\n",
    "    axes.set_title(field_name)\n",
    "    fig.autofmt_xdate(rotation=45)\n",
    "\n",
    "    axes.set_xticks(range(len(categories)))\n",
    "    axes.set_xticklabels([field_categories[c] for c in categories]);"
   ]
  },
  {
   "cell_type": "code",
   "execution_count": 5,
   "metadata": {},
   "outputs": [],
   "source": [
    "def statistics_values(observed):\n",
    "    \"\"\"A function that takes the observed values from the crosstab and then \n",
    "    finds the expected output followed by the chi value, p-value, \n",
    "    degrees of freedom, and the Cramers V-value - NOTE: make sure input \n",
    "    is a numpy array\"\"\"\n",
    "    \n",
    "    chiVal, pVal, df, expected = chi2_contingency(observed)\n",
    "    print(\"Chi Value: \", chiVal)\n",
    "    print(\"P-value: \", pVal)\n",
    "    print(\"Degrees of Freedom: \", df)\n",
    "    \n",
    "    V = np.sqrt( (chiVal/N) / (min(observed.shape)-1) )\n",
    "    print(\"Cramer's V-value: \", V)"
   ]
  },
  {
   "cell_type": "markdown",
   "metadata": {},
   "source": [
    "## Constants"
   ]
  },
  {
   "cell_type": "code",
   "execution_count": 6,
   "metadata": {},
   "outputs": [],
   "source": [
    "PATH = {}\n",
    "PATH[\"data_raw\"] = \"../Data/raw/\"\n",
    "PATH[\"data_interim\"] = \"../Data/interim/\"\n",
    "PATH[\"data_processed\"] = \"../Data/processed/\"\n",
    "PATH[\"data_external\"] = \"../Data/external/\"\n",
    "\n",
    "FILENAME = {}\n",
    "FILENAME[\"accidents\"] = \"Road Safety Data - Accidents 2019.csv\"\n",
    "FILENAME[\"casualties\"] = \"Road Safety Data - Casualties 2019.csv\"\n",
    "FILENAME[\"vehicles\"] = \"Road Safety Data- Vehicles 2019.csv\" \n",
    "\n",
    "TABLENAMES = [\"accidents\", \"casualties\", \"vehicles\"]"
   ]
  },
  {
   "cell_type": "markdown",
   "metadata": {},
   "source": [
    "# Task 0: Data filtering and cleaning\n",
    "Out of the raw UK data, create a processed data set that is restricted to your city. You are going to use this processed data set for all the tasks below. This data set should contain only fields and records that are relevant to your analysis. Briefly describe your data set in a numerical summary (e.g. number/meaning of tables, fields and records, statistical key metrics)."
   ]
  },
  {
   "cell_type": "markdown",
   "metadata": {},
   "source": [
    "The data were downloaded from here on Jan 4th: https://data.gov.uk/dataset/road-accidents-safety-data\n",
    "That page was updated afterwards (Jan 8th), so local and online data may be inconsistent."
   ]
  },
  {
   "cell_type": "code",
   "execution_count": 7,
   "metadata": {},
   "outputs": [],
   "source": [
    "dataraw = {}\n",
    "dataraw[\"accidents\"] = np.genfromtxt(PATH[\"data_raw\"]+FILENAME[\"accidents\"], delimiter=',', dtype=None, names=True, encoding='utf-8-sig')\n",
    "dataraw[\"vehicles\"] = np.genfromtxt(PATH[\"data_raw\"]+FILENAME[\"vehicles\"], delimiter=',', dtype=None, names=True, encoding='utf-8-sig')\n",
    "dataraw[\"casualties\"] = np.genfromtxt(PATH[\"data_raw\"]+FILENAME[\"casualties\"], delimiter=',', dtype=None, names=True, encoding='utf-8-sig')"
   ]
  },
  {
   "cell_type": "code",
   "execution_count": 8,
   "metadata": {},
   "outputs": [],
   "source": [
    "# Get a dictionary of the variable names for each table\n",
    "variable_names_raw = {}\n",
    "for variable_name in TABLENAMES:\n",
    "    variable_names_raw[variable_name] = list(dataraw[variable_name].dtype.names)"
   ]
  },
  {
   "cell_type": "markdown",
   "metadata": {},
   "source": [
    "### Report the dimensions of the data (number of tables, rows, fields)."
   ]
  },
  {
   "cell_type": "markdown",
   "metadata": {},
   "source": [
    "We have 3 tables: Accidents, Casualites, and Vehicles data tables."
   ]
  },
  {
   "cell_type": "markdown",
   "metadata": {},
   "source": [
    "#### Number of records in each table"
   ]
  },
  {
   "cell_type": "code",
   "execution_count": 9,
   "metadata": {},
   "outputs": [
    {
     "name": "stdout",
     "output_type": "stream",
     "text": [
      "Number of records in accident table: (117536,)\n",
      "Number of records in vehicles table: (216381,)\n",
      "Number of records in casualties table: (153158,)\n"
     ]
    }
   ],
   "source": [
    "print(f\"Number of records in accident table: {dataraw['accidents'].shape}\")\n",
    "print(f\"Number of records in vehicles table: {dataraw['vehicles'].shape}\")\n",
    "print(f\"Number of records in casualties table: {dataraw['casualties'].shape}\")"
   ]
  },
  {
   "cell_type": "markdown",
   "metadata": {},
   "source": [
    "#### Number of fields in each table"
   ]
  },
  {
   "cell_type": "code",
   "execution_count": 10,
   "metadata": {},
   "outputs": [
    {
     "name": "stdout",
     "output_type": "stream",
     "text": [
      "Number of fields in the accident table: 32\n",
      "Number of fields in the vehicles table: 23\n",
      "Number of fields in the casualties table: 16\n"
     ]
    }
   ],
   "source": [
    "print(f\"Number of fields in the accident table: {len(dataraw['accidents'].dtype)}\")\n",
    "print(f\"Number of fields in the vehicles table: {len(dataraw['vehicles'].dtype)}\")\n",
    "print(f\"Number of fields in the casualties table: {len(dataraw['casualties'].dtype)}\")"
   ]
  },
  {
   "cell_type": "markdown",
   "metadata": {},
   "source": [
    "### Checking IDs"
   ]
  },
  {
   "cell_type": "markdown",
   "metadata": {},
   "source": [
    "#### Does every AccidentID in the casualties and vehicles tables have their corresponding AccidentID in the accident table?"
   ]
  },
  {
   "cell_type": "code",
   "execution_count": 11,
   "metadata": {},
   "outputs": [
    {
     "name": "stdout",
     "output_type": "stream",
     "text": [
      "Number of accident IDs in the casualties data: 153158 \n",
      "Number of IDs in the casualties data tha also appear in the accidents data: 153158\n",
      "\n",
      "Number of accident IDs in the vehicles data: 216381 \n",
      "Number of IDs in the cvehicles data tha also appear in the accidents data: 216381\n"
     ]
    }
   ],
   "source": [
    "raw_accident_AI=dataraw[\"accidents\"][\"Accident_Index\"]\n",
    "raw_vehicles_AI=dataraw[\"vehicles\"][\"Accident_Index\"]\n",
    "raw_casualties_AI=dataraw[\"casualties\"][\"Accident_Index\"]\n",
    "\n",
    "# Checking IDs in the Casualties table\n",
    "mask_missing_c_AI = np.where(np.isin(dataraw[\"casualties\"][\"Accident_Index\"], (raw_accident_AI)))\n",
    "print(\"Number of accident IDs in the casualties data:\",len(raw_casualties_AI),\n",
    "      \"\\nNumber of IDs in the casualties data tha also appear in the accidents data:\",len(raw_casualties_AI[mask_missing_c_AI]))\n",
    "\n",
    "# Checking IDs in the Vehicles table\n",
    "mask_missing_v_AI = np.where(np.isin(dataraw[\"vehicles\"][\"Accident_Index\"], (raw_accident_AI)))\n",
    "print(\"\")\n",
    "print(\"Number of accident IDs in the vehicles data:\",len(raw_vehicles_AI),\n",
    "      \"\\nNumber of IDs in the cvehicles data tha also appear in the accidents data:\", len(raw_vehicles_AI[mask_missing_v_AI]))"
   ]
  },
  {
   "cell_type": "markdown",
   "metadata": {},
   "source": [
    "This shows that each casualty and vehicle on their respective sheets are also represented on the accident sheet, based on the raw data."
   ]
  },
  {
   "cell_type": "code",
   "execution_count": null,
   "metadata": {},
   "outputs": [],
   "source": []
  },
  {
   "cell_type": "markdown",
   "metadata": {},
   "source": [
    "Yes, after cleaning both the casualties and vehicles sheets to only have records where their accident ID is in the cleaned Birmingham accident sheet."
   ]
  },
  {
   "cell_type": "markdown",
   "metadata": {},
   "source": [
    "#### Does every entry in the Accidents table reference the correct amount of entries in the vehicles and casualties tables?"
   ]
  },
  {
   "cell_type": "code",
   "execution_count": 12,
   "metadata": {},
   "outputs": [],
   "source": [
    "#dictionary of number of vehicles/casualties per ID\n",
    "num_vehicles_for_id={}\n",
    "num_casualties_for_id={}\n",
    "\n",
    "#add each accident index as a key to the dictionaries\n",
    "for i in dataraw[\"accidents\"]:\n",
    "    num_vehicles_for_id[i[\"Accident_Index\"]]=0\n",
    "    num_casualties_for_id[i[\"Accident_Index\"]]=0\n",
    "\n",
    "#count number of entries of each index in the vehicles/casualties tables\n",
    "for i in dataraw[\"vehicles\"]:\n",
    "    num_vehicles_for_id[i[\"Accident_Index\"]]+=1\n",
    "for i in dataraw[\"casualties\"]:\n",
    "    num_casualties_for_id[i[\"Accident_Index\"]]+=1"
   ]
  },
  {
   "cell_type": "code",
   "execution_count": 13,
   "metadata": {},
   "outputs": [],
   "source": [
    "#compare previous numbers to casualty and vehicle numbers listed on accidents table\n",
    "for i in dataraw[\"accidents\"]:\n",
    "    if i[\"Number_of_Vehicles\"]!=num_vehicles_for_id[i[\"Accident_Index\"]]:\n",
    "        print(\"There are mis-matching numbers of records i nvehicles data\")\n",
    "for i in dataraw[\"accidents\"]:\n",
    "    if i[\"Number_of_Casualties\"]!=num_casualties_for_id[i[\"Accident_Index\"]]:\n",
    "        print(\"There are mis-matching numbers of records in casualties data\")"
   ]
  },
  {
   "cell_type": "markdown",
   "metadata": {},
   "source": [
    "Nothing prints, which would indicate a mismatch. \n",
    "Hence we can say that the accidents table references the correct amount of entries in the vehicles and casualties tables"
   ]
  },
  {
   "cell_type": "markdown",
   "metadata": {},
   "source": [
    "### Masking for Birmingham"
   ]
  },
  {
   "cell_type": "markdown",
   "metadata": {},
   "source": [
    "Birmingham is listed as code \"300\" under the \"Local_Authority_District\" field. First we narrowed down the accidents table to only show records that match this code in that field."
   ]
  },
  {
   "cell_type": "code",
   "execution_count": 14,
   "metadata": {},
   "outputs": [],
   "source": [
    "# Create a dictionary to hold all of the clean data\n",
    "data_bir = {}\n",
    "\n",
    "# creating the mask to show the data for Birmingham on the accidents sheet\n",
    "birmingham_mask = np.where(dataraw[\"accidents\"][\"Local_Authority_District\"] == 300)\n",
    "data_bir[\"accidents\"] = dataraw[\"accidents\"][birmingham_mask]"
   ]
  },
  {
   "cell_type": "markdown",
   "metadata": {},
   "source": [
    "Then we narrowed down the casualties and vehicles sheets to only have records that would be reflected in the accident sheet, thereby having only records of that pertain to Birmingham."
   ]
  },
  {
   "cell_type": "code",
   "execution_count": 15,
   "metadata": {},
   "outputs": [],
   "source": [
    "# Create an array of the accident IDs related to Birmingham (use this to filter the other tables)\n",
    "accident_ids = np.array(data_bir[\"accidents\"][\"Accident_Index\"])\n",
    "\n",
    "# Create a mask to filter casualties table based on the accident ids\n",
    "casualties_mask = np.where(np.isin(dataraw[\"casualties\"][\"Accident_Index\"], (accident_ids)))\n",
    "data_bir[\"casualties\"] = dataraw[\"casualties\"][casualties_mask]"
   ]
  },
  {
   "cell_type": "code",
   "execution_count": 16,
   "metadata": {},
   "outputs": [],
   "source": [
    "# Create a mask to filter vehicles table based on the accident ids\n",
    "vehicles_mask = np.where(np.isin(dataraw[\"vehicles\"][\"Accident_Index\"], (accident_ids)))\n",
    "data_bir[\"vehicles\"] = dataraw[\"vehicles\"][vehicles_mask]"
   ]
  },
  {
   "cell_type": "markdown",
   "metadata": {},
   "source": [
    "### Identify for each variable whether it is numerical or categorical."
   ]
  },
  {
   "cell_type": "markdown",
   "metadata": {},
   "source": [
    "#### Insight: Mixed variable types\n",
    "\n",
    "Accidents have mixed data types, including strings, floats, and integers. Categorical variables are encoded as integers. The meaning of these categories can be looked up in: ../references/variable lookup.xls"
   ]
  },
  {
   "cell_type": "code",
   "execution_count": 17,
   "metadata": {},
   "outputs": [
    {
     "name": "stdout",
     "output_type": "stream",
     "text": [
      "Number of records in Birmingham accident table: (2623,)\n",
      "Number of records in Birmingham casualties table: (3551,)\n",
      "Number of records in Birmingham vehicles table: (4962,)\n"
     ]
    }
   ],
   "source": [
    "# Number of entries in each table after being filtered to Birmingham\n",
    "print(f\"Number of records in Birmingham accident table: {data_bir['accidents'].shape}\")\n",
    "print(f\"Number of records in Birmingham casualties table: {data_bir['casualties'].shape}\")\n",
    "print(f\"Number of records in Birmingham vehicles table: {data_bir['vehicles'].shape}\")"
   ]
  },
  {
   "cell_type": "markdown",
   "metadata": {},
   "source": [
    "We manually went through the variable lists to come up with which variables were categorical or numerical."
   ]
  },
  {
   "cell_type": "markdown",
   "metadata": {},
   "source": [
    "References<br>\n",
    "what is categorical - http://www.stat.yale.edu/Courses/1997-98/101/catdat.htm <br>\n",
    "the hell is LSOA - https://datadictionary.nhs.uk/nhs_business_definitions/lower_layer_super_output_area.html#:~:text=A%20Lower%20Layer%20Super%20Output,Lower%20Layer%20Super%20Output%20Areas\n",
    "decile -http://mast.roadsafetyanalysis.org/wiki/index.php?title=Driver_IMD_Decile#:~:text=An%20IMD%20decile%20is%20a,the%2010%25%20least%20deprived%20areas.\n"
   ]
  },
  {
   "cell_type": "markdown",
   "metadata": {},
   "source": [
    "**Acidents** <br><br>\n",
    "Accident_Index  - Categorical<br>\n",
    "Location_Easting_OSGR  - Numerical<br>\n",
    "Location_Northing_OSGR  - Numerical<br>\n",
    "Longitude  - Numerical<br>\n",
    "Latitude  - Numerical<br>\n",
    "Police_Force  - Categorical<br>\n",
    "Accident_Severity  - Categorical<br>\n",
    "Number_of_Vehicles  - Numerical<br>\n",
    "Number_of_Casualties  - Numerical<br>\n",
    "Date  - Numerical/Categorical<br>\n",
    "Day_of_Week  - Categorical<br>\n",
    "Time  - Numerical(but can be categorical)<br>\n",
    "Local_Authority_(District)  - Categorical<br>\n",
    "Local_Authority_(Highway)  - Categorical<br>\n",
    "1st_Road_Class  - Categorical<br>\n",
    "1st_Road_Number  - Categorical<br>\n",
    "Road_Type  - Categorical<br>\n",
    "Speed_limit  - Categorical(we questioned this)<br>\n",
    "Junction_Detail  - Categorical<br>\n",
    "Junction_Control  - Categorical<br>\n",
    "2nd_Road_Class  - Categorical<br>\n",
    "2nd_Road_Number  - Categorical<br>\n",
    "Pedestrian_Crossing-Human_Control  - Categorical<br>\n",
    "Pedestrian_Crossing-Physical_Facilities  - Categorical<br>\n",
    "Light_Conditions  - Categorical<br>\n",
    "Weather_Conditions  - Categorical<br>\n",
    "Road_Surface_Conditions  - Categorical<br>\n",
    "Special_Conditions_at_Site  - Categorical<br>\n",
    "Carriageway_Hazards  - Categorical<br>\n",
    "Urban_or_Rural_Area  - Categorical<br>\n",
    "Did_Police_Officer_Attend_Scene_of_Accident  - Categorical<br>\n",
    "LSOA_of_Accident_Location  - Categorical<br>"
   ]
  },
  {
   "cell_type": "markdown",
   "metadata": {},
   "source": [
    "**Vehicles**<br><br>\n",
    "Accident_Index  - Categorical<br>\n",
    "Vehicle_Reference  - Categorical<br>\n",
    "Vehicle_Type  - Categorical<br>\n",
    "Towing_and_Articulation  - Categorical<br>\n",
    "Vehicle_Manoeuvre  - Categorical<br>\n",
    "Vehicle_Location-Restricted_Lane  - Categorical<br>\n",
    "Junction_Location  - Categorical<br>\n",
    "Skidding_and_Overturning  - Categorical<br>\n",
    "Hit_Object_in_Carriageway  - Categorical<br>\n",
    "Vehicle_Leaving_Carriageway  - Categorical<br>\n",
    "Hit_Object_off_Carriageway  - Categorical<br>\n",
    "1st_Point_of_Impact  - Categorical<br>\n",
    "Was_Vehicle_Left_Hand_Drive?  - Categorical<br>\n",
    "Journey_Purpose_of_Driver  - Categorical<br>\n",
    "Sex_of_Driver  - Categorical<br>\n",
    "Age_of_Driver  - Numerical<br>\n",
    "Age_Band_of_Driver  - Categorical<br>\n",
    "Engine_Capacity_(CC)  - Numerical<br>\n",
    "Propulsion_Code  - Categorical(probably)<br>\n",
    "Age_of_Vehicle  - Numerical<br>\n",
    "Driver_IMD_Decile  - Categorical<br>\n",
    "Driver_Home_Area_Type  - Categorical<br>\n",
    "Vehicle_IMD_Decile  - Categorical<br>"
   ]
  },
  {
   "cell_type": "markdown",
   "metadata": {},
   "source": [
    "**Casualties** <br><br>\n",
    "Accident_Index  - Categorical<br>\n",
    "Vehicle_Reference  - Categorical<br>\n",
    "Casualty_Reference  - Categorical<br>\n",
    "Casualty_Class  - Categorical<br>\n",
    "Sex_of_Casualty  - Categorical<br>\n",
    "Age_of_Casualty  - Numerical<br>\n",
    "Age_Band_of_Casualty  - Categorical<br>\n",
    "Casualty_Severity  - Categorical<br>\n",
    "Pedestrian_Location  - Categorical<br>\n",
    "Pedestrian_Movement  - Categorical<br>\n",
    "Car_Passenger  - Categorical<br>\n",
    "Bus_or_Coach_Passenger  - Categorical<br>\n",
    "Pedestrian_Road_Maintenance_Worker  - Categorical<br>\n",
    "Casualty_Type  - Categorical<br>\n",
    "Casualty_Home_Area_Type  - Categorical<br>\n",
    "Casualty_IMD_Decile  - Categorical<br>"
   ]
  },
  {
   "cell_type": "markdown",
   "metadata": {},
   "source": [
    "## Dealing with missing data"
   ]
  },
  {
   "cell_type": "markdown",
   "metadata": {},
   "source": [
    "#### First we will go through missing data from the unfiltered data for all of UK"
   ]
  },
  {
   "cell_type": "code",
   "execution_count": 18,
   "metadata": {},
   "outputs": [],
   "source": [
    "dataraw_masked = {}\n",
    "for variable_name in TABLENAMES:\n",
    "    dataraw_masked[variable_name] = np.genfromtxt(PATH[\"data_raw\"] + FILENAME[variable_name], delimiter = ',', \n",
    "                                                  dtype = None, names = True, encoding='utf-8-sig', usemask = True)"
   ]
  },
  {
   "cell_type": "code",
   "execution_count": 19,
   "metadata": {},
   "outputs": [],
   "source": [
    "# Rows where data is missing\n",
    "row_incomplete = np.where(dataraw_masked[\"accidents\"].mask)[0]"
   ]
  },
  {
   "cell_type": "code",
   "execution_count": 20,
   "metadata": {},
   "outputs": [],
   "source": [
    "missingpositions = {}\n",
    "missingvalues = 0\n",
    "missingconfigurations = set()\n",
    "for rowpos in row_incomplete:\n",
    "    missingpositions_thisrow = list(np.where(list(dataraw_masked[\"accidents\"].mask[rowpos]))[0])\n",
    "    missingpositions[rowpos] = missingpositions_thisrow\n",
    "    missingvalues += len(missingpositions_thisrow)\n",
    "    missingconfigurations.add(tuple(missingpositions_thisrow))\n",
    "    \n",
    "missingfieldnames = [np.array(variable_names_raw[\"accidents\"])[c] for c in [list(b) for b in missingconfigurations]]"
   ]
  },
  {
   "cell_type": "code",
   "execution_count": 21,
   "metadata": {},
   "outputs": [
    {
     "name": "stdout",
     "output_type": "stream",
     "text": [
      "Incomplete rows: 5776\n",
      "Percentage of rows with missing values: 0.05%\n",
      "Missing values: 5889\n",
      "\n",
      "Missing field configurations: {(11,), (1, 2, 3, 4, 31), (11, 31), (31,)}\n",
      "['Time']\n",
      "['Location_Easting_OSGR' 'Location_Northing_OSGR' 'Longitude' 'Latitude'\n",
      " 'LSOA_of_Accident_Location']\n",
      "['Time' 'LSOA_of_Accident_Location']\n",
      "['LSOA_of_Accident_Location']\n"
     ]
    }
   ],
   "source": [
    "print(\"Incomplete rows: \" + str(np.count_nonzero(dataraw_masked[\"accidents\"].mask)))\n",
    "print(f\"Percentage of rows with missing values: {round(5776/117536, 2)}%\")\n",
    "print(\"Missing values: \" + str(missingvalues))\n",
    "\n",
    "print(\"\\nMissing field configurations: \" + str(missingconfigurations))\n",
    "for i in missingfieldnames:\n",
    "    print(i)"
   ]
  },
  {
   "cell_type": "markdown",
   "metadata": {},
   "source": [
    "#### Then, we will repeat the same steps with the tables that only contain records of Birmingham."
   ]
  },
  {
   "cell_type": "code",
   "execution_count": 22,
   "metadata": {},
   "outputs": [],
   "source": [
    "# Create a dictionary for the clean, masked data\n",
    "data_bir_masked = {}\n",
    "\n",
    "# creating the mask to show the data for Birmingham on the accidents sheet\n",
    "birmingham_mask2 = np.where(dataraw_masked[\"accidents\"][\"Local_Authority_District\"] == 300)\n",
    "data_bir_masked[\"accidents\"] = dataraw_masked[\"accidents\"][birmingham_mask2]"
   ]
  },
  {
   "cell_type": "code",
   "execution_count": 23,
   "metadata": {},
   "outputs": [],
   "source": [
    "# Create an array of the accident IDs related to Birmingham (use this to filter the other tables)\n",
    "accident_ids2 = np.array(data_bir_masked[\"accidents\"][\"Accident_Index\"])\n",
    "\n",
    "# Create a mask to filter casualties table based on the accident ids\n",
    "casualties_mask2 = np.where(np.isin(dataraw_masked[\"casualties\"][\"Accident_Index\"], (accident_ids2)))\n",
    "data_bir_masked[\"casualties\"] = dataraw_masked[\"casualties\"][casualties_mask2]"
   ]
  },
  {
   "cell_type": "code",
   "execution_count": 24,
   "metadata": {},
   "outputs": [],
   "source": [
    "# Create a mask to filter vehicles table based on the accident ids\n",
    "vehicles_mask2 = np.where(np.isin(dataraw_masked[\"vehicles\"][\"Accident_Index\"], (accident_ids2)))\n",
    "data_bir_masked[\"vehicles\"] = dataraw_masked[\"vehicles\"][vehicles_mask2]"
   ]
  },
  {
   "cell_type": "code",
   "execution_count": 25,
   "metadata": {},
   "outputs": [
    {
     "name": "stdout",
     "output_type": "stream",
     "text": [
      "Number of rows with missing values: 0\n",
      "Number of rows with missing values: 0\n",
      "Number of rows with missing values: 0\n"
     ]
    }
   ],
   "source": [
    "print(f\"Number of rows with missing values: {np.count_nonzero(data_bir_masked['accidents'].mask)}\")\n",
    "print(f\"Number of rows with missing values: {np.count_nonzero(data_bir_masked['casualties'].mask)}\")\n",
    "print(f\"Number of rows with missing values: {np.count_nonzero(data_bir_masked['vehicles'].mask)}\")"
   ]
  },
  {
   "cell_type": "markdown",
   "metadata": {},
   "source": [
    "It seems there are no records in our Birmingham data set that have missing values. By missing values, we mean that there is an empty field. It is still possible that there is a value \"-1\" entered into a field, which means \"missing\" or \"unknown\" depending on the variable."
   ]
  },
  {
   "cell_type": "markdown",
   "metadata": {},
   "source": [
    "### Making sure the values make sense (ex. Age cannot = -1)\n",
    "What we need to check for:\n",
    "- making sure that values for missing values can't be interpreted as real values\n",
    "<br>especially for numerical values as missing values stored as 999999 for example may affect calculations\n",
    "- counts of missing values in each column\n",
    "we dont think doing this would be usefull. \n",
    "But if needed in futrue the njust make a mask of the data where the values are \"missing values\" and find length\n",
    "\n",
    "#### Numerical Variables \n",
    "The missing values represented as:<br>\n",
    "(Looked up in Excel)\n",
    "<br>\n",
    "\n",
    "##### Note: all the following points are in regard to ALL the data and not just the Birmingham Data\n",
    "\n",
    "**Accidents** <br><br>\n",
    "Location_Easting_OSGR: Null (No values missing)<br>\n",
    "Location_Northing_OSGR: Null <br>\n",
    "Longitude: Null<br>\n",
    "Latitude: Null<br>\n",
    "Number_of_Vehicles: values from 1-17 none missing  <br>\n",
    "Number_of_Casualties: values from 1-52 none missing<br>\n",
    "<br>\n",
    "**Vehicles**<br><br>\n",
    "Age_of_Driver: 1-102 missing is -1 (we should change this or at least be aware of this if we want to do any numerical analysis) the one year old was driving an unidentified vehicle and was not hurt<br>\n",
    "Engine_Capacity_(CC): 1-29980 missing values -1  (we should change this or at least be aware of this if we want to do any numerical analysis)<br>\n",
    "Age_of_Vehicle: 1-94 missing vaules are -1 (we should change this or at least be aware of this if we want to do any numerical analysis)<br>\n",
    "<br>\n",
    "**Casualties**<br><br>\n",
    "Age_of_Casualty:  -1 (we should change this or at least be aware of this if we want to do any numerical analysis)\n",
    "<br>"
   ]
  },
  {
   "cell_type": "code",
   "execution_count": 26,
   "metadata": {},
   "outputs": [],
   "source": [
    "# Cleaning the Age_of_Driver to account for negative numbers\n",
    "age_cleaning_mask = np.where(data_bir[\"vehicles\"][\"Age_of_Driver\"] > 0)\n",
    "clean_AOD_accidents = data_bir[\"vehicles\"][age_cleaning_mask]"
   ]
  },
  {
   "cell_type": "code",
   "execution_count": 27,
   "metadata": {},
   "outputs": [],
   "source": [
    "# Cleaning the Engine_Capacity_CC for negative numbers\n",
    "EC_cleaning_mask = np.where(data_bir[\"vehicles\"][\"Engine_Capacity_CC\"] > 0)\n",
    "clean_EC_vehicles = data_bir[\"vehicles\"][EC_cleaning_mask]"
   ]
  },
  {
   "cell_type": "code",
   "execution_count": 28,
   "metadata": {},
   "outputs": [],
   "source": [
    "# Cleaning the Age_of_Vehicle for negative numbers\n",
    "AOV_cleaning_mask = np.where(data_bir[\"vehicles\"][\"Age_of_Vehicle\"] > 0)\n",
    "clean_AOV_vehicles = data_bir[\"vehicles\"][AOV_cleaning_mask]"
   ]
  },
  {
   "cell_type": "code",
   "execution_count": 29,
   "metadata": {},
   "outputs": [],
   "source": [
    "# Cleaning the Age_of_Casualty for negative numbers\n",
    "AOC_cleaning_mask = np.where(data_bir[\"casualties\"][\"Age_of_Casualty\"] > 0)\n",
    "clean_AOC_casualties = data_bir[\"casualties\"][AOC_cleaning_mask]"
   ]
  },
  {
   "cell_type": "markdown",
   "metadata": {},
   "source": [
    "We may not necessarily use these variables. It was an exercise to make sure we could clean the data to remove entries (such as -1) that do not make sense. We can do this same technique where applicable when plotting the data."
   ]
  },
  {
   "cell_type": "markdown",
   "metadata": {},
   "source": [
    "### Five number summarys for all numerical variables, Box Plots, Frequency Histograms"
   ]
  },
  {
   "cell_type": "markdown",
   "metadata": {},
   "source": [
    "#### Number of vehicles"
   ]
  },
  {
   "cell_type": "code",
   "execution_count": 30,
   "metadata": {},
   "outputs": [
    {
     "name": "stdout",
     "output_type": "stream",
     "text": [
      "Min: 1.000\n",
      "Q1: 1.000\n",
      "Median: 2.000\n",
      "Q3: 2.000\n",
      "Max: 7.000\n"
     ]
    }
   ],
   "source": [
    "number_of_vehicles = data_bir[\"accidents\"][\"Number_of_Vehicles\"]\n",
    "five_num_sum(number_of_vehicles)"
   ]
  },
  {
   "cell_type": "code",
   "execution_count": 31,
   "metadata": {},
   "outputs": [
    {
     "data": {
      "text/plain": [
       "<Figure size 432x432 with 0 Axes>"
      ]
     },
     "metadata": {},
     "output_type": "display_data"
    },
    {
     "data": {
      "image/png": "[encoded data removed]",
      "text/plain": [
       "<Figure size 432x288 with 2 Axes>"
      ]
     },
     "metadata": {
      "needs_background": "light"
     },
     "output_type": "display_data"
    }
   ],
   "source": [
    "#Histogram and Boxplot for Number_of_Vehicles \n",
    "fig = plt.figure(figsize=(6,6));\n",
    "fig, (ax1, ax2) = plt.subplots(2, 1);\n",
    "ax1.hist(number_of_vehicles, 6, density= True, color='#0D8CFF');\n",
    "ax2.boxplot(number_of_vehicles, showfliers= True, vert=False, whis = [0,100]);\n",
    "\n",
    "ax1.set_xlabel('Number of vehicles');\n",
    "ax1.set_ylabel('Frequency');\n",
    "\n",
    "ax2.set_yticks([])\n",
    "ax2.set_xlabel('Number of vehicles');\n",
    "fig.suptitle('Number of Vehicles involved in an accident');"
   ]
  },
  {
   "cell_type": "markdown",
   "metadata": {},
   "source": [
    "There were at most 7 vehicles involved in an accident in Birmingham. The median number of cars is 2 per accident."
   ]
  },
  {
   "cell_type": "markdown",
   "metadata": {},
   "source": [
    "#### Number of Casualties"
   ]
  },
  {
   "cell_type": "code",
   "execution_count": 32,
   "metadata": {},
   "outputs": [
    {
     "name": "stdout",
     "output_type": "stream",
     "text": [
      "Min: 1.000\n",
      "Q1: 1.000\n",
      "Median: 1.000\n",
      "Q3: 1.000\n",
      "Max: 8.000\n"
     ]
    }
   ],
   "source": [
    "number_of_casualties = sorted(data_bir[\"accidents\"][\"Number_of_Casualties\"])\n",
    "five_num_sum(number_of_casualties)"
   ]
  },
  {
   "cell_type": "code",
   "execution_count": 33,
   "metadata": {},
   "outputs": [
    {
     "data": {
      "text/plain": [
       "<Figure size 432x432 with 0 Axes>"
      ]
     },
     "metadata": {},
     "output_type": "display_data"
    },
    {
     "data": {
      "image/png": "[encoded data removed]",
      "text/plain": [
       "<Figure size 432x288 with 2 Axes>"
      ]
     },
     "metadata": {
      "needs_background": "light"
     },
     "output_type": "display_data"
    }
   ],
   "source": [
    "#Histogram and Boxplot for number_of_casualties \n",
    "fig = plt.figure(figsize=(6,6));\n",
    "fig, (ax1, ax2) = plt.subplots(2, 1);\n",
    "ax1.hist(number_of_casualties, 7, color='#0D8CFF');\n",
    "ax2.boxplot(number_of_casualties, showfliers= True, vert=False, whis = [0, 100]);\n",
    "\n",
    "ax1.set_xlabel('Number of Casualties per accident');\n",
    "ax1.set_ylabel('Frequency');\n",
    "\n",
    "ax2.set_yticks([])\n",
    "ax2.set_xlabel('Number of Casualties per accident');\n",
    "fig.suptitle('Casualties');     "
   ]
  },
  {
   "cell_type": "markdown",
   "metadata": {},
   "source": [
    "There have been at most 8 casualties involved in an accident in Birmingham. However, the min, Q1, median, and Q2 values are all 1, showing that there are usually only 1 casualty involved."
   ]
  },
  {
   "cell_type": "markdown",
   "metadata": {},
   "source": [
    "#### Age of Driver"
   ]
  },
  {
   "cell_type": "code",
   "execution_count": 34,
   "metadata": {},
   "outputs": [
    {
     "name": "stdout",
     "output_type": "stream",
     "text": [
      "Min: 3.000\n",
      "Q1: 27.000\n",
      "Median: 36.000\n",
      "Q3: 48.000\n",
      "Max: 93.000\n"
     ]
    }
   ],
   "source": [
    "age_of_driver = sorted(clean_AOD_accidents[\"Age_of_Driver\"])\n",
    "five_num_sum(age_of_driver)"
   ]
  },
  {
   "cell_type": "code",
   "execution_count": 35,
   "metadata": {},
   "outputs": [
    {
     "data": {
      "text/plain": [
       "<Figure size 432x432 with 0 Axes>"
      ]
     },
     "metadata": {},
     "output_type": "display_data"
    },
    {
     "data": {
      "image/png": "[encoded data removed]",
      "text/plain": [
       "<Figure size 432x288 with 2 Axes>"
      ]
     },
     "metadata": {
      "needs_background": "light"
     },
     "output_type": "display_data"
    }
   ],
   "source": [
    "#Histogram and Boxplot for age_of_driver\n",
    "fig = plt.figure(figsize=(6,6));\n",
    "fig, (ax1, ax2) = plt.subplots(2, 1);\n",
    "ax1.hist(age_of_driver, 45, color='#0D8CFF');\n",
    "ax2.boxplot(age_of_driver, showfliers= False, vert=False, whis = [0,100]);\n",
    "\n",
    "ax1.set_xlabel('Age');\n",
    "ax1.set_ylabel('Frequency');\n",
    "\n",
    "ax2.set_yticks([])\n",
    "ax2.set_xlabel('Age');\n",
    "fig.suptitle('Age of drivers');"
   ]
  },
  {
   "cell_type": "markdown",
   "metadata": {},
   "source": [
    "Age of drivers involved in accidents in Birmingham range from 3 to 93. The bulk seem to be between mid-20's to mid-40's, with the median being 36."
   ]
  },
  {
   "cell_type": "markdown",
   "metadata": {},
   "source": [
    "#### Engine Capacity"
   ]
  },
  {
   "cell_type": "code",
   "execution_count": 36,
   "metadata": {},
   "outputs": [
    {
     "name": "stdout",
     "output_type": "stream",
     "text": [
      "Min: 49.000\n",
      "Q1: 1360.000\n",
      "Median: 1598.000\n",
      "Q3: 1988.000\n",
      "Max: 12902.000\n"
     ]
    }
   ],
   "source": [
    "#using the data from clean_EC_vehicles\n",
    "engine_capacity = sorted(clean_EC_vehicles[\"Engine_Capacity_CC\"])\n",
    "quartiles_EC = np.percentile(engine_capacity, [25, 50, 75])\n",
    "\n",
    "five_num_sum(engine_capacity)"
   ]
  },
  {
   "cell_type": "code",
   "execution_count": 37,
   "metadata": {},
   "outputs": [
    {
     "data": {
      "text/plain": [
       "<Figure size 432x432 with 0 Axes>"
      ]
     },
     "metadata": {},
     "output_type": "display_data"
    },
    {
     "data": {
      "image/png": "[encoded data removed]",
      "text/plain": [
       "<Figure size 432x288 with 2 Axes>"
      ]
     },
     "metadata": {
      "needs_background": "light"
     },
     "output_type": "display_data"
    }
   ],
   "source": [
    "#Histogram and Boxplot for engine_capacity\n",
    "fig = plt.figure(figsize=(6,6));\n",
    "fig, (ax1, ax2) = plt.subplots(2, 1);\n",
    "ax1.hist(engine_capacity, 45, color='#0D8CFF');\n",
    "ax2.boxplot(engine_capacity, showfliers= False, vert=False, whis= [0,100]);\n",
    "\n",
    "ax1.set_xlabel('Engine capacity');\n",
    "ax1.set_ylabel('Frequency');\n",
    "\n",
    "ax2.set_yticks([])\n",
    "ax2.set_xlabel('Engine capacity');\n",
    "fig.suptitle('Engine capacity of Vehicles in an Accident');"
   ]
  },
  {
   "cell_type": "markdown",
   "metadata": {},
   "source": [
    "Engine capacity of vehicles involved in accidents range from 49 to 12902. The data reference sheet does not specify whether it is in cc or horsepower, but cc seems like it could apply here, with a 49cc engine belonging to a scooter, and a 12902 being a high-end sports car or a train. The Q1, median, and Q2 figures are 1360, 1598, and 1988, which all fall under typical engine sizes in cc."
   ]
  },
  {
   "cell_type": "markdown",
   "metadata": {},
   "source": [
    "#### Age of Vehicle"
   ]
  },
  {
   "cell_type": "code",
   "execution_count": 38,
   "metadata": {},
   "outputs": [
    {
     "name": "stdout",
     "output_type": "stream",
     "text": [
      "Min: 1.000\n",
      "Q1: 4.000\n",
      "Median: 9.000\n",
      "Q3: 12.000\n",
      "Max: 36.000\n"
     ]
    }
   ],
   "source": [
    "#using the data from clean_AOV_vehicles\n",
    "age_of_vehicle = sorted(clean_AOV_vehicles[\"Age_of_Vehicle\"])\n",
    "five_num_sum(age_of_vehicle)"
   ]
  },
  {
   "cell_type": "code",
   "execution_count": 39,
   "metadata": {
    "scrolled": true
   },
   "outputs": [
    {
     "data": {
      "text/plain": [
       "<Figure size 360x360 with 0 Axes>"
      ]
     },
     "metadata": {},
     "output_type": "display_data"
    },
    {
     "data": {
      "image/png": "[encoded data removed]",
      "text/plain": [
       "<Figure size 432x288 with 2 Axes>"
      ]
     },
     "metadata": {
      "needs_background": "light"
     },
     "output_type": "display_data"
    }
   ],
   "source": [
    "#Histogram and Boxplot for age_of_vehicle\n",
    "fig = plt.figure(figsize=(5,5));\n",
    "fig, (ax1, ax2) = plt.subplots(2, 1);\n",
    "ax1.hist(age_of_vehicle, 35, color='#0D8CFF');\n",
    "ax2.boxplot(age_of_vehicle, showfliers= False, vert=False, whis= [0,100]);\n",
    "\n",
    "ax1.set_ylabel('Frequency');\n",
    "\n",
    "ax2.set_yticks([])\n",
    "ax2.set_xlabel('Age of vehicle');\n",
    "fig.suptitle('Age of vehicle involved in an Accident');"
   ]
  },
  {
   "cell_type": "markdown",
   "metadata": {},
   "source": [
    "Minimum vehicle age is 1, and maximum is 36 for vehicles involved in accidents in Birmingham, with majority of those falling between 4 and 12 years old."
   ]
  },
  {
   "cell_type": "markdown",
   "metadata": {},
   "source": [
    "#### Age of Casualty"
   ]
  },
  {
   "cell_type": "code",
   "execution_count": 40,
   "metadata": {},
   "outputs": [
    {
     "name": "stdout",
     "output_type": "stream",
     "text": [
      "Min: 1.000\n",
      "Q1: 22.000\n",
      "Median: 32.000\n",
      "Q3: 46.000\n",
      "Max: 94.000\n"
     ]
    }
   ],
   "source": [
    "# using the data from clean_AOC_casualties\n",
    "age_of_casualty = sorted(clean_AOC_casualties[\"Age_of_Casualty\"])\n",
    "five_num_sum(age_of_casualty)"
   ]
  },
  {
   "cell_type": "code",
   "execution_count": 41,
   "metadata": {
    "scrolled": true
   },
   "outputs": [
    {
     "data": {
      "text/plain": [
       "<Figure size 360x360 with 0 Axes>"
      ]
     },
     "metadata": {},
     "output_type": "display_data"
    },
    {
     "data": {
      "image/png": "[encoded data removed]",
      "text/plain": [
       "<Figure size 432x288 with 2 Axes>"
      ]
     },
     "metadata": {
      "needs_background": "light"
     },
     "output_type": "display_data"
    }
   ],
   "source": [
    "#Histogram and Boxplot for age_of_casualty\n",
    "fig = plt.figure(figsize=(5,5));\n",
    "fig, (ax1, ax2) = plt.subplots(2, 1);\n",
    "ax1.hist(age_of_casualty, 45, color='#0D8CFF');\n",
    "ax2.boxplot(age_of_casualty, showfliers= False, vert=False, whis=[0,100]);\n",
    "\n",
    "ax1.set_ylabel('Frequency');\n",
    "\n",
    "ax2.set_yticks([])\n",
    "ax2.set_xlabel('Age');\n",
    "fig.suptitle('Age of Casualties');"
   ]
  },
  {
   "cell_type": "markdown",
   "metadata": {},
   "source": [
    "Casualties range from 1 to 94 years old, with the majority being between ages 22 and 46. The data seems right tailed, indicating that there are less causualites in the higher age ranges than there are in the lower age ranges."
   ]
  },
  {
   "cell_type": "markdown",
   "metadata": {},
   "source": [
    "# Task 1: Single Variable Analysis\n",
    "Report the frequency of road collisions in your city for 1) different age groups, 2) in different times\n",
    "(during the day, the week, or year), 3) and for differences in one other condition.\n",
    "\n",
    "##### We are also comparing for the whole of the UK to Birmingham"
   ]
  },
  {
   "cell_type": "markdown",
   "metadata": {},
   "source": [
    "#### Vehicle type counts for Birmingham and the UK"
   ]
  },
  {
   "cell_type": "code",
   "execution_count": 42,
   "metadata": {},
   "outputs": [],
   "source": [
    "field_categories = {1: \"Pedal cycle\", 2: \"Motorcycle 50cc-\", 3: \"Motorcycle 125cc-\", 4: \"Motorcycle (125cc-500cc)\", \n",
    "                    5: \"Motorcycle 500cc+\", 8: \"Taxi\", 9: \"Car\", 10 : \"Minibus (8-16 passenger)\", \n",
    "                    11: \"Bus or coach (17+ passenger)\", 16: \"Ridden horse\", 17: \"Agricultural vehicle\", 18: \"Tram\", \n",
    "                    19: \"Van / Goods 3.5t-\", 20: \"Goods (3.5t-7.5t)\", 21: \"Goods 7.5t+\", 22: \"Mobility scooter\", \n",
    "                    23: \"Electric motorcycle\", 90: \"Other vehicle\", 97: \"Motorcycle - unknown cc\", \n",
    "                    98: \"Goods vehicle - unknown weight\", -1: \"Data missing\"}"
   ]
  },
  {
   "cell_type": "code",
   "execution_count": 43,
   "metadata": {},
   "outputs": [
    {
     "data": {
      "text/plain": [
       "<Figure size 720x720 with 0 Axes>"
      ]
     },
     "metadata": {},
     "output_type": "display_data"
    },
    {
     "data": {
      "image/png": "[encoded data removed]",
      "text/plain": [
       "<Figure size 864x360 with 2 Axes>"
      ]
     },
     "metadata": {
      "needs_background": "light"
     },
     "output_type": "display_data"
    }
   ],
   "source": [
    "categories, counts = np.unique(data_bir[\"vehicles\"][\"Vehicle_Type\"], return_counts=True)\n",
    "cat2, count2 = np.unique(dataraw[\"vehicles\"][\"Vehicle_Type\"], return_counts=True)\n",
    "\n",
    "fig = plt.figure(figsize= (10,10));\n",
    "fig, (ax1,ax2) = plt.subplots(1,2,figsize=(12,5));\n",
    "fig.autofmt_xdate(rotation=45)\n",
    "\n",
    "ax1.bar(range(len(categories)),counts, fc = \"#11CEFF\")\n",
    "ax2.bar(range(len(cat2)),count2, fc = \"#11CEFF\")\n",
    "\n",
    "ax1.set_xticks(range(len(categories)))\n",
    "ax1.set_title(\"Type of Vehicles in Birmingham\")\n",
    "ax1.set_xticklabels([field_categories[c] for c in categories])\n",
    "ax1.set_ylabel(\"Counts\")\n",
    "\n",
    "ax2.set_xticks(range(len(cat2)))\n",
    "ax2.set_title(\"Type of Vehicles in the whole UK\")\n",
    "ax2.set_xticklabels([field_categories[c] for c in cat2])\n",
    "\n",
    "plt.show()"
   ]
  },
  {
   "cell_type": "markdown",
   "metadata": {},
   "source": [
    "We had thought that Birmingham would have more bus accidents due to its central location between other parts of the UK, but we see that the majority are quite largely cars."
   ]
  },
  {
   "cell_type": "code",
   "execution_count": 44,
   "metadata": {},
   "outputs": [
    {
     "data": {
      "text/plain": [
       "<Figure size 720x720 with 0 Axes>"
      ]
     },
     "metadata": {},
     "output_type": "display_data"
    },
    {
     "data": {
      "image/png": "[encoded data removed]",
      "text/plain": [
       "<Figure size 864x360 with 2 Axes>"
      ]
     },
     "metadata": {
      "needs_background": "light"
     },
     "output_type": "display_data"
    }
   ],
   "source": [
    "field_categories = {1: \"Pedal cycle\", 2: \"Motorcycle 50cc-\", 3: \"Motorcycle 125cc-\", 4: \"Motorcycle (125cc-500cc)\", \n",
    "                    5: \"Motorcycle 500cc+\", 8: \"Taxi\", 10 : \"Minibus (8-16 passenger)\", 11: \"Bus or coach (17+ passenger)\", \n",
    "                    16: \"Ridden horse\", 17: \"Agricultural vehicle\", 18: \"Tram\", 19: \"Van / Goods 3.5t-\", 20: \"Goods (3.5t-7.5t)\",\n",
    "                    21: \"Goods 7.5t+\", 22: \"Mobility scooter\", 23: \"Electric motorcycle\", 90: \"Other vehicle\", \n",
    "                    97: \"Motorcycle - unknown cc\", 98: \"Goods vehicle - unknown weight\", -1: \"Data missing\"}\n",
    "\n",
    "mask = (data_bir[\"vehicles\"][\"Vehicle_Type\"] != 9)\n",
    "bir_veh_no_car = data_bir[\"vehicles\"][mask]\n",
    "\n",
    "mask = (dataraw[\"vehicles\"][\"Vehicle_Type\"] != 9)\n",
    "uk_veh_no_car = dataraw[\"vehicles\"][mask]\n",
    "\n",
    "categories, counts = np.unique(bir_veh_no_car[\"Vehicle_Type\"], return_counts=True)\n",
    "cat2, count2 = np.unique(uk_veh_no_car[\"Vehicle_Type\"], return_counts=True)\n",
    "\n",
    "fig = plt.figure(figsize= (10,10));\n",
    "fig, (ax1,ax2) = plt.subplots(1,2,figsize=(12,5));\n",
    "fig.autofmt_xdate(rotation=45)\n",
    "\n",
    "ax1.bar(range(len(categories)),counts, fc = \"#11CEFF\")\n",
    "ax2.bar(range(len(cat2)),count2, fc = \"#11CEFF\")\n",
    "\n",
    "ax1.set_xticks(range(len(categories)))\n",
    "ax1.set_title(\"Type of Vehicles in Birmingham (excluding cars)\")\n",
    "ax1.set_xticklabels([field_categories[c] for c in categories])\n",
    "ax1.set_ylabel(\"Counts\")\n",
    "\n",
    "ax2.set_xticks(range(len(cat2)))\n",
    "ax2.set_title(\"Type of Vehicles in the whole UK (excluing cars)\")\n",
    "ax2.set_xticklabels([field_categories[c] for c in cat2])\n",
    "\n",
    "plt.show()"
   ]
  },
  {
   "cell_type": "markdown",
   "metadata": {},
   "source": [
    "After removing car data and plotting the vehicles, it is easier to narrow in on which vehicles are involved in accidents outside of cars. We did not delve further into this, since cars are still involved in a large majority of accidents. But it would be interesting, given more time, if we could see how to make the roads safer by targeting specific vehicle types."
   ]
  },
  {
   "cell_type": "markdown",
   "metadata": {},
   "source": [
    "#### Comparing Sex of Driver for Birmingham and the UK"
   ]
  },
  {
   "cell_type": "code",
   "execution_count": 45,
   "metadata": {},
   "outputs": [],
   "source": [
    "# Remove unknown or out of range from Birminham data\n",
    "gender_mask = (data_bir[\"vehicles\"][\"Sex_of_Driver\"] == 1 ) | ( data_bir[\"vehicles\"][\"Sex_of_Driver\"] == 2)\n",
    "bir_driver_gender_masked = data_bir[\"vehicles\"][gender_mask]\n",
    "\n",
    "# Remove unknown or out of range from UK data\n",
    "mask1 = (dataraw[\"vehicles\"][\"Sex_of_Driver\"] == 1 ) | ( dataraw[\"vehicles\"][\"Sex_of_Driver\"] == 2)\n",
    "uk_driver_masked = dataraw[\"vehicles\"][mask1]"
   ]
  },
  {
   "cell_type": "code",
   "execution_count": 46,
   "metadata": {},
   "outputs": [
    {
     "data": {
      "text/plain": [
       "<Figure size 360x360 with 0 Axes>"
      ]
     },
     "metadata": {},
     "output_type": "display_data"
    },
    {
     "data": {
      "image/png": "[encoded data removed]",
      "text/plain": [
       "<Figure size 720x360 with 2 Axes>"
      ]
     },
     "metadata": {
      "needs_background": "light"
     },
     "output_type": "display_data"
    }
   ],
   "source": [
    "cat_sex_driver, count_sex_driver = np.unique(bir_driver_gender_masked[\"Sex_of_Driver\"], return_counts=True)\n",
    "cat_sex_driver_uk, count_sex_driver_uk = np.unique(uk_driver_masked[\"Sex_of_Driver\"], return_counts=True)\n",
    "\n",
    "fig = plt.figure(figsize= (5,5));\n",
    "fig, (ax1,ax2) = plt.subplots(1,2,figsize=(10,5));\n",
    "fig.autofmt_xdate(rotation=45)\n",
    "\n",
    "ax1.bar(range(len(cat_sex_driver)),count_sex_driver, color = [\"#236EF5\",\"#3ADEA1\"])\n",
    "ax2.bar(range(len(cat_sex_driver_uk)),count_sex_driver_uk, color = [\"#236EF5\",\"#3ADEA1\"])\n",
    "\n",
    "ax1.set_xticks(range(len(cat_sex_driver)))\n",
    "ax1.set_title(\"Sex of Drivers in Birmingham\")\n",
    "ax1.set_xticklabels([\"Male\", \"Female\"])\n",
    "\n",
    "ax2.set_xticks(range(len(cat_sex_driver_uk)))\n",
    "ax2.set_title(\"Sex of Drivers in the whole UK\")\n",
    "ax2.set_xticklabels([\"Male\", \"Female\"])\n",
    "\n",
    "plt.show()"
   ]
  },
  {
   "cell_type": "code",
   "execution_count": 47,
   "metadata": {},
   "outputs": [
    {
     "data": {
      "text/plain": [
       "<Figure size 360x360 with 0 Axes>"
      ]
     },
     "metadata": {},
     "output_type": "display_data"
    },
    {
     "data": {
      "image/png": "[encoded data removed]",
      "text/plain": [
       "<Figure size 720x360 with 2 Axes>"
      ]
     },
     "metadata": {},
     "output_type": "display_data"
    }
   ],
   "source": [
    "labels = \"Male\", \" Female\"\n",
    "percentages_bir = [(count_sex_driver[0]/sum(count_sex_driver))*100, (count_sex_driver[1]/sum(count_sex_driver))*100]\n",
    "percentages_UK = [(count_sex_driver_uk[0]/sum(count_sex_driver_uk))*100, (count_sex_driver_uk[1]/sum(count_sex_driver_uk))*100]\n",
    "\n",
    "fig = plt.figure(figsize=(5,5))\n",
    "fig, (ax1,ax2) = plt.subplots(1,2,figsize=(10,5))\n",
    "ax1.pie(percentages_bir, labels=labels, explode = [0.1,0],shadow = True, colors = [\"#236EF5\",\"#3ADEA1\"],startangle=90, autopct='%1.2f%%')\n",
    "ax1.set_title(\"Sex of Drivers in Birmingham\")\n",
    "\n",
    "ax2.pie(percentages_UK, labels=labels, explode = [0.1,0],shadow = True, colors = [\"#236EF5\",\"#3ADEA1\"], startangle=90, autopct='%1.2f%%')\n",
    "ax2.set_title(\"Sex of Drivers in the UK\")\n",
    "\n",
    "plt.show()"
   ]
  },
  {
   "cell_type": "code",
   "execution_count": 48,
   "metadata": {},
   "outputs": [
    {
     "name": "stdout",
     "output_type": "stream",
     "text": [
      "Percentage of male drivers in Birmingham 0.23%\n",
      "Percentage of female drivers in Birmingham 29.37%\n",
      "\n",
      "Percentage of male drivers in the whole UK 0.49%\n",
      "Percentage of female drivers in the whole UK 27.38%\n"
     ]
    }
   ],
   "source": [
    "print(f\"Percentage of male drivers in Birmingham {round((counts[0]/sum(counts))*100,2)}%\")\n",
    "print(f\"Percentage of female drivers in Birmingham {round((counts[1]/sum(counts))*100,2)}%\")\n",
    "print(\"\")\n",
    "print(f\"Percentage of male drivers in the whole UK {round((count2[0]/sum(count2))*100,2)}%\")\n",
    "print(f\"Percentage of female drivers in the whole UK {round((count2[1]/sum(count2))*100,2)}%\")"
   ]
  },
  {
   "cell_type": "markdown",
   "metadata": {},
   "source": [
    "Comparing sex of drivers in accidents in Birmingham to the rest of the UK shows that the percentages are quite similar. The majority of accidents have male drivers. It would be interesting to compare with the demographics of drivers in the UK in total, including those that do not have accidents. Because then we could compare if males are more likely to have an accident vs famales. However, we do not know if it is simply that 72% of all drivers are male, which would make it statistically more likely for male drivers to have an accident if if the likelyhood is 50/50. "
   ]
  },
  {
   "cell_type": "markdown",
   "metadata": {},
   "source": [
    "#### Comparing road types in Birmingham and the UK"
   ]
  },
  {
   "cell_type": "code",
   "execution_count": 49,
   "metadata": {},
   "outputs": [],
   "source": [
    "road_types = {1: \"Roundabout\", 2: \"One way street\", 3: \"Dual carriageway\", 6: \"Single carriageway\", 7: \"Slip road\", \n",
    "                    9 : \"Unknown\", 12: \"One way street/Slip road\", -1: \"Data missing or out of range\"}"
   ]
  },
  {
   "cell_type": "code",
   "execution_count": 50,
   "metadata": {},
   "outputs": [
    {
     "data": {
      "text/plain": [
       "<Figure size 720x720 with 0 Axes>"
      ]
     },
     "metadata": {},
     "output_type": "display_data"
    },
    {
     "data": {
      "image/png": "[encoded data removed]",
      "text/plain": [
       "<Figure size 720x360 with 2 Axes>"
      ]
     },
     "metadata": {
      "needs_background": "light"
     },
     "output_type": "display_data"
    }
   ],
   "source": [
    "cat_road, count_road = np.unique(data_bir[\"accidents\"][\"Road_Type\"], return_counts=True)\n",
    "cat_road_uk, count_road_uk = np.unique(dataraw[\"accidents\"][\"Road_Type\"], return_counts=True)\n",
    "\n",
    "fig = plt.figure(figsize= (10,10));\n",
    "fig, (ax1,ax2) = plt.subplots(1,2,figsize=(10,5));\n",
    "fig.autofmt_xdate(rotation=45)\n",
    "\n",
    "ax1.bar(range(len(cat_road)),count_road, fc = \"#11CEFF\")\n",
    "ax2.bar(range(len(cat_road_uk)),count_road_uk, fc = \"#11CEFF\")\n",
    "\n",
    "ax1.set_xticks(range(len(cat_road)))\n",
    "ax1.set_title(\"Road Types in Birmingham\")\n",
    "ax1.set_xticklabels([road_types[c] for c in cat_road])\n",
    "ax1.set_ylabel(\"Counts\")\n",
    "\n",
    "ax2.set_xticks(range(len(cat_road_uk)))\n",
    "ax2.set_title(\"Road Types in the whole UK\")\n",
    "ax2.set_xticklabels([road_types[c] for c in cat_road_uk])\n",
    "\n",
    "plt.show()"
   ]
  },
  {
   "cell_type": "markdown",
   "metadata": {},
   "source": [
    "The data in Birmingham seems to reflect a similar pattern to that expressed in the whole UK. Overall, the majority of accidents occur on single carriageways. The next highest amount of accidents occur on dual carriageways, but it appears to be 1/3 of the accidents on single carriageways, which indicates that singlecarriageways are more dangerous. It would be interesting to explore the severity of accidents on these road types."
   ]
  },
  {
   "cell_type": "markdown",
   "metadata": {},
   "source": [
    "#### Comparing Accident Times of Day"
   ]
  },
  {
   "cell_type": "code",
   "execution_count": 51,
   "metadata": {},
   "outputs": [],
   "source": [
    "# The following is mostly used so that we understand what each time category is referring to\n",
    "time_categories = {\"00\": \"0:00-01:00\", \"01\": \"01:00-02:00\", \"02\": \"02:00-03:00\", \"03\": \"03:00-04:00\", \"04\": \"04:00-05:00\", \n",
    "                   \"05\": \"05:00-06:00\", \"06\": \"06:00-07:00\", \"07\": \"07:00-08:00\", \"08\": \"08:00-09:00\", \"09\": \"09:00-10:00\", \n",
    "                   \"10\": \"10:00-11:00\", \"11\": \"11:00-12:00\", \"12\": \"12:00-13:00\", \"13\": \"13:00-14:00\", \"14\": \"14:00-15:00\", \n",
    "                   \"15\": \"15:00-16:00\", \"16\": \"16:00-17:00\", \"17\": \"17:00-18:00\", \"18\": \"18:00-19:00\", \"19\": \"19:00-20:00\",\n",
    "                   \"20\": \"20:00-21:00\", \"21\": \"21:00-22:00\",\"22\": \"22:00-23:00\", \"23\": \"23:00-24:00\"}"
   ]
  },
  {
   "cell_type": "code",
   "execution_count": 52,
   "metadata": {},
   "outputs": [
    {
     "data": {
      "text/plain": [
       "63"
      ]
     },
     "execution_count": 52,
     "metadata": {},
     "output_type": "execute_result"
    }
   ],
   "source": [
    "# Make a count of the accidents at each time in Birmingham\n",
    "times_dic_count = {}\n",
    "for time_category in time_categories:\n",
    "    times_dic_count[time_category] = 0\n",
    "for i in range(len(data_bir[\"accidents\"][\"Time\"])):\n",
    "    times_dic_count[data_bir[\"accidents\"][\"Time\"][i][:2]] += 1\n",
    "    \n",
    "# Make a count of the accidents at each time in the UK\n",
    "times_dic_count_uk = {}\n",
    "for time_category in time_categories:\n",
    "    times_dic_count_uk[time_category] = 0\n",
    "times_dic_count_uk[''] = 0\n",
    "for i in range(len(dataraw[\"accidents\"][\"Time\"])):\n",
    "    times_dic_count_uk[dataraw[\"accidents\"][\"Time\"][i][:2]] += 1\n",
    "times_dic_count_uk.pop('')"
   ]
  },
  {
   "cell_type": "markdown",
   "metadata": {},
   "source": [
    "63 accidents were removed from the UK data for this graph, because the time field was left blank. We felt like it was safe to remove this data, since it is such a small amount of the total and should not affect the output noticeably. Had there been a larger percentage with missing time data, we would not have plotted this, as it would not be relevent."
   ]
  },
  {
   "cell_type": "code",
   "execution_count": 53,
   "metadata": {},
   "outputs": [
    {
     "data": {
      "text/plain": [
       "<Figure size 1440x1440 with 0 Axes>"
      ]
     },
     "metadata": {},
     "output_type": "display_data"
    },
    {
     "data": {
      "image/png": "[encoded data removed]",
      "text/plain": [
       "<Figure size 1080x360 with 2 Axes>"
      ]
     },
     "metadata": {
      "needs_background": "light"
     },
     "output_type": "display_data"
    }
   ],
   "source": [
    "fig = plt.figure(figsize=(20,20));\n",
    "fig, (ax1, ax2) = plt.subplots(1, 2, figsize=(15,5));\n",
    "fig.autofmt_xdate(rotation=45)\n",
    "\n",
    "ax1.bar(times_dic_count.keys(), times_dic_count.values(), fc=\"#11CEFF\")\n",
    "ax2.bar(times_dic_count_uk.keys(), times_dic_count_uk.values(), fc=\"#11CEFF\")\n",
    "\n",
    "ax1.set_title(\"Accident Times in Birmingham\")\n",
    "ax1.set_xlabel(\"Time of Day\")\n",
    "ax1.set_ylabel(\"Count\")\n",
    "\n",
    "ax2.set_title(\"Accident Times in the UK\")\n",
    "ax2.set_xlabel(\"Time of Day\")\n",
    "ax2.set_ylabel(\"Count\")\n",
    "\n",
    "plt.show()"
   ]
  },
  {
   "cell_type": "markdown",
   "metadata": {},
   "source": [
    "In Birmingham, between 10:00 til 14:00 there are less accidents than the rest of the UK, but between 18:00-20:00 there are more."
   ]
  },
  {
   "cell_type": "markdown",
   "metadata": {},
   "source": [
    "#### Frequency of Age of Casualties"
   ]
  },
  {
   "cell_type": "code",
   "execution_count": 54,
   "metadata": {},
   "outputs": [
    {
     "data": {
      "text/plain": [
       "<Figure size 504x288 with 0 Axes>"
      ]
     },
     "metadata": {},
     "output_type": "display_data"
    },
    {
     "data": {
      "image/png": "[encoded data removed]",
      "text/plain": [
       "<Figure size 1080x360 with 2 Axes>"
      ]
     },
     "metadata": {
      "needs_background": "light"
     },
     "output_type": "display_data"
    }
   ],
   "source": [
    "cat_cas_age, count_cas_age = np.unique(data_bir[\"casualties\"][\"Age_Band_of_Casualty\"], return_counts=True)\n",
    "#remove -1 from the data to plot\n",
    "count_cas_age, cat_cas_age = count_cas_age[1:], cat_cas_age[1:]\n",
    "\n",
    "cat_cas_age_uk, count_cas_age_uk = np.unique(dataraw[\"casualties\"][\"Age_Band_of_Casualty\"], return_counts=True)\n",
    "cat_cas_age_uk, count_cas_age_uk = cat_cas_age_uk[1:], count_cas_age_uk[1:]\n",
    "\n",
    "fig = plt.figure(figsize=(7,4));\n",
    "fig, (ax1, ax2) = plt.subplots(1, 2, figsize=(15,5));\n",
    "catogories_age = [\"0 - 5\",\"6 - 10\",\"11 - 15\",\"16 - 20\",\"21 - 25\",\"26 - 35\",\"36 - 45\",\"46 - 55\",\"56 - 65\",\"66 - 75\",\"75+\"]\n",
    "\n",
    "ax1.bar(catogories_age, count_cas_age, fc=\"#11CEFF\")\n",
    "ax2.bar(catogories_age, count_cas_age_uk, fc=\"#11CEFF\")\n",
    "fig.autofmt_xdate(rotation=45)\n",
    "\n",
    "ax1.set_xlabel(\"Age bands\")\n",
    "ax1.set_ylabel(\"Frequency\")\n",
    "ax1.set_title(\"Age band of Casualties in Birmingham\")\n",
    "ax2.set_title(\"Age band of Casualties in the UK\")\n",
    "ax2.set_xlabel(\"Age bands\")\n",
    "plt.show()"
   ]
  },
  {
   "cell_type": "markdown",
   "metadata": {},
   "source": [
    "This graph shows that those between 26-35 are more likely to be casualities in an accident. It would be interesting to know the age of drivers in general, to compare if the ages of casualties follow along with ages of drivers in general, or if there is a statistical significance. "
   ]
  },
  {
   "cell_type": "markdown",
   "metadata": {},
   "source": [
    "#### Frequencies of Age of Driver"
   ]
  },
  {
   "cell_type": "code",
   "execution_count": 55,
   "metadata": {},
   "outputs": [
    {
     "data": {
      "text/plain": [
       "<Figure size 504x288 with 0 Axes>"
      ]
     },
     "metadata": {},
     "output_type": "display_data"
    },
    {
     "data": {
      "image/png": "[encoded data removed]",
      "text/plain": [
       "<Figure size 1080x360 with 2 Axes>"
      ]
     },
     "metadata": {
      "needs_background": "light"
     },
     "output_type": "display_data"
    }
   ],
   "source": [
    "cat_age_driver, count_age_driver = np.unique(data_bir[\"vehicles\"][\"Age_Band_of_Driver\"], return_counts=True)\n",
    "# remove -1 from the data to plot\n",
    "count_age_driver, cat_age_driver = count_age_driver[1:], cat_age_driver[1:]\n",
    "\n",
    "cat_age_driver_uk, count_age_driver_uk = np.unique(dataraw[\"vehicles\"][\"Age_Band_of_Driver\"], return_counts=True)\n",
    "cat_age_driver_uk, count_age_driver_uk = cat_age_driver_uk[1:], count_age_driver_uk[1:]\n",
    "\n",
    "fig = plt.figure(figsize=(7,4));\n",
    "fig, (ax1, ax2) = plt.subplots(1, 2, figsize=(15,5));\n",
    "catogories_age = [\"0 - 5\",\"6 - 10\",\"11 - 15\",\"16 - 20\",\"21 - 25\",\"26 - 35\",\"36 - 45\",\"46 - 55\",\"56 - 65\",\"66 - 75\",\"75+\"]\n",
    "\n",
    "ax1.bar(catogories_age, count_age_driver_uk, fc=\"#11CEFF\")\n",
    "ax2.bar(catogories_age, count_age_driver_uk, fc=\"#11CEFF\")\n",
    "\n",
    "fig.autofmt_xdate(rotation=45)\n",
    "\n",
    "ax1.set_xlabel(\"Age Bands\")\n",
    "ax1.set_ylabel(\"Frequency\")\n",
    "ax1.set_title(\"Age band of drivers in Birmingham\")\n",
    "\n",
    "ax2.set_xlabel(\"Age Bands\")\n",
    "ax2.set_title(\"Age band of drivers in the UK\")\n",
    "plt.show()"
   ]
  },
  {
   "cell_type": "markdown",
   "metadata": {},
   "source": [
    "This graph shows that the highest age band in an accident is those between 26-35. It seems to follow the pattern of those that are casualties. Again, it leads us to wonder if it just so happens that there are more drivers on the road between 25-36."
   ]
  },
  {
   "cell_type": "code",
   "execution_count": 56,
   "metadata": {},
   "outputs": [
    {
     "data": {
      "text/plain": [
       "<BarContainer object of 11 artists>"
      ]
     },
     "execution_count": 56,
     "metadata": {},
     "output_type": "execute_result"
    },
    {
     "data": {
      "image/png": "[encoded data removed]",
      "text/plain": [
       "<Figure size 1224x1224 with 8 Axes>"
      ]
     },
     "metadata": {
      "needs_background": "light"
     },
     "output_type": "display_data"
    }
   ],
   "source": [
    "fig, axes = plt.subplots(4,2,figsize=(17,17))\n",
    "\n",
    "# time of day\n",
    "axes[0,0].bar(times_dic_count.keys(), times_dic_count.values(), fc=\"#11CEFF\")\n",
    "axes[0,1].bar(times_dic_count_uk.keys(), times_dic_count_uk.values(), fc=\"#11CEFF\")\n",
    "\n",
    "# road type\n",
    "axes[1,0].bar(range(len(cat_road)),count_road, fc = \"#11CEFF\")\n",
    "axes[1,1].bar(range(len(cat_road_uk)),count_road_uk, fc = \"#11CEFF\")\n",
    "\n",
    "# sex of driver\n",
    "axes[2,0].pie(percentages_bir, labels=labels, explode = [0.1,0],shadow = True, colors = [\"#236EF5\",\"#3ADEA1\"],startangle=90, autopct='%1.2f%%')\n",
    "axes[2,1].pie(percentages_UK, labels=labels, explode = [0.1,0],shadow = True, colors = [\"#236EF5\",\"#3ADEA1\"], startangle=90, autopct='%1.2f%%')\n",
    "\n",
    "# age band of driver\n",
    "axes[3,0].bar(catogories_age, count_age_driver_uk, fc=\"#11CEFF\")\n",
    "axes[3,1].bar(catogories_age, count_age_driver_uk, fc=\"#11CEFF\")"
   ]
  },
  {
   "cell_type": "markdown",
   "metadata": {},
   "source": [
    "# Task 2: Associations\n",
    "Research whether there is a significant statistical association in your city, either 1) between some\n",
    "vehicle attributes and accident circumstances, or 2) between some casualty attributes and accident\n",
    "circumstances. Report whether there is a statistically significant association between such variables\n",
    "or not, together with the appropriate statistical metric(s). Discuss why this association, or the lack of\n",
    "this association, is relevant for urban/transport planning."
   ]
  },
  {
   "cell_type": "markdown",
   "metadata": {},
   "source": [
    "### Step 1: Categorical Scatterplots"
   ]
  },
  {
   "cell_type": "markdown",
   "metadata": {},
   "source": [
    "#### Casualty Type vs Age of Casualty"
   ]
  },
  {
   "cell_type": "code",
   "execution_count": 57,
   "metadata": {},
   "outputs": [],
   "source": [
    "values, counts = np.unique(data_bir[\"casualties\"][\"Casualty_Type\"], return_counts=True)"
   ]
  },
  {
   "cell_type": "code",
   "execution_count": 58,
   "metadata": {},
   "outputs": [
    {
     "data": {
      "text/plain": [
       "Text(0.5, 1.0, 'Casualty Type vs Age of Casualty')"
      ]
     },
     "execution_count": 58,
     "metadata": {},
     "output_type": "execute_result"
    },
    {
     "data": {
      "image/png": "[encoded data removed]",
      "text/plain": [
       "<Figure size 360x360 with 1 Axes>"
      ]
     },
     "metadata": {
      "needs_background": "light"
     },
     "output_type": "display_data"
    }
   ],
   "source": [
    "# Filter\n",
    "mask = (data_bir[\"casualties\"][\"Casualty_Type\"] == 0) | (data_bir[\"casualties\"][\"Casualty_Type\"] == 1) | (data_bir[\"casualties\"][\"Casualty_Type\"] == 9) & (data_bir[\"casualties\"][\"Age_of_Casualty\"] > -1)\n",
    "mask[550:] = False\n",
    "\n",
    "data_toplot = np.array([data_bir[\"casualties\"][\"Casualty_Type\"][mask], data_bir[\"casualties\"][\"Age_of_Casualty\"][mask]]).T\n",
    "\n",
    "# Plot\n",
    "fig = sns.catplot(x = 'Casualty Type', y = 'Age of Casualty', data = pd.DataFrame(data_toplot, \n",
    "                columns=['Casualty Type', 'Age of Casualty']), kind = \"swarm\")\n",
    "fig.set_xticklabels([\"Pedestrian\", \"Cyclist\", \"Car occupant\"]);\n",
    "plt.title(\"Casualty Type vs Age of Casualty\")"
   ]
  },
  {
   "cell_type": "markdown",
   "metadata": {},
   "source": [
    "We only plotted these 3 casualty types as an exercise to learn how to plot data using seaborn swarm. Other casualty types are left out, and therefore we do not conclude anything from this."
   ]
  },
  {
   "cell_type": "markdown",
   "metadata": {},
   "source": [
    "##### Question: Is there a statistical association between Age of Driver and Accident Severity?\n",
    "We ask this question because maybe the mayor of government can restrict the age of driver to a certain age, whether that be because old people are more dangerous drivers or young people are."
   ]
  },
  {
   "cell_type": "markdown",
   "metadata": {},
   "source": [
    "#### Scatterplot Age of Driver (V) vs accident severity (A)"
   ]
  },
  {
   "cell_type": "code",
   "execution_count": 59,
   "metadata": {
    "scrolled": true
   },
   "outputs": [
    {
     "data": {
      "text/plain": [
       "Text(0.5, 1.0, 'Age of Driver vs Accident Severity')"
      ]
     },
     "execution_count": 59,
     "metadata": {},
     "output_type": "execute_result"
    },
    {
     "data": {
      "image/png": "[encoded data removed]",
      "text/plain": [
       "<Figure size 432x288 with 1 Axes>"
      ]
     },
     "metadata": {
      "needs_background": "light"
     },
     "output_type": "display_data"
    }
   ],
   "source": [
    "# Create variables with just each variable\n",
    "ages_array =  pd.DataFrame(clean_AOD_accidents[[\"Accident_Index\",\"Age_of_Driver\"]])\n",
    "severity_array = pd.DataFrame(data_bir[\"accidents\"][[\"Accident_Index\",\"Accident_Severity\"]])\n",
    "\n",
    "# Merge into one pandas data frame\n",
    "merged = pd.merge(left=ages_array, right=severity_array, how='left', left_on='Accident_Index', right_on=\"Accident_Index\")\n",
    "\n",
    "# make into a numpy array\n",
    "data_toplot2 = np.array([merged[\"Accident_Severity\"],merged[\"Age_of_Driver\"]]).T\n",
    "\n",
    "# plot\n",
    "fig = sns.violinplot(x = \"Accident Severity\", y = \"Age of Driver\", data = pd.DataFrame(data_toplot2, columns=[\"Accident Severity\", \"Age of Driver\"]), kind = \"swarm\")\n",
    "#fig.set_xticklabels([\"Fatal\", \"Serious\", \"Slight\"]);\n",
    "plt.title(\"Age of Driver vs Accident Severity\")"
   ]
  },
  {
   "cell_type": "markdown",
   "metadata": {},
   "source": [
    "This confirms what we saw in the bar graph; that the bulk of accidents  happen amongst those between 25-35. However, it also shows that the severity of accidents seems to be the same across age groups. Meaning that there is not an age group that tends to have more fatal accidents, or more slight accidents. "
   ]
  },
  {
   "cell_type": "markdown",
   "metadata": {},
   "source": [
    "#### Scatterplot Sex of driver (V) vs Accident Severity (A)"
   ]
  },
  {
   "cell_type": "code",
   "execution_count": 60,
   "metadata": {},
   "outputs": [
    {
     "data": {
      "text/plain": [
       "Text(0.5, 1.0, 'Sex of Driver vs Accident Severity')"
      ]
     },
     "execution_count": 60,
     "metadata": {},
     "output_type": "execute_result"
    },
    {
     "data": {
      "image/png": "[encoded data removed]",
      "text/plain": [
       "<Figure size 432x288 with 1 Axes>"
      ]
     },
     "metadata": {
      "needs_background": "light"
     },
     "output_type": "display_data"
    }
   ],
   "source": [
    "# Create tables of just each variable\n",
    "sex_of_driver_array =  pd.DataFrame(bir_driver_gender_masked[[\"Accident_Index\",\"Sex_of_Driver\"]])\n",
    "severity_array = pd.DataFrame(data_bir[\"accidents\"][[\"Accident_Index\",\"Accident_Severity\"]])\n",
    "\n",
    "# Merge into one pandas data frame\n",
    "merged_sex_vs_severity = pd.merge(left=sex_of_driver_array, right=severity_array, how='left', left_on='Accident_Index', right_on=\"Accident_Index\")\n",
    "\n",
    "# make into a numpy array\n",
    "data_toplot3 = np.array([merged_sex_vs_severity[\"Sex_of_Driver\"], merged_sex_vs_severity[\"Accident_Severity\"]]).T\n",
    "\n",
    "# plot\n",
    "fig2 = sns.violinplot(x = \"Sex of Driver\", y = \"Accident Severity\", data = pd.DataFrame(data_toplot3, columns=[\"Sex of Driver\", \"Accident Severity\"]), kind = \"swarm\")\n",
    "fig2.set_xticklabels([\"Male\", \"Female\"])\n",
    "plt.title(\"Sex of Driver vs Accident Severity\")"
   ]
  },
  {
   "cell_type": "markdown",
   "metadata": {},
   "source": [
    "While the bar plot showed that there are more accidents occur with male drivers, the severity of accidents seems to be close to equal between both male and female drivers. This shows that males, while more likely to be in an accident, do not seem to be more likely to have a more serious accident."
   ]
  },
  {
   "cell_type": "markdown",
   "metadata": {},
   "source": [
    "#### Road Surface Conditions (A) vs Accident Severity (A)"
   ]
  },
  {
   "cell_type": "code",
   "execution_count": 61,
   "metadata": {},
   "outputs": [
    {
     "data": {
      "text/plain": [
       "<Figure size 720x720 with 0 Axes>"
      ]
     },
     "metadata": {},
     "output_type": "display_data"
    },
    {
     "data": {
      "image/png": "[encoded data removed]",
      "text/plain": [
       "<Figure size 720x288 with 2 Axes>"
      ]
     },
     "metadata": {
      "needs_background": "light"
     },
     "output_type": "display_data"
    }
   ],
   "source": [
    "# Filter\n",
    "mask_bir_road_surface= (data_bir[\"accidents\"][\"Road_Surface_Conditions\"] != -1)\n",
    "road_surface_severity = np.array(data_bir[\"accidents\"][mask_bir_road_surface])\n",
    "\n",
    "mask_uk_road_surface = (dataraw[\"accidents\"][\"Road_Surface_Conditions\"] != -1)\n",
    "road_surface_severity_uk = dataraw[\"accidents\"][mask_uk_road_surface]\n",
    "\n",
    "fig = plt.figure(figsize=(10,10));\n",
    "fig, (ax1, ax2) = plt.subplots(1, 2, figsize=(10,4));\n",
    "fig.autofmt_xdate(rotation=45)\n",
    "values, counts = np.unique(road_surface_severity[\"Road_Surface_Conditions\"], return_counts=True)\n",
    "values2, counts2 =  np.unique(road_surface_severity_uk[\"Road_Surface_Conditions\"], return_counts=True)\n",
    "\n",
    "ax1.bar(values, counts, fc=\"#11CEFF\")\n",
    "ax2.bar(values2, counts2, fc=\"#11CEFF\")\n",
    "ax1.set_title(\"Road Surface Conditions Birmingham\")\n",
    "ax2.set_title(\"Road Surface Conditions UK\")\n",
    "\n",
    "ax1.set_xlabel(\"Road Surface\")\n",
    "ax1.set_ylabel(\"Count\")\n",
    "ax2.set_xlabel(\"Road Surface\")\n",
    "\n",
    "ax1.set_xticklabels([\"Dry\",\"Dry\",\"Wet/Damp\",\"Snow\", \"Frost / Ice\"])\n",
    "ax2.set_xticklabels([\"Dry\",\"Dry\",\"Wet/Damp\",\"Snow\", \"Frost / Ice\", \"Flooding\"])\n",
    "\n",
    "plt.show()"
   ]
  },
  {
   "cell_type": "markdown",
   "metadata": {},
   "source": [
    "The majority of road conditions are dry"
   ]
  },
  {
   "cell_type": "code",
   "execution_count": 62,
   "metadata": {},
   "outputs": [],
   "source": [
    "mask = (data_bir[\"accidents\"][\"Road_Surface_Conditions\"] != -1)\n",
    "road_surface_severity = np.array([data_bir[\"accidents\"][\"Road_Surface_Conditions\"][mask], data_bir[\"accidents\"][\"Accident_Severity\"][mask]]).T"
   ]
  },
  {
   "cell_type": "code",
   "execution_count": 63,
   "metadata": {},
   "outputs": [
    {
     "data": {
      "text/plain": [
       "array([-1,  1,  2,  4])"
      ]
     },
     "execution_count": 63,
     "metadata": {},
     "output_type": "execute_result"
    },
    {
     "data": {
      "image/png": "[encoded data removed]",
      "text/plain": [
       "<Figure size 432x288 with 1 Axes>"
      ]
     },
     "metadata": {
      "needs_background": "light"
     },
     "output_type": "display_data"
    }
   ],
   "source": [
    "# Plot\n",
    "fig = sns.violinplot(x = 'Road Surface Conditions', y = 'Accident Severity', data = pd.DataFrame(road_surface_severity, columns=['Road Surface Conditions', 'Accident Severity']))\n",
    "fig.set_xticklabels([\"Dry\", \"Wet / Damp\", \"Frost / Ice\"]);\n",
    "plt.title(\"Road Surface Conditions vs Accident Severity\")\n",
    "\n",
    "# To see what Road Surface conditions are present in the Birmingham data set:\n",
    "values, counts = np.unique(data_bir[\"accidents\"][\"Road_Surface_Conditions\"], return_counts=True)\n",
    "values"
   ]
  },
  {
   "cell_type": "markdown",
   "metadata": {},
   "source": [
    "### Association test between two categorical variables\n",
    "###### (Pearson $\\chi^2$ test of independence)\n",
    "\n",
    "Inspired by:\n",
    "https://peterstatistics.com/CrashCourse/3-TwoVarUnpair/NomNom/NomNom-2a-Test.html\n",
    "https://bit.ly/3kbwKEL\n",
    "\n",
    "#### Hypothesis testing\n",
    "We are now in the realm of Statistical hypothesis testing (https://en.wikipedia.org/wiki/Statistical_hypothesis_testing). In general, we must first state and compare two hypotheses:\n",
    "\n",
    "- $H_0$ (null hypothesis): There is no statistically significant relationship between accident severity and speed limit.\n",
    "- $H_\\alpha$ (alternative hypothesis): There is a statistically significant relationship between accident severity and speed limit.\n",
    "\n",
    "We must then 1) state+check statistical assumptions, 2) choose an appropriate test and test statistic $T$, 3) derive the distribution for the test statistic, 4) select a significance level $\\alpha$, usually 0.01 or 0.05, 5) calculate the observed test statistic $t_{\\mathrm obs}$, 6) calculate the p-value.\n",
    "\n",
    "If the p-value $&lt; \\alpha$, then the null hypothesis will be rejected.\n",
    "\n",
    "#### Pearson $\\chi^2$ test of independence\n",
    "To test association between two categorical variables, one uses the Pearson chi-square test of independence. If the significance of this test (p-value) is below a significance level (typically 0.05), the two variables have a significant association.\n",
    "\n",
    "The Pearson chi-square test should only be used if most cells have an expected count above 5, and the minimum expected count is at least 1."
   ]
  },
  {
   "cell_type": "markdown",
   "metadata": {},
   "source": [
    "### Will be using the variables above used in the scatterplots\n",
    "\n",
    "1. Casualty type vs. Age of Casualty\n",
    "2. Age of Driver vs. Accident Severity\n",
    "3. Sex of Driver vs. Accident Severity\n",
    "4. Road surface conditions vs. Accident Severity\n",
    "5. Time of Day vs. Accident Severity\n"
   ]
  },
  {
   "cell_type": "markdown",
   "metadata": {},
   "source": [
    "###### Step 1: Crosstab\n",
    "We crosstabulate using pandas: https://pandas.pydata.org/pandas-docs/stable/reference/api/pandas.crosstab.html\n",
    "\n",
    "The cross tabulation is also known as contingency table."
   ]
  },
  {
   "cell_type": "code",
   "execution_count": 64,
   "metadata": {},
   "outputs": [
    {
     "data": {
      "text/html": [
       "<div>\n",
       "<style scoped>\n",
       "    .dataframe tbody tr th:only-of-type {\n",
       "        vertical-align: middle;\n",
       "    }\n",
       "\n",
       "    .dataframe tbody tr th {\n",
       "        vertical-align: top;\n",
       "    }\n",
       "\n",
       "    .dataframe thead th {\n",
       "        text-align: right;\n",
       "    }\n",
       "</style>\n",
       "<table border=\"1\" class=\"dataframe\">\n",
       "  <thead>\n",
       "    <tr style=\"text-align: right;\">\n",
       "      <th>Accident Severity</th>\n",
       "      <th>1</th>\n",
       "      <th>2</th>\n",
       "      <th>3</th>\n",
       "    </tr>\n",
       "    <tr>\n",
       "      <th>Time</th>\n",
       "      <th></th>\n",
       "      <th></th>\n",
       "      <th></th>\n",
       "    </tr>\n",
       "  </thead>\n",
       "  <tbody>\n",
       "    <tr>\n",
       "      <th>00:01</th>\n",
       "      <td>0</td>\n",
       "      <td>0</td>\n",
       "      <td>4</td>\n",
       "    </tr>\n",
       "    <tr>\n",
       "      <th>00:05</th>\n",
       "      <td>0</td>\n",
       "      <td>1</td>\n",
       "      <td>1</td>\n",
       "    </tr>\n",
       "    <tr>\n",
       "      <th>00:06</th>\n",
       "      <td>0</td>\n",
       "      <td>0</td>\n",
       "      <td>1</td>\n",
       "    </tr>\n",
       "    <tr>\n",
       "      <th>00:10</th>\n",
       "      <td>0</td>\n",
       "      <td>0</td>\n",
       "      <td>5</td>\n",
       "    </tr>\n",
       "    <tr>\n",
       "      <th>00:12</th>\n",
       "      <td>0</td>\n",
       "      <td>0</td>\n",
       "      <td>1</td>\n",
       "    </tr>\n",
       "    <tr>\n",
       "      <th>...</th>\n",
       "      <td>...</td>\n",
       "      <td>...</td>\n",
       "      <td>...</td>\n",
       "    </tr>\n",
       "    <tr>\n",
       "      <th>23:48</th>\n",
       "      <td>0</td>\n",
       "      <td>0</td>\n",
       "      <td>1</td>\n",
       "    </tr>\n",
       "    <tr>\n",
       "      <th>23:49</th>\n",
       "      <td>0</td>\n",
       "      <td>0</td>\n",
       "      <td>1</td>\n",
       "    </tr>\n",
       "    <tr>\n",
       "      <th>23:53</th>\n",
       "      <td>0</td>\n",
       "      <td>0</td>\n",
       "      <td>1</td>\n",
       "    </tr>\n",
       "    <tr>\n",
       "      <th>23:56</th>\n",
       "      <td>0</td>\n",
       "      <td>0</td>\n",
       "      <td>1</td>\n",
       "    </tr>\n",
       "    <tr>\n",
       "      <th>23:58</th>\n",
       "      <td>0</td>\n",
       "      <td>1</td>\n",
       "      <td>1</td>\n",
       "    </tr>\n",
       "  </tbody>\n",
       "</table>\n",
       "<p>886 rows × 3 columns</p>\n",
       "</div>"
      ],
      "text/plain": [
       "Accident Severity  1  2  3\n",
       "Time                      \n",
       "00:01              0  0  4\n",
       "00:05              0  1  1\n",
       "00:06              0  0  1\n",
       "00:10              0  0  5\n",
       "00:12              0  0  1\n",
       "...               .. .. ..\n",
       "23:48              0  0  1\n",
       "23:49              0  0  1\n",
       "23:53              0  0  1\n",
       "23:56              0  0  1\n",
       "23:58              0  1  1\n",
       "\n",
       "[886 rows x 3 columns]"
      ]
     },
     "execution_count": 64,
     "metadata": {},
     "output_type": "execute_result"
    }
   ],
   "source": [
    "########### Casualty type vs. Age of Casualty (CTvAOC)\n",
    "observed_CTvAOC = pd.crosstab(data_toplot[:, 0], data_toplot[:, 1], rownames = [\"Casualty Type\"], colnames = [\"Age of Casualty\"]) \n",
    "observed_CTvAOC1 = observed_CTvAOC.to_numpy()\n",
    "observed_CTvAOC\n",
    "\n",
    "########### Age of Driver vs. Accident Severity (AODvAS)\n",
    "observed_AODvAS = pd.crosstab(data_toplot2[:, 0], data_toplot2[:, 1], rownames = [\"Age of Driver\"], colnames = [\"Accident Severity\"]) \n",
    "observed_AODvAS1 = observed_AODvAS.to_numpy()\n",
    "observed_AODvAS\n",
    "\n",
    "########### Sex of Driver vs. Accident Severity (SODvAS)\n",
    "observed_SODvAS = pd.crosstab(data_toplot3[:, 0], data_toplot3[:, 1], rownames = [\"Sex of Driver\"], colnames = [\"Accident Severity\"]) \n",
    "observed_SODvAS1 = observed_SODvAS.to_numpy()\n",
    "observed_SODvAS\n",
    "\n",
    "########### Road surface conditions vs. Accident Severity (RSCvAS)\n",
    "observed_RSCvAS = pd.crosstab(road_surface_severity[:, 0], road_surface_severity[:, 1], rownames = [\"Road Surface Conditions\"], colnames = [\"Accident Severity\"]) \n",
    "observed_RSCvAS1 = observed_RSCvAS.to_numpy()\n",
    "observed_RSCvAS\n",
    "\n",
    "########## Time of Day vs. Accident Severity\n",
    "#filter\n",
    "mask = (data_bir[\"accidents\"][\"Accident_Severity\"] != -1)\n",
    "time_of_day_severity = np.array([data_bir[\"accidents\"][\"Time\"][mask], data_bir[\"accidents\"][\"Accident_Severity\"][mask]]).T\n",
    "\n",
    "#observed data\n",
    "observed_TODvAS = pd.crosstab(time_of_day_severity[:, 0], time_of_day_severity[:, 1], rownames = [\"Time\"], colnames = [\"Accident Severity\"])\n",
    "observed_TODvAS1 = observed_TODvAS.to_numpy()\n",
    "observed_TODvAS"
   ]
  },
  {
   "attachments": {
    "Screenshot%202021-02-19%20at%2010.47.18.png": {
     "image/png": "[encoded data removed]"
    }
   },
   "cell_type": "markdown",
   "metadata": {},
   "source": [
    "![Screenshot%202021-02-19%20at%2010.47.18.png](attachment:Screenshot%202021-02-19%20at%2010.47.18.png)"
   ]
  },
  {
   "cell_type": "markdown",
   "metadata": {},
   "source": [
    "### Casualty type vs. Age of Casualty (CTvAOC)"
   ]
  },
  {
   "cell_type": "code",
   "execution_count": 65,
   "metadata": {},
   "outputs": [
    {
     "name": "stdout",
     "output_type": "stream",
     "text": [
      "Chi Value:  228.4095634484181\n",
      "P-value:  0.0018715202881911905\n",
      "Degrees of Freedom:  170\n",
      "Cramer's V-value:  0.49293904013128353\n"
     ]
    }
   ],
   "source": [
    "########### finding the expected output\n",
    "expected_CTvAOC = np.zeros(observed_CTvAOC1.shape, dtype=int) \n",
    "colTotals_CTvAOC = observed_CTvAOC1.sum(axis = 0) \n",
    "rowTotals_CTvAOC = observed_CTvAOC1.sum(axis = 1)\n",
    "N = rowTotals_CTvAOC.sum()\n",
    "\n",
    "for i in range(observed_CTvAOC1.shape[0]):\n",
    "    for j in range(observed_CTvAOC1.shape[1]):\n",
    "        expected_CTvAOC[i,j] = (rowTotals_CTvAOC[i] * colTotals_CTvAOC[j]) / N\n",
    "expected_CTvAOC\n",
    "\n",
    "\n",
    "########## finding the chi value, p value, degrees of freedom and cramers v-value\n",
    "statistics_values(observed_CTvAOC1)"
   ]
  },
  {
   "cell_type": "markdown",
   "metadata": {},
   "source": [
    "###### Conclusion: There is a significant association between Casualty Type and Age of Casaulty as the P-value is less than 0.01. Moreover, the (Cramer) V value is not significantly close to 0, implying a weak association."
   ]
  },
  {
   "cell_type": "markdown",
   "metadata": {},
   "source": [
    "### Age of Driver vs. Accident Severity (AODvAS)"
   ]
  },
  {
   "cell_type": "code",
   "execution_count": 66,
   "metadata": {},
   "outputs": [
    {
     "name": "stdout",
     "output_type": "stream",
     "text": [
      "Chi Value:  192.604687731787\n",
      "P-value:  0.11290619468679561\n",
      "Degrees of Freedom:  170\n",
      "Cramer's V-value:  0.1667119798712171\n"
     ]
    }
   ],
   "source": [
    "########### Finding the expected output\n",
    "expected_AODvAS = np.zeros(observed_AODvAS1.shape, dtype=int) \n",
    "colTotals_AODvAS = observed_AODvAS1.sum(axis = 0) \n",
    "rowTotals_AODvAS = observed_AODvAS1.sum(axis = 1)\n",
    "N = rowTotals_AODvAS.sum()\n",
    "\n",
    "for i in range(observed_AODvAS1.shape[0]):\n",
    "    for j in range(observed_AODvAS1.shape[1]):\n",
    "        expected_AODvAS[i,j] = (rowTotals_AODvAS[i] * colTotals_AODvAS[j]) / N\n",
    "expected_AODvAS\n",
    "\n",
    "########### Finding the chi value, p-value, and degrees of freedom, cramers value\n",
    "statistics_values(observed_AODvAS1)"
   ]
  },
  {
   "cell_type": "markdown",
   "metadata": {},
   "source": [
    "###### Conclusion: There is a significant association between the Age of the Driver and Accident Severity as proven by the P-value that is much less than 0.01, and the association is strong as the (Cramer) V value is closer to 0."
   ]
  },
  {
   "cell_type": "markdown",
   "metadata": {},
   "source": [
    "### Sex of Driver vs. Accident Severity (SODvAS)"
   ]
  },
  {
   "cell_type": "code",
   "execution_count": 67,
   "metadata": {},
   "outputs": [
    {
     "name": "stdout",
     "output_type": "stream",
     "text": [
      "Chi Value:  14.222678394207536\n",
      "P-value:  0.0008158017409003335\n",
      "Degrees of Freedom:  2\n",
      "Cramer's V-value:  0.05654683548187541\n"
     ]
    }
   ],
   "source": [
    "########### Finding the expected output\n",
    "expected_SODvAS = np.zeros(observed_SODvAS1.shape, dtype=int) \n",
    "colTotals_SODvAS = observed_SODvAS1.sum(axis = 0) \n",
    "rowTotals_SODvAS = observed_SODvAS1.sum(axis = 1)\n",
    "N = rowTotals_SODvAS.sum()\n",
    "\n",
    "for i in range(observed_SODvAS1.shape[0]):\n",
    "    for j in range(observed_SODvAS1.shape[1]):\n",
    "        expected_SODvAS[i,j] = (rowTotals_SODvAS[i] * colTotals_SODvAS[j]) / N\n",
    "expected_SODvAS\n",
    "\n",
    "statistics_values(observed_SODvAS1)"
   ]
  },
  {
   "cell_type": "markdown",
   "metadata": {},
   "source": [
    "###### Conclusion: With a P-value less than 0.01 there is a significant association between the Sex of the Driver and Accident severity. The association between Sex of Driver and Accident Severity is very strong as it is close to 0."
   ]
  },
  {
   "cell_type": "markdown",
   "metadata": {},
   "source": [
    "### Road surface conditions vs. Accident Severity (RSCvAS)"
   ]
  },
  {
   "cell_type": "code",
   "execution_count": 68,
   "metadata": {},
   "outputs": [
    {
     "name": "stdout",
     "output_type": "stream",
     "text": [
      "Chi Value:  7.733488419395338\n",
      "P-value:  0.1018433901525899\n",
      "Degrees of Freedom:  4\n",
      "Cramer's V-value:  0.038453588572092544\n"
     ]
    }
   ],
   "source": [
    "########### Finding the expected output\n",
    "expected_RSCvAS = np.zeros(observed_RSCvAS1.shape, dtype=int) \n",
    "colTotals_RSCvAS = observed_RSCvAS1.sum(axis = 0) \n",
    "rowTotals_RSCvAS = observed_RSCvAS1.sum(axis = 1)\n",
    "N = rowTotals_RSCvAS.sum()\n",
    "\n",
    "for i in range(observed_RSCvAS1.shape[0]):\n",
    "    for j in range(observed_RSCvAS1.shape[1]):\n",
    "        expected_RSCvAS[i,j] = (rowTotals_RSCvAS[i] * colTotals_RSCvAS[j]) / N\n",
    "expected_AODvAS\n",
    "\n",
    "########### Finding the chi value, p-value, and degrees of freedom, cramers value\n",
    "statistics_values(observed_RSCvAS1)"
   ]
  },
  {
   "cell_type": "markdown",
   "metadata": {},
   "source": [
    "###### Conclusion: There is NO significant association between Road Surface Conditions and Accident Severity, as the P-value is not less than 0.05 or 0.01."
   ]
  },
  {
   "cell_type": "markdown",
   "metadata": {},
   "source": [
    "### Time of Day vs. Accident Severity"
   ]
  },
  {
   "cell_type": "code",
   "execution_count": 69,
   "metadata": {},
   "outputs": [
    {
     "name": "stdout",
     "output_type": "stream",
     "text": [
      "Chi Value:  2581.7797765802225\n",
      "P-value:  1.9010507854513763e-33\n",
      "Degrees of Freedom:  1770\n",
      "Cramer's V-value:  0.7015287180422038\n"
     ]
    }
   ],
   "source": [
    "########### Finding the expected output\n",
    "expected_TODvAS = np.zeros(observed_TODvAS1.shape, dtype=int) \n",
    "colTotals_TODvAS = observed_TODvAS1.sum(axis = 0) \n",
    "rowTotals_TODvAS = observed_TODvAS1.sum(axis = 1)\n",
    "N = rowTotals_TODvAS.sum()\n",
    "\n",
    "for i in range(observed_TODvAS1.shape[0]):\n",
    "    for j in range(observed_TODvAS1.shape[1]):\n",
    "        expected_TODvAS[i,j] = (rowTotals_TODvAS[i] * colTotals_TODvAS[j]) / N\n",
    "expected_TODvAS\n",
    "\n",
    "########### Finding the chi value, p-value, and degrees of freedom, cramers value\n",
    "statistics_values(observed_TODvAS)"
   ]
  },
  {
   "cell_type": "markdown",
   "metadata": {},
   "source": [
    "### Conclusion: There is NO Association between Time of Day and Accident Severity as the P-value (1.901) is not less than 0.01."
   ]
  },
  {
   "cell_type": "markdown",
   "metadata": {},
   "source": [
    "The following graphs show the observed vs. expected values in subplots for the following variables.\n",
    "- Age of Driver vs. Accident Severity\n",
    "- Sex of Driver vs. Accident Severity\n",
    "- Road Surface conditions vs. Accident Severity\n",
    "- Time of Day vs. Accident Severity\n",
    "\n",
    "**Note: I did not include Casualty type vs. Age of Casualty as it is not as relevant as the other graphs... also couldn't make 5 graphs so I narrowed it down to 4 graphs instead of making 6 graphs.*"
   ]
  },
  {
   "cell_type": "code",
   "execution_count": 78,
   "metadata": {},
   "outputs": [
    {
     "name": "stdout",
     "output_type": "stream",
     "text": [
      "[[ 0  0  0  0  0  0  0  0  0  0  0  0  0  1  0  0  0  1  0  0  0  0  2  0\n",
      "   1  0  0  0  2  1  0  0  0  1  2  1  1  0  0  0  0  0  0  1  0  0  0  0\n",
      "   0  0  0  0  1  0  0  0  0  0  0  1  0  0  0  0  0  0  0  0  0  0  0  0\n",
      "   0  0  0  0  1  0  0  0  0  0  0  0  0  0]\n",
      " [ 0  1  1  0  0  1  0  0  0  1  0  4  6 14 14 13 20  8 20 10 19 18 16 18\n",
      "  24 11 14 15 18  9 10 11 10 14 11 12 10 13  4  6 12  8 12 11  7  7  8  5\n",
      "   3 12 11  6 11  9  4  4  5  4  8  3  6  3  1  3  2  2  1  0  4  1  0  0\n",
      "   0  2  2  0  1  0  1  1  0  0  1  2  0  0]\n",
      " [ 1  2  2  2  4  6  6  5  5  5  7 23 27 57 75 80 80 64 74 86 73 87 92 71\n",
      "  88 86 79 79 69 85 72 69 91 70 47 62 65 52 34 52 61 50 54 57 52 36 49 51\n",
      "  41 33 33 39 41 28 23 28 15 16 18 13 11 14 11  9  6  6 10  8  3  0  2  5\n",
      "   3  4  7  2  3  5  2  0  1  2  1  0  1  1]]\n",
      "[[ 0  0  0  0  0  0  0  0  0  0  0  0  0  0  0  0  0  0  0  0  0  0  0  0\n",
      "   0  0  0  0  0  0  0  0  0  0  0  0  0  0  0  0  0  0  0  0  0  0  0  0\n",
      "   0  0  0  0  0  0  0  0  0  0  0  0  0  0  0  0  0  0  0  0  0  0  0  0\n",
      "   0  0  0  0  0  0  0  0  0  0  0  0  0  0]\n",
      " [ 0  0  0  0  0  1  0  0  0  0  1  4  5 11 14 15 16 11 15 15 14 16 17 14\n",
      "  18 15 15 15 14 15 13 12 16 13  9 12 12 10  6  9 11  9 10 11  9  6  9  9\n",
      "   7  7  7  7  8  5  4  5  3  3  4  2  2  2  1  1  1  1  1  1  1  0  0  0\n",
      "   0  0  1  0  0  0  0  0  0  0  0  0  0  0]\n",
      " [ 0  2  2  1  3  5  5  4  4  5  5 22 27 60 74 77 83 60 78 80 76 87 91 74\n",
      "  94 80 77 78 74 79 68 66 84 70 50 62 63 54 31 48 60 48 55 57 49 35 47 46\n",
      "  36 37 36 37 44 30 22 26 16 16 21 14 14 14 10 10  6  6  9  6  5  0  1  4\n",
      "   2  5  7  1  4  4  2  0  0  1  1  1  0  0]]\n"
     ]
    },
    {
     "data": {
      "text/plain": [
       "Text(0.5, 1.0, 'Age of Driver compared to Accident Severity')"
      ]
     },
     "execution_count": 78,
     "metadata": {},
     "output_type": "execute_result"
    },
    {
     "data": {
      "image/png": "[encoded data removed]",
      "text/plain": [
       "<Figure size 432x288 with 4 Axes>"
      ]
     },
     "metadata": {
      "needs_background": "light"
     },
     "output_type": "display_data"
    }
   ],
   "source": [
    "fig, axes = plt.subplots(2,2)\n",
    "\n",
    "#AODvAS: Age of Driver vs. Accident Severity\n",
    "\n",
    "print(observed_AODvAS1)\n",
    "print(expected_AODvAS)\n",
    "axes[0,0].plot(observed_AODvAS1, expected_AODvAS)\n",
    "#axes[0,0].plot(x, expected_AODvAS)\n",
    "axes[0,0].set_title(\"Age of Driver compared to Accident Severity\")\n",
    "\n",
    "# SODvAS: Sex of Driver vs. Accident Severity\n",
    "#axes[0,1].plot(observed_SODvAS, expected_SODvAS)\n",
    "#axes[0,1].set_title(\"Sex of Driver compared to Accident Severity\")\n",
    "\n",
    "#RSCvAS: Road Surface Conditions vs. Accident Severity\n",
    "#axes[1,0].plot(observed_RSCvAS, expected_RSCvAS)\n",
    "#axes[0,0].set_title(\"Road Surface Conditions compared to Accident Severity\")\n",
    "\n",
    "#TODvAS: Time of Day vs. Accident Severity\n",
    "#axes[1,1].plot(observed_TODvAS, expected_TODvAS)\n",
    "#axes[1,1].set_title(\"Time of Day compared to Age of Casualty\")"
   ]
  },
  {
   "cell_type": "markdown",
   "metadata": {},
   "source": [
    "## Spatula Filtering and cleaning the data.\n"
   ]
  },
  {
   "cell_type": "code",
   "execution_count": null,
   "metadata": {},
   "outputs": [],
   "source": [
    "cityname = \"Birmingham\"\n",
    "cityid = \"birmingham\"\n",
    "# the names of the column, and the name of the city (which are the same but casesensitive)"
   ]
  },
  {
   "cell_type": "code",
   "execution_count": null,
   "metadata": {},
   "outputs": [],
   "source": [
    "lsoa = np.genfromtxt(PATH[\"data_external\"] + \"Lower_Layer_Super_Output_Area__December_2011__EW_BSC_V2.csv\", delimiter=',', dtype=None, names=True, encoding='utf-8-sig')"
   ]
  },
  {
   "cell_type": "code",
   "execution_count": null,
   "metadata": {},
   "outputs": [],
   "source": [
    "lsoa\n",
    "#all LOSA polygon data into an LSOA "
   ]
  },
  {
   "cell_type": "code",
   "execution_count": null,
   "metadata": {},
   "outputs": [],
   "source": [
    "city_LSOA11CD_rows = np.flatnonzero(np.core.defchararray.find(lsoa['LSOA11NM'],cityname)!=-1)\n",
    "city_LSOA11CD = lsoa['LSOA11CD'][city_LSOA11CD_rows]\n",
    "city_LSOA11CD\n",
    "#Just filtered all the LSOA data"
   ]
  },
  {
   "cell_type": "code",
   "execution_count": null,
   "metadata": {},
   "outputs": [],
   "source": [
    "city_accidentindices = dataraw[\"accidents\"][\"Accident_Index\"][np.isin(dataraw[\"accidents\"][\"LSOA_of_Accident_Location\"], city_LSOA11CD)]\n",
    "len(city_accidentindices)\n",
    "#len of the Accident indexes that are also in the accident LSOA_Accident_location by the"
   ]
  },
  {
   "cell_type": "code",
   "execution_count": null,
   "metadata": {},
   "outputs": [],
   "source": [
    "datacity = {}\n",
    "for tablename in TABLENAMES:\n",
    "    datacity[tablename] = dataraw[tablename][np.isin(dataraw[tablename][\"Accident_Index\"], city_accidentindices)]\n",
    "#filtered out all the accident that by the accident index that we require"
   ]
  },
  {
   "cell_type": "code",
   "execution_count": null,
   "metadata": {},
   "outputs": [],
   "source": [
    "for tablename in TABLENAMES:\n",
    "    with open(PATH[\"data_interim\"] + tablename + \"_\" + cityid + \".csv\", \"w\") as f:\n",
    "        w = csv.writer(f)\n",
    "        w.writerow(dataraw[tablename].dtype.names)\n",
    "        w.writerows(datacity[tablename])\n",
    "#creates clean excel files in the PATH/data_interim location."
   ]
  },
  {
   "cell_type": "markdown",
   "metadata": {},
   "source": [
    "## Spatial Filtering with Shapely "
   ]
  },
  {
   "cell_type": "code",
   "execution_count": null,
   "metadata": {},
   "outputs": [],
   "source": [
    "with open(PATH[\"data_processed\"] + \"citieslad.json\") as f:\n",
    "    cities_json = json.load(f)\n",
    "# Opened up a file and set the file to cities_jason variable"
   ]
  },
  {
   "cell_type": "code",
   "execution_count": null,
   "metadata": {},
   "outputs": [],
   "source": [
    "cities_json[cityname][\"geometry\"]\n",
    "#This shows all the coordanatates of the polygons of this file."
   ]
  },
  {
   "cell_type": "code",
   "execution_count": null,
   "metadata": {},
   "outputs": [],
   "source": [
    "city_boundary = shapely.geometry.shape(cities_json[cityname][\"geometry\"])\n",
    "type(city_boundary)\n",
    "print(city_boundary)\n",
    "#Makes a shape out of those coordanates that is later overlaid on the map."
   ]
  },
  {
   "cell_type": "code",
   "execution_count": null,
   "metadata": {},
   "outputs": [],
   "source": [
    "city_boundary"
   ]
  },
  {
   "cell_type": "code",
   "execution_count": null,
   "metadata": {},
   "outputs": [],
   "source": [
    "city_boundary.geom_type"
   ]
  },
  {
   "cell_type": "code",
   "execution_count": null,
   "metadata": {},
   "outputs": [],
   "source": [
    "lon_list = dataraw[\"accidents\"][\"Longitude\"]\n",
    "lat_list = dataraw[\"accidents\"][\"Latitude\"]"
   ]
  },
  {
   "cell_type": "code",
   "execution_count": null,
   "metadata": {},
   "outputs": [],
   "source": [
    "city_acc_rowindices = []\n",
    "for i in range(len(lon_list)):\n",
    "    if Point(lon_list[i], lat_list[i]).within(city_boundary):\n",
    "        city_acc_rowindices.append(i)\n",
    "print(city_acc_rowindices)\n",
    "#appends the latitude and longitude if they are in the city_boundary "
   ]
  },
  {
   "cell_type": "code",
   "execution_count": null,
   "metadata": {},
   "outputs": [],
   "source": [
    "with open(PATH[\"data_interim\"] + \"accidents_\" + cityid + \"lad.csv\", \"w\") as f:\n",
    "    w = csv.writer(f)\n",
    "    w.writerow(dataraw[\"accidents\"].dtype.names)\n",
    "    w.writerows(datacity[\"accidents\"])\n",
    "#writes clean data of the cities (birminghams) accidents "
   ]
  },
  {
   "cell_type": "markdown",
   "metadata": {},
   "source": [
    "limit accidnets with casualties\n"
   ]
  },
  {
   "cell_type": "code",
   "execution_count": null,
   "metadata": {},
   "outputs": [],
   "source": [
    "datacity[\"vehicles\"] = dataraw[\"vehicles\"][np.isin(dataraw[\"vehicles\"][\"Accident_Index\"], datacity[\"accidents\"][\"Accident_Index\"])]\n",
    "datacity[\"casualties\"] = dataraw[\"casualties\"][np.isin(dataraw[\"casualties\"][\"Accident_Index\"], datacity[\"accidents\"][\"Accident_Index\"])]\n",
    "#adds datacity in file if they are in the raw folder and if they are in the appropriate accident index.\n"
   ]
  },
  {
   "cell_type": "code",
   "execution_count": null,
   "metadata": {},
   "outputs": [],
   "source": [
    "len(datacity[\"accidents\"]), len(datacity[\"vehicles\"]), len(datacity[\"casualties\"])"
   ]
  },
  {
   "cell_type": "code",
   "execution_count": null,
   "metadata": {},
   "outputs": [],
   "source": [
    "with open(PATH[\"data_interim\"] + \"vehicles_\" + cityid + \"lad.csv\", \"w\") as f:\n",
    "    w = csv.writer(f)\n",
    "    w.writerow(dataraw[\"vehicles\"].dtype.names)\n",
    "    w.writerows(datacity[\"vehicles\"])\n",
    "#writes the clean birmingham vehicle data \n",
    "\n",
    "with open(PATH[\"data_interim\"] + \"casualties_\" + cityid + \"lad.csv\", \"w\") as f:\n",
    "    w = csv.writer(f)\n",
    "    w.writerow(dataraw[\"casualties\"].dtype.names)\n",
    "    w.writerows(datacity[\"casualties\"])\n",
    "#writes the clean birmingham casualties datasets\n"
   ]
  },
  {
   "cell_type": "markdown",
   "metadata": {},
   "source": [
    "## Making the map\n"
   ]
  },
  {
   "cell_type": "code",
   "execution_count": null,
   "metadata": {},
   "outputs": [],
   "source": [
    "m = folium.Map(location=[52.486194, -1.890389],zoom_start=11, title =\"Birmingham Casualties\")\n",
    "#initializes the map with the coordiant, zoom level and title\n",
    "latlons = np.vstack((data_bir[\"accidents\"]['Latitude'], data_bir[\"accidents\"]['Longitude'])).T\n",
    "#found the average of the latitude/longnitude (used for the heatmap below)\n",
    "style = {'fillColor': '#e6fff7', 'color': '#228B22'}\n",
    "folium.GeoJson(cities_json[cityname][\"geometry\"], name=\"Birmingham\",style_function=lambda x:style).add_to(m)\n",
    "#Set a green overlay of the birmingham are in green. To see where the city starts and ends. With a style and name.\n",
    "\n",
    "_1214 = folium.FeatureGroup(name=\"12-14\")\n",
    "_0608 = folium.FeatureGroup(name=\"06-08\")\n",
    "_0810 = folium.FeatureGroup(name=\"08-10\")\n",
    "_1012 = folium.FeatureGroup(name=\"10-12\")\n",
    "_1416 = folium.FeatureGroup(name=\"14-16\")\n",
    "_1618 = folium.FeatureGroup(name=\"16-18\")\n",
    "_1820 = folium.FeatureGroup(name=\"18-20\")\n",
    "_2022 = folium.FeatureGroup(name=\"20-22\")\n",
    "rest = folium.FeatureGroup(name=\"20-06\")\n",
    "All_data = folium.FeatureGroup(name=\"All Data\")\n",
    "\n",
    "#Set a feature group for each of the timezones so that they could be filtered on the top right of the map.\n",
    "\n",
    "#Below, i filtered out all of the appropriate data points a markers. Added popups to them and set them with a unique color.\n",
    "for row in data_bir[\"accidents\"]:\n",
    "    All_data.add_child(folium.Circle([row['Latitude'], row['Longitude']],\n",
    "                            radius = 4,\n",
    "                            popup = row['Accident_Index'] + \"\\n\" + row[\"Date\"] + \", \" + row[\"Time\"],\n",
    "                            color=\"deeppink\",\n",
    "                            fill = False\n",
    "                            ))\n",
    "    if row[\"Time\"][:2] == \"12\" or row[\"Time\"][:2] == \"13\":\n",
    "        _1214.add_child(folium.Circle([row['Latitude'], row['Longitude']],\n",
    "                            radius = 4,\n",
    "                            popup = row['Accident_Index'] + \"\\n\" + row[\"Date\"] + \", \" + row[\"Time\"],\n",
    "                            color=\"darkred\",\n",
    "                            fill = False\n",
    "                            ))\n",
    "    if row[\"Time\"][:2] == \"06\" or row[\"Time\"][:2] == \"07\":\n",
    "        _0608.add_child(folium.Circle([row['Latitude'], row['Longitude']],\n",
    "                        radius = 4,\n",
    "                        popup = row['Accident_Index'] + \"\\n\" + row[\"Date\"] + \", \" + row[\"Time\"],\n",
    "                        color=\"green\",\n",
    "                        fill = False\n",
    "                        ))\n",
    "    if row[\"Time\"][:2] == \"08\" or row[\"Time\"][:2] == \"09\":\n",
    "        _0810.add_child(folium.Circle([row['Latitude'], row['Longitude']],\n",
    "                            radius = 4,\n",
    "                            popup = row['Accident_Index'] + \"\\n\" + row[\"Date\"] + \", \" + row[\"Time\"],\n",
    "                            color=\"blue\",\n",
    "                            fill = False\n",
    "                            ))\n",
    "    if row[\"Time\"][:2] == \"10\" or row[\"Time\"][:2] == \"11\":\n",
    "        _1012.add_child(folium.Circle([row['Latitude'], row['Longitude']],\n",
    "                            radius = 4,\n",
    "                            popup = row['Accident_Index'] + \"\\n\" + row[\"Date\"] + \", \" + row[\"Time\"],\n",
    "                            color=\"gold\",\n",
    "                            fill = False\n",
    "                            ))\n",
    "    if row[\"Time\"][:2] == \"14\" or row[\"Time\"][:2] == \"15\":\n",
    "        _1416.add_child(folium.Circle([row['Latitude'], row['Longitude']],\n",
    "                            radius = 4,\n",
    "                            popup = row['Accident_Index'] + \"\\n\" + row[\"Date\"] + \", \" + row[\"Time\"],\n",
    "                            color=\"purple\",\n",
    "                            fill = False\n",
    "                            ))\n",
    "    if row[\"Time\"][:2] == \"16\" or row[\"Time\"][:2] == \"17\":\n",
    "        _1618.add_child(folium.Circle([row['Latitude'], row['Longitude']],\n",
    "                            radius = 4,\n",
    "                            popup = row['Accident_Index'] + \"\\n\" + row[\"Date\"] + \", \" + row[\"Time\"],\n",
    "                            color=\"indigo\",\n",
    "                            fill = False\n",
    "                            ))\n",
    "    if row[\"Time\"][:2] == \"18\" or row[\"Time\"][:2] == \"19\":\n",
    "        _1820.add_child(folium.Circle([row['Latitude'], row['Longitude']],\n",
    "                            radius = 4,\n",
    "                            popup = row['Accident_Index'] + \"\\n\" + row[\"Date\"] + \", \" + row[\"Time\"],\n",
    "                            color=\"brown\",\n",
    "                            fill = False\n",
    "                            ))\n",
    "    if row[\"Time\"][:2] == \"20\" or row[\"Time\"][:2] == \"21\":\n",
    "        _2022.add_child(folium.Circle([row['Latitude'], row['Longitude']],\n",
    "                            radius = 4,\n",
    "                            popup = row['Accident_Index'] + \"\\n\" + row[\"Date\"] + \", \" + row[\"Time\"],\n",
    "                            color=\"darkorange\",\n",
    "                            fill = False\n",
    "                            ))\n",
    "    else:\n",
    "        rest.add_child(folium.Circle([row['Latitude'], row['Longitude']],\n",
    "                radius = 4,\n",
    "                popup = row['Accident_Index'] + \"\\n\" + row[\"Date\"] + \", \" + row[\"Time\"],\n",
    "                color=\"olive\",\n",
    "                fill = False\n",
    "                ))\n",
    "        \n",
    "#added the featuregroups to the map \n",
    "m.add_child(All_data)\n",
    "m.add_child(rest)\n",
    "m.add_child(_2022)\n",
    "m.add_child(_1214)   \n",
    "m.add_child(_0608)\n",
    "m.add_child(_0810)   \n",
    "m.add_child(_1012)   \n",
    "m.add_child(_1416)   \n",
    "m.add_child(_1618)   \n",
    "m.add_child(_1820)\n",
    "# \n",
    "HeatMap(latlons).add_to(folium.FeatureGroup(name='Heat Map').add_to(m))\n",
    "#made a heatmap.\n",
    "folium.LayerControl().add_to(m)\n",
    "#used layercontrol to be able to use layers on the graph which allowed me to \n",
    "m"
   ]
  },
  {
   "cell_type": "markdown",
   "metadata": {},
   "source": [
    "### map analysis (markers).\n",
    "* data does not go outside green overlay \n",
    "* Most accidents are in the middle of the city. Specificall the main roads in the middle of the city. And they spread out a bit more to the south of birmingham then the wes. And east side gets less accidents (although the center of birmigham is closer to the west so that would happe.\n",
    "* from 08-10 there are no accidents in northfolk but they are a bit lower donw in the birmingham are (may try to drive out of the city).\n",
    "* form 10-12 there are very few accident in sutton coldifield (especially non in the center of sutton)."
   ]
  },
  {
   "cell_type": "code",
   "execution_count": null,
   "metadata": {},
   "outputs": [],
   "source": [
    "latlons = np.vstack( (data_bir[\"accidents\"]['Latitude'], data_bir[\"accidents\"]['Longitude'])).T\n",
    "#latitude and longnitude for the seconds g\n",
    "centroid = list(MultiPoint(latlons).centroid.coords)[0]\n",
    "#found the coordanates of the center\n",
    "m2 = folium.Map(centroid, zoom_start=11, title=\"Clusters of Birmingham Accidents\")\n",
    "#Made a map\n",
    "folium.GeoJson(cities_json[cityname][\"geometry\"], name=\"Birmingham\",style_function=lambda x:style).add_to(m2)\n",
    "#added a folium birmingham silhouette\n",
    "#plotted a map with these centroids\n",
    "marker_cluster1214 = MarkerCluster().add_to(folium.FeatureGroup(name='Clusters 12-14').add_to(m2))\n",
    "marker_cluster1416 = MarkerCluster().add_to(folium.FeatureGroup(name='Clusters 14-16').add_to(m2))\n",
    "marker_cluster1618 = MarkerCluster().add_to(folium.FeatureGroup(name='Clusters 16-18').add_to(m2))\n",
    "marker_cluster1820 = MarkerCluster().add_to(folium.FeatureGroup(name='Clusters 18-20').add_to(m2))\n",
    "marker_cluster2022 = MarkerCluster().add_to(folium.FeatureGroup(name='Clusters 20-22').add_to(m2))\n",
    "marker_cluster0608 = MarkerCluster().add_to(folium.FeatureGroup(name='Clusters 06-08').add_to(m2))\n",
    "marker_cluster0810 = MarkerCluster().add_to(folium.FeatureGroup(name='Clusters 08-10').add_to(m2))\n",
    "marker_cluster1012 = MarkerCluster().add_to(folium.FeatureGroup(name='Clusters 10-12').add_to(m2))\n",
    "marker_cluster_rest = MarkerCluster().add_to(folium.FeatureGroup(name='Clusters 22 - 06').add_to(m2))\n",
    "marker_cluster_all = MarkerCluster().add_to(folium.FeatureGroup(name=\"All data\").add_to(m2))\n",
    "\n",
    "#added cluster where each data is held and added to the map.These clusters will be on the map.\n",
    "\n",
    "#below,i have filtered out the data for each cluster with neccesary information like color/accidnet index.\n",
    "for row in datacity[\"accidents\"]:\n",
    "    folium.Circle([row['Latitude'], row['Longitude']],\n",
    "                            radius = 4,\n",
    "                            popup = row['Accident_Index'] + \"\\n\" + row[\"Date\"] + \", \" + row[\"Time\"],\n",
    "                            color=\"deeppink\",\n",
    "                            fill = False\n",
    "                            ).add_to(marker_cluster_all)    \n",
    "    if row[\"Time\"][:2] == \"12\" or row[\"Time\"][:2] == \"13\":\n",
    "        folium.Circle([row['Latitude'], row['Longitude']],\n",
    "                            radius = 4,\n",
    "                            popup = row['Accident_Index'] + \"\\n\" + row[\"Date\"] + \", \" + row[\"Time\"],\n",
    "                            color=\"darkred\",\n",
    "                            fill = False\n",
    "                            ).add_to(marker_cluster1214)\n",
    "    if row[\"Time\"][:2] == \"06\" or row[\"Time\"][:2] == \"07\":\n",
    "        folium.Circle([row['Latitude'], row['Longitude']],\n",
    "                        radius = 4,\n",
    "                        popup = row['Accident_Index'] + \"\\n\" + row[\"Date\"] + \", \" + row[\"Time\"],\n",
    "                        color=\"green\",\n",
    "                        fill = False\n",
    "                        ).add_to(marker_cluster0608)\n",
    "    if row[\"Time\"][:2] == \"08\" or row[\"Time\"][:2] == \"09\":\n",
    "        folium.Circle([row['Latitude'], row['Longitude']],\n",
    "                            radius = 4,\n",
    "                            popup = row['Accident_Index'] + \"\\n\" + row[\"Date\"] + \", \" + row[\"Time\"],\n",
    "                            color=\"blue\",\n",
    "                            fill = False\n",
    "                            ).add_to(marker_cluster0810)\n",
    "    if row[\"Time\"][:2] == \"10\" or row[\"Time\"][:2] == \"11\":\n",
    "        folium.Circle([row['Latitude'], row['Longitude']],\n",
    "                            radius = 4,\n",
    "                            popup = row['Accident_Index'] + \"\\n\" + row[\"Date\"] + \", \" + row[\"Time\"],\n",
    "                            color=\"gold\",\n",
    "                            fill = False\n",
    "                            ).add_to(marker_cluster1012)\n",
    "    if row[\"Time\"][:2] == \"14\" or row[\"Time\"][:2] == \"15\":\n",
    "        folium.Circle([row['Latitude'], row['Longitude']],\n",
    "                            radius = 4,\n",
    "                            popup = row['Accident_Index'] + \"\\n\" + row[\"Date\"] + \", \" + row[\"Time\"],\n",
    "                            color=\"purple\",\n",
    "                            fill = False\n",
    "                            ).add_to(marker_cluster1416)\n",
    "    if row[\"Time\"][:2] == \"16\" or row[\"Time\"][:2] == \"17\":\n",
    "        folium.Circle([row['Latitude'], row['Longitude']],\n",
    "                            radius = 4,\n",
    "                            popup = row['Accident_Index'] + \"\\n\" + row[\"Date\"] + \", \" + row[\"Time\"],\n",
    "                            color=\"indigo\",\n",
    "                            fill = False\n",
    "                            ).add_to(marker_cluster1618)\n",
    "    if row[\"Time\"][:2] == \"18\" or row[\"Time\"][:2] == \"19\":\n",
    "        folium.Circle([row['Latitude'], row['Longitude']],\n",
    "                            radius = 4,\n",
    "                            popup = row['Accident_Index'] + \"\\n\" + row[\"Date\"] + \", \" + row[\"Time\"],\n",
    "                            color=\"brown\",\n",
    "                            fill = False\n",
    "                            ).add_to(marker_cluster1820)\n",
    "    if row[\"Time\"][:2] == \"20\" or row[\"Time\"][:2] == \"21\":\n",
    "        folium.Circle([row['Latitude'], row['Longitude']],\n",
    "                            radius = 4,\n",
    "                            popup = row['Accident_Index'] + \"\\n\" + row[\"Date\"] + \", \" + row[\"Time\"],\n",
    "                            color=\"darkorange\",\n",
    "                            fill = False\n",
    "                            ).add_to(marker_cluster2022)\n",
    "    else:\n",
    "        folium.Circle([row['Latitude'], row['Longitude']],\n",
    "                radius = 3,\n",
    "                popup = row['Accident_Index'] + \"\\n\" + row[\"Date\"] + \", \" + row[\"Time\"],\n",
    "                color=\"olvie\",\n",
    "                fill = False\n",
    "                ).add_to(marker_cluster_rest)\n",
    "\n",
    "HeatMap(latlons).add_to(folium.FeatureGroup(name='Heat Map for total').add_to(m2))\n",
    "#added a heatmap \n",
    "folium.LayerControl().add_to(m2)\n",
    "#added layers so that i could switch the specific clustered data on/off\n",
    "m2"
   ]
  },
  {
   "cell_type": "code",
   "execution_count": null,
   "metadata": {},
   "outputs": [],
   "source": [
    "m3 = folium.Map(centroid, zoom_start=11, titles = \"Cluster of accident severity\", title=\"Severity of Accidents\")\n",
    "#plotted a map with these centroids\n",
    "folium.GeoJson(cities_json[cityname][\"geometry\"], name=\"Birmingham\",style_function=lambda x:style).add_to(m3)\n",
    "#added a folium birmingham silhouette\n",
    "\n",
    "#Agian making clusters of data points.\n",
    "marker_clusterSev1 = MarkerCluster().add_to(folium.FeatureGroup(name='Fatal:1 ').add_to(m3))\n",
    "marker_clusterSev2 = MarkerCluster().add_to(folium.FeatureGroup(name='Serious:2').add_to(m3))\n",
    "marker_clusterSev3 = MarkerCluster().add_to(folium.FeatureGroup(name='Slight:3').add_to(m3))\n",
    "#datacity[\"vehicles\"] = dataraw[\"vehicles\"][np.isin(dataraw[\"vehicles\"][\"Accident_Index\"], datacity[\"accidents\"][\"Accident_Index\"])]\n",
    "filtered_bir = data_bir[\"accidents\"][np.isin(data_bir[\"accidents\"][\"Accident_Index\"], data_bir[\"casualties\"][\"Accident_Index\"])]\n",
    "#a = pd.DataFrame(data=filtered_bir)\n",
    "\n",
    "for row in filtered_bir:\n",
    "    if row[\"Accident_Severity\"] == 1:\n",
    "        folium.Circle([row['Latitude'], row['Longitude']],\n",
    "                            radius = 4,\n",
    "                            popup = row['Accident_Index'] + \"\\n\" + row[\"Date\"] + \", \" + row[\"Time\"],\n",
    "                            color=\"goldenrod\",\n",
    "                            fill = False\n",
    "                            ).add_to(marker_clusterSev1)\n",
    "    if row[\"Accident_Severity\"] == 2:\n",
    "        folium.Circle([row['Latitude'], row['Longitude']],\n",
    "                            radius = 4,\n",
    "                            popup = row['Accident_Index'] + \"\\n\" + row[\"Date\"] + \", \" + row[\"Time\"],\n",
    "                            color=\"darkblue\",\n",
    "                            fill = False\n",
    "                            ).add_to(marker_clusterSev2)\n",
    "    if row[\"Accident_Severity\"] == 3:\n",
    "        folium.Circle([row['Latitude'], row['Longitude']],\n",
    "                            radius = 4,\n",
    "                            popup = row['Accident_Index'] + \"\\n\" + row[\"Date\"] + \", \" + row[\"Time\"],\n",
    "                            color=\"darkred\",\n",
    "                            fill = False\n",
    "                            ).add_to(marker_clusterSev3)\n",
    "    \n",
    "folium.LayerControl().add_to(m3)\n",
    "#added layers so that i could switch the specific clustered data on/off\n",
    "m3\n"
   ]
  },
  {
   "cell_type": "markdown",
   "metadata": {},
   "source": [
    "### My analysis.\n",
    "#### cluster map \n",
    "* there are no dots outisde of birmingham green sptcial are  (well cleaned).\n",
    "* most of the accidents happen around the center of the city. (This is for All data)\n",
    "    *the total cluster shows that there are 2623 accidents \n",
    "    *two of the clusters (1055,423) make up ~56.3 % of the accidents (all though more custer would be considered in the city center.\n",
    "    *there are a few singled out clusters outside the border. Showing that accidents happen less in those areas (otherwise the numbers would be bigger or they would merge with a nearby cluster. \n",
    "* from 20-22 there seems to be way less accidents. Although teh lower part of birmigham (northfield) has 14  accident whereas the one cluster closer to the city center has 7. \n",
    "* betrween 06-08 (stechfor) cluster has low accident ,however, it is merged with a cluster that has high accidents or it itself has high accidents.\n",
    "* form 10-12 in coldfield there are no clusters, so no accidents which is unusual.\n"
   ]
  },
  {
   "cell_type": "markdown",
   "metadata": {},
   "source": [
    "# Investigating time vs accident severity in birmingham and the UK"
   ]
  },
  {
   "cell_type": "markdown",
   "metadata": {},
   "source": [
    "The following code graphs the frequency of accidents filtered by gender, location, and accident severity. It also graphs the average accident severity for these variables where 1 is the highest severity and 3 is the lowest, this gives insights into which times have the most severe accidents. In total there are 30 possible combinations of variables that can make 30 different graphs of varying usefullness. The graphs of particular interest are discussed in further detain below the code.\n",
    "<br>\n",
    "Notes on the default scale:<br>\n",
    "- The scale will stay the same when switching between graphs if default is not chosen<br>                                                      \n",
    "- The scale will default if average severity is chosen as this graph uses a unique scale.\n"
   ]
  },
  {
   "cell_type": "code",
   "execution_count": null,
   "metadata": {},
   "outputs": [],
   "source": [
    "def create_masked(Data,Severity,DriverGender):\n",
    "    value_map={\"Slight\":3,\"Serious\":2,\"Fatal\":1}\n",
    "\n",
    "    #Fliter dataset by gender if asked for\n",
    "    if DriverGender ==\"Female\":\n",
    "        females_mask_vehicles = np.where(Data[\"vehicles\"][\"Sex_of_Driver\"] == 2)\n",
    "        vehicles_masked=Data[\"vehicles\"][females_mask_vehicles]\n",
    "        accident_id=vehicles_masked[\"Accident_Index\"]\n",
    "        accidents_masked = np.where(np.isin(Data[\"accidents\"][\"Accident_Index\"], (accident_id)))\n",
    "        Data=Data[\"accidents\"][accidents_masked]\n",
    "    elif DriverGender ==\"Male\":\n",
    "        males_in_vehicles = np.where(Data[\"vehicles\"][\"Sex_of_Driver\"] == 1)\n",
    "        vehicles_masked=Data[\"vehicles\"][males_in_vehicles]\n",
    "        accident_id=vehicles_masked[\"Accident_Index\"]\n",
    "        accidents_masked = np.where(np.isin(Data[\"accidents\"][\"Accident_Index\"], (accident_id)))\n",
    "        Data=Data[\"accidents\"][accidents_masked]\n",
    "    else:\n",
    "        Data=Data[\"accidents\"]\n",
    "    \n",
    "    #Filter by severity\n",
    "    if Severity==\"All\":\n",
    "        return Data\n",
    "    elif Severity==\"Average\":\n",
    "        average_dict={}\n",
    "        #Create dict for all and find av.\n",
    "        mask=np.where(Data[\"Accident_Severity\"]==value_map[\"Fatal\"])\n",
    "        Fatal=Data[mask]\n",
    "        dict_of_fatal=create_dict(Fatal)\n",
    "        mask=np.where(Data[\"Accident_Severity\"]==value_map[\"Serious\"])\n",
    "        Serious=Data[mask]\n",
    "        dict_of_serious=create_dict(Serious)\n",
    "        mask=np.where(Data[\"Accident_Severity\"]==value_map[\"Slight\"])\n",
    "        Slight=Data[mask]\n",
    "        dict_of_slight=create_dict(Slight)\n",
    "        #finding average\n",
    "        for key in dict_of_fatal:\n",
    "            total=dict_of_fatal[key]+dict_of_serious[key]+dict_of_slight[key]\n",
    "            average_dict[key]=((dict_of_fatal[key]+2*dict_of_serious[key]+3*dict_of_slight[key])/total)\n",
    "        return average_dict\n",
    "    else:\n",
    "        mask=np.where(Data[\"Accident_Severity\"]==value_map[Severity])\n",
    "        Data=Data[mask]\n",
    "        return Data\n",
    "  "
   ]
  },
  {
   "cell_type": "code",
   "execution_count": null,
   "metadata": {},
   "outputs": [],
   "source": [
    "def create_dict(Data):\n",
    "##create a dictionart with the keys as time bins and the values as frequencies\n",
    "    times_dic_count = {\"\":0}\n",
    "    for time_category in time_categories:\n",
    "        times_dic_count[time_category] = 0\n",
    "    \n",
    "    for i in range(len(Data[\"Time\"])):\n",
    "        times_dic_count[Data[\"Time\"][i][:2]] += 1\n",
    "    del times_dic_count[\"\"]        \n",
    "    return times_dic_count"
   ]
  },
  {
   "cell_type": "code",
   "execution_count": null,
   "metadata": {},
   "outputs": [],
   "source": [
    "def title_labels(Severity,Region,DriverGender):\n",
    "    #creates labels and titles depending on the graph type\n",
    "    xlabel=\"Time of Day\"\n",
    "    if DriverGender==\"Don't Show Gender\":\n",
    "        DriverGender=\"\"\n",
    "    if Severity==\"Average\":\n",
    "        title=(f\"Average Severity of {DriverGender} Drivers in {Region} by Time of Day\")\n",
    "        ylabel=\"Average Severity of Accidents 1-3 where 1 is Fatal, 2 is Serious, and 3 is Slight\"\n",
    "    else:\n",
    "        title=(f\"Frequency of Accidents of {Severity} Severity by {DriverGender} Drivers in {Region} by Time of Day\")\n",
    "        ylabel=\"Frequency\"\n",
    "    return title,xlabel,ylabel"
   ]
  },
  {
   "cell_type": "code",
   "execution_count": null,
   "metadata": {},
   "outputs": [],
   "source": [
    "def create_plot(Data,Severity,title,xlabel,ylabel,scale,default,DriverGender):\n",
    "    #plots the different graphs\n",
    "    colour_dict={\"Fatal\":\"indianred\",\"Serious\":\"sandybrown\",\"Slight\":\"wheat\"}\n",
    "    plt.figure(figsize=(10,10))\n",
    "    plt.title(title)\n",
    "    plt.xlabel(xlabel)\n",
    "    plt.ylabel(ylabel)\n",
    "    \n",
    "    if Severity==\"All\":\n",
    "        #plot slight\n",
    "        Severity=\"Slight\"\n",
    "        temp_data=create_masked(Data,Severity,DriverGender)\n",
    "        dictionary=create_dict(temp_data)\n",
    "        plt.bar(dictionary.keys(),dictionary.values(),label=Severity,color=colour_dict[Severity])\n",
    "        Severity=\"Serious\"\n",
    "        temp_data=create_masked(Data,Severity,DriverGender)\n",
    "        dictionary=create_dict(temp_data)\n",
    "        plt.bar(dictionary.keys(),dictionary.values(),label=Severity,color=colour_dict[Severity])\n",
    "        Severity=\"Fatal\"\n",
    "        temp_data=create_masked(Data,Severity,DriverGender)\n",
    "        dictionary=create_dict(temp_data)\n",
    "        plt.bar(dictionary.keys(),dictionary.values(),label=Severity,color=colour_dict[Severity])\n",
    "        plt.legend(title=\"Severity of Accident\")\n",
    "    elif Severity==\"Average\":\n",
    "        plt.plot(Data.keys(),Data.values())\n",
    "        plt.ymin=1.5\n",
    "        plt.ymax=1\n",
    "        plt.gca().invert_yaxis()\n",
    "    else:\n",
    "        dictionary=create_dict(Data)\n",
    "        if default==0:\n",
    "            plt.ylim(0,5**scale)\n",
    "        plt.bar(dictionary.keys(),dictionary.values(),label=Severity,color=colour_dict[Severity])\n",
    "    pass"
   ]
  },
  {
   "cell_type": "code",
   "execution_count": null,
   "metadata": {},
   "outputs": [],
   "source": [
    "def f(Severity,Region,DriverGender,scale,default):\n",
    "    #takes the interactive inputs and creates a graph of the users choosing.\n",
    "    \n",
    "    #We want the default scale for the average severity graph\n",
    "    if Severity==\"Average\":\n",
    "        default=True\n",
    "        \n",
    "    #Starting data set by region\n",
    "    if Region==\"Birmingham\":\n",
    "        Data=data_bir\n",
    "    else:\n",
    "        Data=dataraw\n",
    "        \n",
    "    #Select mask using function above\n",
    "    if Severity!=\"All\":\n",
    "        Data=create_masked(Data,Severity,DriverGender)\n",
    "\n",
    "    #find labels using function above\n",
    "    title,xlabel,ylabel=title_labels(Severity,Region,DriverGender)\n",
    "    \n",
    "    #plot using function above\n",
    "    create_plot(Data,Severity,title,xlabel,ylabel,scale,default,DriverGender)\n",
    "        \n",
    "        \n",
    "        \n",
    "#This code creates the interactive elements of the graph and is the input of the function f()        \n",
    "interactive(f,Severity=[\"Slight\",\"Serious\",\"Fatal\",\"All\",\"Average\"],\n",
    "            Region=[\"England\",\"Birmingham\"],\n",
    "            DriverGender=[\"Don't Show Gender\",\"Male\",\"Female\"],\n",
    "            scale=FloatSlider(min=1,max=6,step=0.25,value=5,description=\"Scale 5^x \"),\n",
    "            default=Checkbox(True,description=\"Enable Default Scale\")\n",
    "           )"
   ]
  },
  {
   "cell_type": "markdown",
   "metadata": {},
   "source": [
    "# Graphs of interest from the interactive graph:\n",
    "- **all england**<br>\n",
    "good overview of frequency of each type by hour, big rushhour increase in accidents\n",
    "\n",
    "- **all birmingham**<br>\n",
    "good overview of frequency of each type by hour, big rushhour increase in accidents\n",
    "- **average england**<br>\n",
    "most severe accidents happen in the early hours and late at night, whereas the rushhour accidents seem to be less fatal or severe. This can also be seen to somme extent in the birmingham graph but there isnt enoug data for the 24 bins to make much sense due to less data so graph doesnt show as nice a relashionship.\n",
    "- **all female vs all male for both birmingham and england**<br>\n",
    "if you keep the scale the same then you can see the large difference in the number of accidents women are in vs men. This may be because there are more male drivers or that women drive more safely.\n",
    "- **fatal male vs female for both england and birmingham**<br>\n",
    "way way less fatal accidents with female drivers and there was only one fatal female accident in birmingham. Not many fatal accidents in birmingham so not much data for severe graph\n",
    "- **average england male vs female**<br>\n",
    "females have less average accident severity. The data for the same graphs for birmingham doesnt show much\n",
    "\n",
    "\n"
   ]
  },
  {
   "cell_type": "code",
   "execution_count": null,
   "metadata": {},
   "outputs": [],
   "source": []
  }
 ],
 "metadata": {
  "kernelspec": {
   "display_name": "Python 3",
   "language": "python",
   "name": "python3"
  },
  "language_info": {
   "codemirror_mode": {
    "name": "ipython",
    "version": 3
   },
   "file_extension": ".py",
   "mimetype": "text/x-python",
   "name": "python",
   "nbconvert_exporter": "python",
   "pygments_lexer": "ipython3",
   "version": "3.8.3"
  }
 },
 "nbformat": 4,
 "nbformat_minor": 4
}
