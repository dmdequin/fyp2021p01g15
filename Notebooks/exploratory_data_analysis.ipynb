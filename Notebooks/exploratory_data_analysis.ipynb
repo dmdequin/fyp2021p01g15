{
 "cells": [
  {
   "cell_type": "code",
   "execution_count": 2,
   "metadata": {},
   "outputs": [],
   "source": [
    "import numpy as np\n",
    "import pandas as pd"
   ]
  },
  {
   "cell_type": "markdown",
   "metadata": {},
   "source": [
    "## Load the data"
   ]
  },
  {
   "cell_type": "code",
   "execution_count": 7,
   "metadata": {},
   "outputs": [],
   "source": [
    "accidents = pd.read_csv('../Data/raw/Road Safety Data - Accidents 2019.csv', delimiter=',', dtype='str_')\n",
    "casualties = pd.read_csv(\"../Data/raw/Road Safety Data - Casualties 2019.csv\", delimiter = \",\", dtype = \"str_\")\n",
    "vehicles = pd.read_csv(\"../Data/raw/Road Safety Data- Vehicles 2019.csv\", delimiter = \",\", dtype = \"str_\")"
   ]
  },
  {
   "cell_type": "code",
   "execution_count": 9,
   "metadata": {},
   "outputs": [],
   "source": [
    "# Convert loaded data to pandas data frames\n",
    "accidents = pd.DataFrame(accidents)\n",
    "casualties = pd.DataFrame(casualties)\n",
    "vehicles = pd.DataFrame(vehicles)"
   ]
  },
  {
   "cell_type": "markdown",
   "metadata": {},
   "source": [
    "## Report the dimensions of the data (number of tables, rows, fields)."
   ]
  },
  {
   "cell_type": "code",
   "execution_count": 5,
   "metadata": {},
   "outputs": [
    {
     "name": "stdout",
     "output_type": "stream",
     "text": [
      "(117536, 32)\n",
      "(153158, 16)\n",
      "(216381, 23)\n"
     ]
    }
   ],
   "source": [
    "print(accidents.shape)\n",
    "print(casualties.shape)\n",
    "print(vehicles.shape)"
   ]
  },
  {
   "cell_type": "markdown",
   "metadata": {},
   "source": [
    "## Masking for Birmingham"
   ]
  },
  {
   "cell_type": "code",
   "execution_count": 14,
   "metadata": {},
   "outputs": [
    {
     "name": "stdout",
     "output_type": "stream",
     "text": [
      "(2623, 32)\n"
     ]
    }
   ],
   "source": [
    "# creating the mask to show the data for Birmingham on the accidents sheet\n",
    "birmingham_mask = accidents[\"Local_Authority_(District)\"] == \"300\"\n",
    "clean_accidents = accidents[birmingham_mask]\n",
    "\n",
    "print(clean_accidents.shape)\n",
    "\n",
    "# just to check that it is only district 300\n",
    "#print(clean_accidents[\"Local_Authority_(District)\"])"
   ]
  },
  {
   "cell_type": "code",
   "execution_count": 13,
   "metadata": {},
   "outputs": [],
   "source": [
    "# optional\n",
    "# combining all the data\n",
    "# can we verify that this actually merges correctly? Or should we keep the tables seperate?\n",
    "# some accidents have more than 1 casualty, for example, and the combined data only shows info for 1 casualty each\n",
    "# Then we will still have to filter the casualty and vehicle sheets somehow\n",
    "result = pd.concat([accidents, vehicles, casualties], axis=1)\n",
    "\n",
    "# making sure there are no duplicate columns\n",
    "data = result.loc[:,~result.columns.duplicated()]\n",
    "\n",
    "combined_mask = data[\"Local_Authority_(District)\"] == \"300\"\n",
    "\n",
    "combined_clean_data = data[combined_mask]\n",
    "\n",
    "#combined_clean_data_frame = pd.DataFrame(combined_clean_data) # was converted to a data frame above\n",
    "\n",
    "#print(data[combined_mask])\n",
    "\n",
    "#print(combined_clean_data[\"Local_Authority_(District)\"])\n",
    "\n",
    "# How can we write this line so that it saves to the correct folder in the repository?\n",
    "combined_clean_data.to_csv(r'combined_clean_data.csv', index = False, header = True)"
   ]
  },
  {
   "cell_type": "markdown",
   "metadata": {},
   "source": [
    "## Identify for each variable whether it is numerical or categorical."
   ]
  },
  {
   "cell_type": "code",
   "execution_count": null,
   "metadata": {},
   "outputs": [],
   "source": []
  },
  {
   "cell_type": "markdown",
   "metadata": {},
   "source": [
    "## Make the following sanity check: Does every AccidentID in the casualties and vehicles tables have their corresponding AccidentID in the accident table?"
   ]
  },
  {
   "cell_type": "code",
   "execution_count": null,
   "metadata": {},
   "outputs": [],
   "source": []
  },
  {
   "cell_type": "markdown",
   "metadata": {},
   "source": [
    "## Report a five number summary for all numerical variables (where this makes sense)"
   ]
  },
  {
   "cell_type": "code",
   "execution_count": null,
   "metadata": {},
   "outputs": [],
   "source": []
  },
  {
   "cell_type": "markdown",
   "metadata": {},
   "source": [
    "## Report a box plot for all numerical variables (where this makes sense)"
   ]
  },
  {
   "cell_type": "code",
   "execution_count": null,
   "metadata": {},
   "outputs": [],
   "source": []
  },
  {
   "cell_type": "markdown",
   "metadata": {},
   "source": [
    "## Report a frequency histogram for all numerical variables, and a frequency bar plot for all categorical variables (where this makes sense)"
   ]
  },
  {
   "cell_type": "code",
   "execution_count": null,
   "metadata": {},
   "outputs": [],
   "source": []
  }
 ],
 "metadata": {
  "kernelspec": {
   "display_name": "Python 3",
   "language": "python",
   "name": "python3"
  },
  "language_info": {
   "codemirror_mode": {
    "name": "ipython",
    "version": 3
   },
   "file_extension": ".py",
   "mimetype": "text/x-python",
   "name": "python",
   "nbconvert_exporter": "python",
   "pygments_lexer": "ipython3",
   "version": "3.8.5"
  }
 },
 "nbformat": 4,
 "nbformat_minor": 4
}
