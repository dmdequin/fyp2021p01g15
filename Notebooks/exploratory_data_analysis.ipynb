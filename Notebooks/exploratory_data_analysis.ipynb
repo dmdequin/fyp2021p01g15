{
 "cells": [
  {
   "cell_type": "code",
   "execution_count": 6,
   "metadata": {},
   "outputs": [],
   "source": [
    "import numpy as np\n",
    "import pandas as pd"
   ]
  },
  {
   "cell_type": "markdown",
   "metadata": {},
   "source": [
    "## Load the data"
   ]
  },
  {
   "cell_type": "code",
   "execution_count": 14,
   "metadata": {},
   "outputs": [],
   "source": [
    "accidents = pd.read_csv('../Data/raw/Road Safety Data - Accidents 2019.csv', delimiter=',', dtype='str_')\n",
    "casualties = pd.read_csv(\"../Data/raw/Road Safety Data - Casualties 2019.csv\", delimiter = \",\", dtype = \"str_\")\n",
    "vehicles = pd.read_csv(\"../Data/raw/Road Safety Data- Vehicles 2019.csv\", delimiter = \",\", dtype = \"str_\")"
   ]
  },
  {
   "cell_type": "markdown",
   "metadata": {},
   "source": [
    "## Report the dimensions of the data (number of tables, rows, fields)."
   ]
  },
  {
   "cell_type": "code",
   "execution_count": 16,
   "metadata": {},
   "outputs": [
    {
     "name": "stdout",
     "output_type": "stream",
     "text": [
      "(117536, 32)\n",
      "(153158, 16)\n",
      "(216381, 23)\n"
     ]
    }
   ],
   "source": [
    "print(accidents.shape)\n",
    "print(casualties.shape)\n",
    "print(vehicles.shape)"
   ]
  },
  {
   "cell_type": "markdown",
   "metadata": {},
   "source": [
    "## Masking for Birmingham"
   ]
  },
  {
   "cell_type": "code",
   "execution_count": 37,
   "metadata": {},
   "outputs": [
    {
     "name": "stdout",
     "output_type": "stream",
     "text": [
      "50022    300\n",
      "50023    300\n",
      "50025    300\n",
      "50027    300\n",
      "50028    300\n",
      "        ... \n",
      "55427    300\n",
      "55429    300\n",
      "55431    300\n",
      "55432    300\n",
      "55433    300\n",
      "Name: Local_Authority_(District), Length: 2623, dtype: object\n"
     ]
    }
   ],
   "source": [
    "# creating the mask to show the data for Birmingham\n",
    "mask = accidents[\"Local_Authority_(District)\"] == \"300\"\n",
    "clean_data = accidents[mask]\n",
    "\n",
    "print(clean_data)\n",
    "\n",
    "# just to check that it is \n",
    "#print(clean_data[\"Local_Authority_(District)\"])"
   ]
  },
  {
   "cell_type": "code",
   "execution_count": 55,
   "metadata": {},
   "outputs": [],
   "source": [
    "#optional\n",
    "# combining all the data\n",
    "result = pd.concat([accidents, vehicles, casualties], axis=1)\n",
    "\n",
    "# making sure there are no duplicate columns\n",
    "data = result.loc[:,~result.columns.duplicated()]\n",
    "\n",
    "combined_mask = data[\"Local_Authority_(District)\"] == \"300\"\n",
    "\n",
    "combined_clean_data = data[combined_mask]\n",
    "\n",
    "combined_clean_data_frame = pd.DataFrame(combined_clean_data)\n",
    "\n",
    "#print(data[combined_mask])\n",
    "\n",
    "#print(combined_clean_data[\"Local_Authority_(District)\"])\n",
    "\n",
    "combined_clean_data_frame.to_csv(r'/Users/embiz/Desktop/combined_clean_data.csv', index = False, header = True)"
   ]
  },
  {
   "cell_type": "markdown",
   "metadata": {},
   "source": [
    "## Identify for each variable whether it is numerical or categorical."
   ]
  },
  {
   "cell_type": "code",
   "execution_count": null,
   "metadata": {},
   "outputs": [],
   "source": []
  },
  {
   "cell_type": "markdown",
   "metadata": {},
   "source": [
    "## Make the following sanity check: Does every AccidentID in the casualties and vehicles tables have their corresponding AccidentID in the accident table?"
   ]
  },
  {
   "cell_type": "code",
   "execution_count": null,
   "metadata": {},
   "outputs": [],
   "source": []
  },
  {
   "cell_type": "markdown",
   "metadata": {},
   "source": [
    "## Report a five number summary for all numerical variables (where this makes sense)"
   ]
  },
  {
   "cell_type": "code",
   "execution_count": null,
   "metadata": {},
   "outputs": [],
   "source": []
  },
  {
   "cell_type": "markdown",
   "metadata": {},
   "source": [
    "## Report a box plot for all numerical variables (where this makes sense)"
   ]
  },
  {
   "cell_type": "code",
   "execution_count": null,
   "metadata": {},
   "outputs": [],
   "source": []
  },
  {
   "cell_type": "markdown",
   "metadata": {},
   "source": [
    "## Report a frequency histogram for all numerical variables, and a frequency bar plot for all categorical variables (where this makes sense)"
   ]
  },
  {
   "cell_type": "code",
   "execution_count": null,
   "metadata": {},
   "outputs": [],
   "source": []
  }
 ],
 "metadata": {
  "kernelspec": {
   "display_name": "Python 3",
   "language": "python",
   "name": "python3"
  },
  "language_info": {
   "codemirror_mode": {
    "name": "ipython",
    "version": 3
   },
   "file_extension": ".py",
   "mimetype": "text/x-python",
   "name": "python",
   "nbconvert_exporter": "python",
   "pygments_lexer": "ipython3",
   "version": "3.8.3"
  }
 },
 "nbformat": 4,
 "nbformat_minor": 4
}
