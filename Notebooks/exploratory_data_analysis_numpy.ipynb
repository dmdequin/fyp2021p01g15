{
 "cells": [
  {
   "cell_type": "markdown",
   "metadata": {},
   "source": [
    "# First Year Project\n",
    "## Project 1 - Road Collissions Analysis, ITU Copenhagen\n",
    "\n",
    "This notebook contains all of the code developed for project 1, to explore the data set of Road Collisions from UK.gov with a focus on the city of Birmingham.\n",
    "\n",
    "Nicola (niccl@itu.dk)<br>\n",
    "Emma (@itu.dk)<br>\n",
    "Karlis (@itu.dk)<br>\n",
    "Kirstine (@itu.dk)<br>\n",
    "Danielle (ddeq@itu.dk)<br>\n",
    "\n",
    "Created: 12-02-2021\n",
    "<br>Last modified: 12-02-2021"
   ]
  },
  {
   "cell_type": "markdown",
   "metadata": {},
   "source": [
    "## Imports"
   ]
  },
  {
   "cell_type": "code",
   "execution_count": 27,
   "metadata": {},
   "outputs": [],
   "source": [
    "import numpy as np\n",
    "import pandas as pd\n",
    "import matplotlib.pyplot as plt"
   ]
  },
  {
   "cell_type": "markdown",
   "metadata": {},
   "source": [
    "## Constants"
   ]
  },
  {
   "cell_type": "code",
   "execution_count": 3,
   "metadata": {},
   "outputs": [],
   "source": [
    "PATH = {}\n",
    "PATH[\"data_raw\"] = \"../Data/raw/\"\n",
    "PATH[\"data_interim\"] = \"../Data/interim/\"\n",
    "PATH[\"data_processed\"] = \"../Data/processed/\"\n",
    "PATH[\"data_external\"] = \"../Data/external/\"\n",
    "\n",
    "FILENAME = {}\n",
    "FILENAME[\"accidents\"] = \"Road Safety Data - Accidents 2019.csv\"\n",
    "FILENAME[\"casualties\"] = \"Road Safety Data - Casualties 2019.csv\"\n",
    "FILENAME[\"vehicles\"] = \"Road Safety Data- Vehicles 2019.csv\" "
   ]
  },
  {
   "cell_type": "markdown",
   "metadata": {},
   "source": [
    "## Load raw data"
   ]
  },
  {
   "cell_type": "markdown",
   "metadata": {},
   "source": [
    "The data were downloaded from here on Jan 4th: https://data.gov.uk/dataset/road-accidents-safety-data\n",
    "That page was updated afterwards (Jan 8th), so local and online data may be inconsistent."
   ]
  },
  {
   "cell_type": "code",
   "execution_count": 4,
   "metadata": {},
   "outputs": [],
   "source": [
    "dataraw = {}\n",
    "dataraw[\"accidents\"] = np.genfromtxt(PATH[\"data_raw\"]+FILENAME[\"accidents\"], delimiter=',', dtype=None, names=True, encoding='utf-8-sig')\n",
    "dataraw[\"vehicles\"] = np.genfromtxt(PATH[\"data_raw\"]+FILENAME[\"vehicles\"], delimiter=',', dtype=None, names=True, encoding='utf-8-sig')\n",
    "dataraw[\"casualties\"] = np.genfromtxt(PATH[\"data_raw\"]+FILENAME[\"casualties\"], delimiter=',', dtype=None, names=True, encoding='utf-8-sig')"
   ]
  },
  {
   "cell_type": "code",
   "execution_count": 5,
   "metadata": {},
   "outputs": [],
   "source": [
    "TABLENAMES = [\"accidents\", \"casualties\", \"vehicles\"]\n",
    "\n",
    "variable_names_raw = {}\n",
    "for tablename in TABLENAMES:\n",
    "    variable_names_raw[tablename] = list(dataraw[tablename].dtype.names)"
   ]
  },
  {
   "cell_type": "code",
   "execution_count": 6,
   "metadata": {},
   "outputs": [],
   "source": [
    "#variable_names_raw[\"accidents\"]"
   ]
  },
  {
   "cell_type": "code",
   "execution_count": 7,
   "metadata": {},
   "outputs": [],
   "source": [
    "#dataraw[\"accidents\"][:5]"
   ]
  },
  {
   "cell_type": "markdown",
   "metadata": {},
   "source": [
    "## Report the dimensions of the data (number of tables, rows, fields)."
   ]
  },
  {
   "cell_type": "markdown",
   "metadata": {},
   "source": [
    "We have 3 tables: Accidents, Casualites, and Vehicles data tables."
   ]
  },
  {
   "cell_type": "code",
   "execution_count": 8,
   "metadata": {},
   "outputs": [
    {
     "name": "stdout",
     "output_type": "stream",
     "text": [
      "(117536,)\n",
      "(153158,)\n",
      "(216381,)\n"
     ]
    }
   ],
   "source": [
    "# Number of records in each table\n",
    "\n",
    "print(dataraw[\"accidents\"].shape)\n",
    "print(dataraw[\"casualties\"].shape)\n",
    "print(dataraw[\"vehicles\"].shape)"
   ]
  },
  {
   "cell_type": "code",
   "execution_count": 9,
   "metadata": {},
   "outputs": [
    {
     "name": "stdout",
     "output_type": "stream",
     "text": [
      "32\n",
      "23\n",
      "16\n"
     ]
    }
   ],
   "source": [
    "# Number of variables in each table\n",
    "\n",
    "print(len(dataraw[\"accidents\"].dtype))\n",
    "print(len(dataraw[\"vehicles\"].dtype))\n",
    "print(len(dataraw[\"casualties\"].dtype))"
   ]
  },
  {
   "cell_type": "code",
   "execution_count": 10,
   "metadata": {},
   "outputs": [],
   "source": [
    "#variable_names_raw[\"accidents\"]"
   ]
  },
  {
   "cell_type": "code",
   "execution_count": 11,
   "metadata": {
    "scrolled": true
   },
   "outputs": [
    {
     "data": {
      "text/plain": [
       "array([  1,   9,   2, ..., 917, 917, 917])"
      ]
     },
     "execution_count": 11,
     "metadata": {},
     "output_type": "execute_result"
    }
   ],
   "source": [
    "dataraw[\"accidents\"][\"Local_Authority_District\"]"
   ]
  },
  {
   "cell_type": "markdown",
   "metadata": {},
   "source": [
    "## Checking IDs"
   ]
  },
  {
   "cell_type": "code",
   "execution_count": 12,
   "metadata": {},
   "outputs": [
    {
     "name": "stdout",
     "output_type": "stream",
     "text": [
      "Number of accident IDs in the casualties data: 153158 \n",
      "Number of IDs in the casualties data tha also appear in the accidents data: 153158\n",
      "Number of accident IDs in the vehicles data: 216381 \n",
      "Number of IDs in the cvehicles data tha also appear in the accidents data: 216381\n"
     ]
    }
   ],
   "source": [
    "raw_accident_AI=dataraw[\"accidents\"][\"Accident_Index\"]\n",
    "raw_vehicles_AI=dataraw[\"vehicles\"][\"Accident_Index\"]\n",
    "raw_casualties_AI=dataraw[\"casualties\"][\"Accident_Index\"]\n",
    "#print(#memeber of raw_vehicles_ids and not raw_acidents_its)\n",
    "mask_missing_c_AI = np.where(np.isin(dataraw[\"casualties\"][\"Accident_Index\"], (raw_accident_AI)))\n",
    "print(\"Number of accident IDs in the casualties data:\",len(raw_casualties_AI),\"\\nNumber of IDs in the casualties data tha also appear in the accidents data:\",len(raw_casualties_AI[mask_missing_c_AI]))\n",
    "mask_missing_v_AI = np.where(np.isin(dataraw[\"vehicles\"][\"Accident_Index\"], (raw_accident_AI)))\n",
    "print(\"Number of accident IDs in the vehicles data:\",len(raw_vehicles_AI),\n",
    "      \"\\nNumber of IDs in the cvehicles data tha also appear in the accidents data:\",\n",
    "      len(raw_vehicles_AI[mask_missing_v_AI]))"
   ]
  },
  {
   "cell_type": "markdown",
   "metadata": {},
   "source": [
    "Therefore all the accident ids in the vehicles and casualties datasets are accounted for in the accidents data"
   ]
  },
  {
   "cell_type": "markdown",
   "metadata": {},
   "source": [
    "## Masking for Birmingham"
   ]
  },
  {
   "cell_type": "code",
   "execution_count": 13,
   "metadata": {},
   "outputs": [],
   "source": [
    "# creating the mask to show the data for Birmingham on the accidents sheet\n",
    "birmingham_mask = np.where(dataraw[\"accidents\"][\"Local_Authority_District\"] == 300)\n",
    "birmingham_accidents = dataraw[\"accidents\"][birmingham_mask]"
   ]
  },
  {
   "cell_type": "code",
   "execution_count": 14,
   "metadata": {},
   "outputs": [
    {
     "name": "stdout",
     "output_type": "stream",
     "text": [
      "(2623,)\n"
     ]
    }
   ],
   "source": [
    "print(birmingham_accidents.shape)"
   ]
  },
  {
   "cell_type": "code",
   "execution_count": 17,
   "metadata": {},
   "outputs": [
    {
     "name": "stdout",
     "output_type": "stream",
     "text": [
      "(3551,)\n"
     ]
    }
   ],
   "source": [
    "# Create an array of the accident IDs related to Birmingham (use this to filter the other tables)\n",
    "accident_ids = np.array(birmingham_accidents[\"Accident_Index\"])\n",
    "\n",
    "# Create a mask to filter casualties table based on the accident ids\n",
    "casualties_mask = np.where(np.isin(dataraw[\"casualties\"][\"Accident_Index\"], (accident_ids)))\n",
    "birmingham_casualties = dataraw[\"casualties\"][casualties_mask]\n",
    "\n",
    "print(birmingham_casualties.shape)"
   ]
  },
  {
   "cell_type": "code",
   "execution_count": 18,
   "metadata": {},
   "outputs": [
    {
     "name": "stdout",
     "output_type": "stream",
     "text": [
      "(4962,)\n"
     ]
    }
   ],
   "source": [
    "# Create a mask to filter vehicles table based on the accident ids\n",
    "vehicles_mask = np.where(np.isin(dataraw[\"vehicles\"][\"Accident_Index\"], (accident_ids)))\n",
    "birmingham_vehicles = dataraw[\"vehicles\"][vehicles_mask]\n",
    "\n",
    "print(birmingham_vehicles.shape)"
   ]
  },
  {
   "cell_type": "code",
   "execution_count": 19,
   "metadata": {},
   "outputs": [],
   "source": [
    "# Do we have to check for duplicate columns?\n",
    "# Do we have to remove columns with missing data? \n",
    "# Or is that something we filter out when visualizing?\n",
    "# Set to NA?\n",
    "\n",
    "# An example of how we would save a copy of the processed data to the correct directory\n",
    "#clean_accidents.to_csv(r'../Data/interim/clean_accidents.csv', index = False, header = True)\n",
    "#np.savetxt(PATH[\"data_interim\"] + \"clean_accidents.csv\", clean_accidents, delimiter=\",\")"
   ]
  },
  {
   "cell_type": "markdown",
   "metadata": {},
   "source": [
    "# Cleaning the DATA"
   ]
  },
  {
   "cell_type": "markdown",
   "metadata": {},
   "source": [
    "## Checking for Missing Values\n",
    "What we need to check for:\n",
    "- making sure that values for missing values can't be interpreted as real values\n",
    "<br>especially for numerical values as missing values stored as 999999 for example may affect calculations\n",
    "- counts of missing values in each column\n",
    "we dont think doing this would be usefull. \n",
    "But if needed in futrue the njust make a mask of the data where the values are \"missing values\" and find length\n",
    "\n",
    "### Numerical Variables \n",
    "The missing values represented as:<br>\n",
    "(Looked up in Excel)\n",
    "<br>\n",
    "\n",
    "#### Note: all the following points are in regard to ALL the data and not just the Birmingham Data\n",
    "\n",
    "**Accidents** <br><br>\n",
    "Location_Easting_OSGR  - Null (No values missing)<br>\n",
    "Location_Northing_OSGR  - Null <br>\n",
    "Longitude  - Null<br>\n",
    "Latitude  - Null<br>\n",
    "Number_of_Vehicles  - values from 1-17 none missing  <br>\n",
    "Number_of_Casualties  - values from 1-52 -  none missing<br>\n",
    "<br>\n",
    "**Vehicles**<br><br>\n",
    "Age_of_Driver  - 1-102 missing is -1 (we should change this or at least be aware of this if we want to do any numerical analysis) the one year old was driving an unidentified vehicle and was not hurt<br>\n",
    "Engine_Capacity_(CC)  - 1-29980 missing values -1  (we should change this or at least be aware of this if we want to do any numerical analysis)<br>\n",
    "Age_of_Vehicle  - 1-94 missing vaules are -1 (we should change this or at least be aware of this if we want to do any numerical analysis)<br>\n",
    "<br>\n",
    "**Casualties**<br><br>\n",
    "Age_of_Casualty  - -1 (we should change this or at least be aware of this if we want to do any numerical analysis)\n",
    "<br>"
   ]
  },
  {
   "cell_type": "code",
   "execution_count": 20,
   "metadata": {},
   "outputs": [],
   "source": [
    "# Cleaning the Age_of_Driver to account for negative numbers\n",
    "age_cleaning_mask = np.where(birmingham_vehicles[\"Age_of_Driver\"] > 0)\n",
    "clean_AOD_accidents = birmingham_vehicles[age_cleaning_mask]"
   ]
  },
  {
   "cell_type": "code",
   "execution_count": 21,
   "metadata": {},
   "outputs": [],
   "source": [
    "# Cleaning the Engine_Capacity_CC for negative numbers\n",
    "EC_cleaning_mask = np.where(birmingham_vehicles[\"Engine_Capacity_CC\"] > 0)\n",
    "clean_EC_vehicles = birmingham_vehicles[EC_cleaning_mask]"
   ]
  },
  {
   "cell_type": "code",
   "execution_count": 22,
   "metadata": {},
   "outputs": [],
   "source": [
    "# Cleaning the Age_of_Vehicle for negative numbers\n",
    "AOV_cleaning_mask = np.where(birmingham_vehicles[\"Age_of_Vehicle\"] > 0)\n",
    "clean_AOV_vehicles = birmingham_vehicles[AOV_cleaning_mask]"
   ]
  },
  {
   "cell_type": "code",
   "execution_count": 23,
   "metadata": {},
   "outputs": [],
   "source": [
    "# Cleaning the Age_of_Casualty for negative numbers\n",
    "AOC_cleaning_mask = np.where(birmingham_casualties[\"Age_of_Casualty\"] > 0)\n",
    "clean_AOC_casualties = birmingham_casualties[AOC_cleaning_mask]"
   ]
  },
  {
   "cell_type": "markdown",
   "metadata": {},
   "source": [
    "## Identify for each variable whether it is numerical or categorical."
   ]
  },
  {
   "cell_type": "markdown",
   "metadata": {},
   "source": [
    "### Insight: Mixed variable types\n",
    "\n",
    "Accidents have mixed data types, including strings, floats, and integers. Categorical variables are encoded as integers. The meaning of these categories can be looked up in: ../references/variable lookup.xls"
   ]
  },
  {
   "cell_type": "code",
   "execution_count": 24,
   "metadata": {},
   "outputs": [
    {
     "name": "stdout",
     "output_type": "stream",
     "text": [
      "(2623,)\n",
      "(3551,)\n",
      "(4962,)\n"
     ]
    }
   ],
   "source": [
    "# Number of entries in each table after being filtered to Birmingham\n",
    "\n",
    "print(birmingham_accidents.shape)\n",
    "print(birmingham_casualties.shape)\n",
    "print(birmingham_vehicles.shape)"
   ]
  },
  {
   "cell_type": "markdown",
   "metadata": {},
   "source": [
    "We manually went throught the variable lists to come up with which variables were categorical or numerical."
   ]
  },
  {
   "cell_type": "markdown",
   "metadata": {},
   "source": [
    "References<br>\n",
    "what is categorical - http://www.stat.yale.edu/Courses/1997-98/101/catdat.htm <br>\n",
    "the hell is LSOA - https://datadictionary.nhs.uk/nhs_business_definitions/lower_layer_super_output_area.html#:~:text=A%20Lower%20Layer%20Super%20Output,Lower%20Layer%20Super%20Output%20Areas\n",
    "decile -http://mast.roadsafetyanalysis.org/wiki/index.php?title=Driver_IMD_Decile#:~:text=An%20IMD%20decile%20is%20a,the%2010%25%20least%20deprived%20areas.\n"
   ]
  },
  {
   "cell_type": "markdown",
   "metadata": {},
   "source": [
    "Accidents <br><br>\n",
    "Accident_Index  - Categorical<br>\n",
    "Location_Easting_OSGR  - Numerical<br>\n",
    "Location_Northing_OSGR  - Numerical<br>\n",
    "Longitude  - Numerical<br>\n",
    "Latitude  - Numerical<br>\n",
    "Police_Force  - Categorical<br>\n",
    "Accident_Severity  - Categorical<br>\n",
    "Number_of_Vehicles  - Numerical<br>\n",
    "Number_of_Casualties  - Numerical<br>\n",
    "Date  - Numerical/Categorical<br>\n",
    "Day_of_Week  - Categorical<br>\n",
    "Time  - Numerical(but can be categorical)<br>\n",
    "Local_Authority_(District)  - Categorical<br>\n",
    "Local_Authority_(Highway)  - Categorical<br>\n",
    "1st_Road_Class  - Categorical<br>\n",
    "1st_Road_Number  - Categorical<br>\n",
    "Road_Type  - Categorical<br>\n",
    "Speed_limit  - Categorical(we questioned this)<br>\n",
    "Junction_Detail  - Categorical<br>\n",
    "Junction_Control  - Categorical<br>\n",
    "2nd_Road_Class  - Categorical<br>\n",
    "2nd_Road_Number  - Categorical<br>\n",
    "Pedestrian_Crossing-Human_Control  - Categorical<br>\n",
    "Pedestrian_Crossing-Physical_Facilities  - Categorical<br>\n",
    "Light_Conditions  - Categorical<br>\n",
    "Weather_Conditions  - Categorical<br>\n",
    "Road_Surface_Conditions  - Categorical<br>\n",
    "Special_Conditions_at_Site  - Categorical<br>\n",
    "Carriageway_Hazards  - Categorical<br>\n",
    "Urban_or_Rural_Area  - Categorical<br>\n",
    "Did_Police_Officer_Attend_Scene_of_Accident  - Categorical<br>\n",
    "LSOA_of_Accident_Location  - Categorical<br>"
   ]
  },
  {
   "cell_type": "markdown",
   "metadata": {},
   "source": [
    "Vehicles<br><br>\n",
    "Accident_Index  - Categorical<br>\n",
    "Vehicle_Reference  - Categorical<br>\n",
    "Vehicle_Type  - Categorical<br>\n",
    "Towing_and_Articulation  - Categorical<br>\n",
    "Vehicle_Manoeuvre  - Categorical<br>\n",
    "Vehicle_Location-Restricted_Lane  - Categorical<br>\n",
    "Junction_Location  - Categorical<br>\n",
    "Skidding_and_Overturning  - Categorical<br>\n",
    "Hit_Object_in_Carriageway  - Categorical<br>\n",
    "Vehicle_Leaving_Carriageway  - Categorical<br>\n",
    "Hit_Object_off_Carriageway  - Categorical<br>\n",
    "1st_Point_of_Impact  - Categorical<br>\n",
    "Was_Vehicle_Left_Hand_Drive?  - Categorical<br>\n",
    "Journey_Purpose_of_Driver  - Categorical<br>\n",
    "Sex_of_Driver  - Categorical<br>\n",
    "Age_of_Driver  - Numerical<br>\n",
    "Age_Band_of_Driver  - Categorical<br>\n",
    "Engine_Capacity_(CC)  - Numerical<br>\n",
    "Propulsion_Code  - Categorical(probably)<br>\n",
    "Age_of_Vehicle  - Numerical<br>\n",
    "Driver_IMD_Decile  - Categorical<br>\n",
    "Driver_Home_Area_Type  - Categorical<br>\n",
    "Vehicle_IMD_Decile  - Categorical<br>"
   ]
  },
  {
   "cell_type": "markdown",
   "metadata": {},
   "source": [
    "Casualties <br><br>\n",
    "Accident_Index  - Categorical<br>\n",
    "Vehicle_Reference  - Categorical<br>\n",
    "Casualty_Reference  - Categorical<br>\n",
    "Casualty_Class  - Categorical<br>\n",
    "Sex_of_Casualty  - Categorical<br>\n",
    "Age_of_Casualty  - Numerical<br>\n",
    "Age_Band_of_Casualty  - Categorical<br>\n",
    "Casualty_Severity  - Categorical<br>\n",
    "Pedestrian_Location  - Categorical<br>\n",
    "Pedestrian_Movement  - Categorical<br>\n",
    "Car_Passenger  - Categorical<br>\n",
    "Bus_or_Coach_Passenger  - Categorical<br>\n",
    "Pedestrian_Road_Maintenance_Worker  - Categorical<br>\n",
    "Casualty_Type  - Categorical<br>\n",
    "Casualty_Home_Area_Type  - Categorical<br>\n",
    "Casualty_IMD_Decile  - Categorical<br>"
   ]
  },
  {
   "cell_type": "markdown",
   "metadata": {},
   "source": [
    "## Make the following sanity check: Does every AccidentID in the casualties and vehicles tables have their corresponding AccidentID in the accident table?"
   ]
  },
  {
   "cell_type": "code",
   "execution_count": null,
   "metadata": {},
   "outputs": [],
   "source": []
  },
  {
   "cell_type": "markdown",
   "metadata": {},
   "source": [
    "## Report a five number summary for all numerical variables (where this makes sense)"
   ]
  },
  {
   "cell_type": "code",
   "execution_count": 91,
   "metadata": {},
   "outputs": [
    {
     "name": "stdout",
     "output_type": "stream",
     "text": [
      "Min: 1.000\n",
      "Q1: 1.000\n",
      "Median: 2.000\n",
      "Q3: 2.000\n",
      "Max: 7.000\n"
     ]
    }
   ],
   "source": [
    "# Number_of_Vehicles \n",
    "\n",
    "number_of_vehicles = sorted(birmingham_accidents[\"Number_of_Vehicles\"])\n",
    "\n",
    "quartiles_NOV = np.percentile(number_of_vehicles, [25, 50, 75])\n",
    "#print(number_of_vehicles)\n",
    "\n",
    "# calculate min/max\n",
    "data_min_NOV, data_max_NOV = min(number_of_vehicles), max(number_of_vehicles)\n",
    "\n",
    "# print 5-number summary\n",
    "print('Min: %.3f' % data_min_NOV)\n",
    "print('Q1: %.3f' % quartiles_NOV[0])\n",
    "print('Median: %.3f' % quartiles_NOV[1])\n",
    "print('Q3: %.3f' % quartiles_NOV[2])\n",
    "print('Max: %.3f' % data_max_NOV)\n",
    "#print(number_of_vehicles)"
   ]
  },
  {
   "cell_type": "code",
   "execution_count": 142,
   "metadata": {},
   "outputs": [
    {
     "data": {
      "text/plain": [
       "<Figure size 360x360 with 0 Axes>"
      ]
     },
     "metadata": {},
     "output_type": "display_data"
    },
    {
     "data": {
      "image/png": "[encoded data removed]",
      "text/plain": [
       "<Figure size 432x288 with 2 Axes>"
      ]
     },
     "metadata": {
      "needs_background": "light"
     },
     "output_type": "display_data"
    }
   ],
   "source": [
    "#Histogram and Boxplot for number_of_vehicles \n",
    "fig = plt.figure(figsize=(5,5));\n",
    "fig, (ax1, ax2) = plt.subplots(2, 1);\n",
    "ax1.hist(number_of_vehicles, 10);\n",
    "ax2.boxplot(number_of_vehicles, showfliers= True, vert=False, whis = [0,100]);\n",
    "\n",
    "ax1.set_xlabel('Number of vehicles in an accident');\n",
    "ax1.set_ylabel('Cumilative Frequency of vehicles');\n",
    "\n",
    "\n",
    "ax2.set_xlabel('Number of vehicles in an accident');\n",
    "\n",
    "fig.suptitle('Vehicles');\n",
    "                      \n",
    "                      "
   ]
  },
  {
   "cell_type": "code",
   "execution_count": 92,
   "metadata": {},
   "outputs": [
    {
     "name": "stdout",
     "output_type": "stream",
     "text": [
      "Min: 1.000\n",
      "Q1: 1.000\n",
      "Median: 1.000\n",
      "Q3: 1.000\n",
      "Max: 8.000\n"
     ]
    }
   ],
   "source": [
    "# Number_of_Casualties - Numerical\n",
    "number_of_casualties = sorted(birmingham_accidents[\"Number_of_Casualties\"])\n",
    "quartiles_NOC = np.percentile(number_of_casualties, [25, 50, 75])\n",
    "\n",
    "# calculate min/max\n",
    "data_min_NOC, data_max_NOC = min(number_of_casualties), max(number_of_casualties)\n",
    "\n",
    "# print 5-number summary\n",
    "print('Min: %.3f' % data_min_NOC)\n",
    "print('Q1: %.3f' % quartiles_NOC[0])\n",
    "print('Median: %.3f' % quartiles_NOC[1])\n",
    "print('Q3: %.3f' % quartiles_NOC[2])\n",
    "print('Max: %.3f' % data_max_NOC)"
   ]
  },
  {
   "cell_type": "code",
   "execution_count": 145,
   "metadata": {},
   "outputs": [
    {
     "data": {
      "text/plain": [
       "<Figure size 360x360 with 0 Axes>"
      ]
     },
     "metadata": {},
     "output_type": "display_data"
    },
    {
     "data": {
      "image/png": "[encoded data removed]",
      "text/plain": [
       "<Figure size 432x288 with 2 Axes>"
      ]
     },
     "metadata": {
      "needs_background": "light"
     },
     "output_type": "display_data"
    }
   ],
   "source": [
    "#Histogram and Boxplot for number_of_casualties \n",
    "fig = plt.figure(figsize=(5,5));\n",
    "fig, (ax1, ax2) = plt.subplots(2, 1);\n",
    "ax1.hist(number_of_casualties, 10);\n",
    "ax2.boxplot(number_of_casualties, showfliers= True, vert=False, whis = [0, 100]);\n",
    "\n",
    "ax1.set_xlabel('Number of Casualties per accident');\n",
    "ax1.set_ylabel('Cumilative Frequency of casualties');\n",
    "\n",
    "\n",
    "ax2.set_xlabel('Number of Casualties per accident');\n",
    "\n",
    "fig.suptitle('Casualties');\n",
    "                      "
   ]
  },
  {
   "cell_type": "code",
   "execution_count": 43,
   "metadata": {},
   "outputs": [
    {
     "name": "stdout",
     "output_type": "stream",
     "text": [
      "Min: 3.000\n",
      "Q1: 27.000\n",
      "Median: 36.000\n",
      "Q3: 48.000\n",
      "Max: 93.000\n"
     ]
    }
   ],
   "source": [
    "# Age_of_Driver - Numerical\n",
    "age_of_driver = sorted(clean_AOD_accidents[\"Age_of_Driver\"])\n",
    "quartiles_AOD = np.percentile(age_of_driver, [25, 50, 75])\n",
    "\n",
    "# calculate min/max\n",
    "data_min_AOD, data_max_AOD = min(age_of_driver), max(age_of_driver)\n",
    "\n",
    "# print 5-number summary\n",
    "print('Min: %.3f' % data_min_AOD)\n",
    "print('Q1: %.3f' % quartiles_AOD[0])\n",
    "print('Median: %.3f' % quartiles_AOD[1])\n",
    "print('Q3: %.3f' % quartiles_AOD[2])\n",
    "print('Max: %.3f' % data_max_AOD)"
   ]
  },
  {
   "cell_type": "code",
   "execution_count": 151,
   "metadata": {},
   "outputs": [
    {
     "data": {
      "text/plain": [
       "<Figure size 360x360 with 0 Axes>"
      ]
     },
     "metadata": {},
     "output_type": "display_data"
    },
    {
     "data": {
      "image/png": "[encoded data removed]",
      "text/plain": [
       "<Figure size 432x288 with 2 Axes>"
      ]
     },
     "metadata": {
      "needs_background": "light"
     },
     "output_type": "display_data"
    }
   ],
   "source": [
    "#Histogram and Boxplot for age_of_driver\n",
    "fig = plt.figure(figsize=(5,5));\n",
    "fig, (ax1, ax2) = plt.subplots(2, 1);\n",
    "ax1.hist(age_of_driver, 10);\n",
    "ax2.boxplot(age_of_driver, showfliers= False, vert=False, whis = [0,100]);\n",
    "\n",
    "ax1.set_xlabel('Age');\n",
    "ax1.set_ylabel('Cumilative frquency of Age');\n",
    "\n",
    "\n",
    "ax2.set_xlabel('Age');\n",
    "\n",
    "fig.suptitle('Age of drivers');"
   ]
  },
  {
   "cell_type": "code",
   "execution_count": 45,
   "metadata": {},
   "outputs": [
    {
     "name": "stdout",
     "output_type": "stream",
     "text": [
      "Min: 49.000\n",
      "Q1: 1360.000\n",
      "Median: 1598.000\n",
      "Q3: 1988.000\n",
      "Max: 12902.000\n"
     ]
    }
   ],
   "source": [
    "# Engine_Capacity_(CC) - Numerical \n",
    "\n",
    "#using the data from clean_EC_vehicles\n",
    "\n",
    "engine_capacity = sorted(clean_EC_vehicles[\"Engine_Capacity_CC\"])\n",
    "quartiles_EC = np.percentile(engine_capacity, [25, 50, 75])\n",
    "\n",
    "# calculate min/max\n",
    "data_min_EC, data_max_EC = min(engine_capacity), max(engine_capacity)\n",
    "\n",
    "# print 5-number summary\n",
    "print('Min: %.3f' % data_min_EC)\n",
    "print('Q1: %.3f' % quartiles_EC[0])\n",
    "print('Median: %.3f' % quartiles_EC[1])\n",
    "print('Q3: %.3f' % quartiles_EC[2])\n",
    "print('Max: %.3f' % data_max_EC)"
   ]
  },
  {
   "cell_type": "code",
   "execution_count": 150,
   "metadata": {},
   "outputs": [
    {
     "data": {
      "text/plain": [
       "<Figure size 360x360 with 0 Axes>"
      ]
     },
     "metadata": {},
     "output_type": "display_data"
    },
    {
     "data": {
      "image/png": "[encoded data removed]",
      "text/plain": [
       "<Figure size 432x288 with 2 Axes>"
      ]
     },
     "metadata": {
      "needs_background": "light"
     },
     "output_type": "display_data"
    }
   ],
   "source": [
    "#Histogram and Boxplot for engine_capacity\n",
    "fig = plt.figure(figsize=(5,5));\n",
    "fig, (ax1, ax2) = plt.subplots(2, 1);\n",
    "ax1.hist(engine_capacity, 10);\n",
    "ax2.boxplot(engine_capacity, showfliers= False, vert=False, whis= [0,100]);\n",
    "\n",
    "ax1.set_xlabel('Engine capacity');\n",
    "ax1.set_ylabel('Cumilative frequency of engine capacity');\n",
    "\n",
    "ax2.set_xlabel('Engine capacity ');\n",
    "\n",
    "fig.suptitle('Engine capacity');"
   ]
  },
  {
   "cell_type": "code",
   "execution_count": 48,
   "metadata": {},
   "outputs": [
    {
     "name": "stdout",
     "output_type": "stream",
     "text": [
      "Min: 1.000\n",
      "Q1: 4.000\n",
      "Median: 9.000\n",
      "Q3: 12.000\n",
      "Max: 36.000\n"
     ]
    }
   ],
   "source": [
    "# Age_of_Vehicle - Numerical\n",
    "\n",
    "#using the data from clean_AOV_vehicles\n",
    "\n",
    "age_of_vehicle = sorted(clean_AOV_vehicles[\"Age_of_Vehicle\"])\n",
    "quartiles_AOV = np.percentile(age_of_vehicle, [25, 50, 75])\n",
    "\n",
    "# calculate min/max\n",
    "data_min_AOV, data_max_AOV = min(age_of_vehicle), max(age_of_vehicle)\n",
    "\n",
    "# print 5-number summary\n",
    "print('Min: %.3f' % data_min_AOV)\n",
    "print('Q1: %.3f' % quartiles_AOV[0])\n",
    "print('Median: %.3f' % quartiles_AOV[1])\n",
    "print('Q3: %.3f' % quartiles_AOV[2])\n",
    "print('Max: %.3f' % data_max_AOV)"
   ]
  },
  {
   "cell_type": "code",
   "execution_count": 149,
   "metadata": {},
   "outputs": [
    {
     "data": {
      "text/plain": [
       "<Figure size 360x360 with 0 Axes>"
      ]
     },
     "metadata": {},
     "output_type": "display_data"
    },
    {
     "data": {
      "image/png": "[encoded data removed]",
      "text/plain": [
       "<Figure size 432x288 with 2 Axes>"
      ]
     },
     "metadata": {
      "needs_background": "light"
     },
     "output_type": "display_data"
    }
   ],
   "source": [
    "#Histogram and Boxplot for age_of_vehicle\n",
    "fig = plt.figure(figsize=(5,5));\n",
    "fig, (ax1, ax2) = plt.subplots(2, 1);\n",
    "ax1.hist(age_of_vehicle, 10);\n",
    "ax2.boxplot(age_of_vehicle, showfliers= False, vert=False, whis= [0,100]);\n",
    "\n",
    "ax1.set_xlabel('Age of vehicle');\n",
    "ax1.set_ylabel('Cumilative frquency of the age of vehicles');\n",
    "\n",
    "ax2.set_xlabel('Age of vehicle');\n",
    "\n",
    "fig.suptitle('Graphs for the age of vehicle');"
   ]
  },
  {
   "cell_type": "code",
   "execution_count": 50,
   "metadata": {},
   "outputs": [
    {
     "name": "stdout",
     "output_type": "stream",
     "text": [
      "Min: 1.000\n",
      "Q1: 22.000\n",
      "Median: 32.000\n",
      "Q3: 46.000\n",
      "Max: 94.000\n"
     ]
    }
   ],
   "source": [
    "# Age_of_Casualty - Numerical\n",
    "\n",
    "# using the data from clean_AOC_casualties\n",
    "\n",
    "age_of_casualty = sorted(clean_AOC_casualties[\"Age_of_Casualty\"])\n",
    "quartiles_AOC = np.percentile(age_of_casualty, [25, 50, 75])\n",
    "\n",
    "# calculate min/max\n",
    "data_min_AOC, data_max_AOC = min(age_of_casualty), max(age_of_casualty)\n",
    "\n",
    "# print 5-number summary\n",
    "print('Min: %.3f' % data_min_AOC)\n",
    "print('Q1: %.3f' % quartiles_AOC[0])\n",
    "print('Median: %.3f' % quartiles_AOC[1])\n",
    "print('Q3: %.3f' % quartiles_AOC[2])\n",
    "print('Max: %.3f' % data_max_AOC)"
   ]
  },
  {
   "cell_type": "code",
   "execution_count": 153,
   "metadata": {},
   "outputs": [
    {
     "data": {
      "text/plain": [
       "<Figure size 360x360 with 0 Axes>"
      ]
     },
     "metadata": {},
     "output_type": "display_data"
    },
    {
     "data": {
      "image/png": "[encoded data removed]",
      "text/plain": [
       "<Figure size 432x288 with 2 Axes>"
      ]
     },
     "metadata": {
      "needs_background": "light"
     },
     "output_type": "display_data"
    }
   ],
   "source": [
    "#Histogram and Boxplot for age_of_casualty\n",
    "fig = plt.figure(figsize=(5,5));\n",
    "fig, (ax1, ax2) = plt.subplots(2, 1);\n",
    "ax1.hist(age_of_casualty, 10);\n",
    "ax2.boxplot(age_of_casualty, showfliers= False, vert=False, whis=[0,100]);\n",
    "\n",
    "ax1.set_xlabel('Age of Casualty');\n",
    "ax1.set_ylabel('Cumilative Frequency of age of Casualty');\n",
    "\n",
    "\n",
    "ax2.set_xlabel('Age of Casualty');\n",
    "\n",
    "fig.suptitle('Graphs for the Age of Casualties');"
   ]
  },
  {
   "cell_type": "code",
   "execution_count": null,
   "metadata": {},
   "outputs": [],
   "source": []
  },
  {
   "cell_type": "markdown",
   "metadata": {},
   "source": [
    "## Report a box plot for all numerical variables (where this makes sense)"
   ]
  },
  {
   "cell_type": "code",
   "execution_count": null,
   "metadata": {},
   "outputs": [],
   "source": []
  },
  {
   "cell_type": "markdown",
   "metadata": {},
   "source": [
    "## Report a frequency histogram for all numerical variables, and a frequency bar plot for all categorical variables (where this makes sense)"
   ]
  },
  {
   "cell_type": "code",
   "execution_count": null,
   "metadata": {},
   "outputs": [],
   "source": []
  }
 ],
 "metadata": {
  "kernelspec": {
   "display_name": "Python 3",
   "language": "python",
   "name": "python3"
  },
  "language_info": {
   "codemirror_mode": {
    "name": "ipython",
    "version": 3
   },
   "file_extension": ".py",
   "mimetype": "text/x-python",
   "name": "python",
   "nbconvert_exporter": "python",
   "pygments_lexer": "ipython3",
   "version": "3.8.5"
  }
 },
 "nbformat": 4,
 "nbformat_minor": 4
}
