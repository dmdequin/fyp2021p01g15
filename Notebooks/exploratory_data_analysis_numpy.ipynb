{
 "cells": [
  {
   "cell_type": "markdown",
   "metadata": {},
   "source": [
    "# First Year Project\n",
    "## Project 1 - Road Collissions Analysis, ITU Copenhagen\n",
    "\n",
    "This notebook contains all of the code developed for project 1, to explore the data set of Road Collisions from UK.gov with a focus on the city of Birmingham.\n",
    "\n",
    "Nicola (niccl@itu.dk)<br>\n",
    "Emma (@itu.dk)<br>\n",
    "Karlis (@itu.dk)<br>\n",
    "Kirstine (@itu.dk)<br>\n",
    "Danielle (ddeq@itu.dk)<br>\n",
    "\n",
    "Created: 12-02-2021\n",
    "<br>Last modified: 12-02-2021"
   ]
  },
  {
   "cell_type": "markdown",
   "metadata": {},
   "source": [
    "## Imports"
   ]
  },
  {
   "cell_type": "code",
   "execution_count": null,
   "metadata": {},
   "outputs": [],
   "source": [
    "import numpy as np"
   ]
  },
  {
   "cell_type": "markdown",
   "metadata": {},
   "source": [
    "## Constants"
   ]
  },
  {
   "cell_type": "code",
   "execution_count": null,
   "metadata": {},
   "outputs": [],
   "source": [
    "PATH = {}\n",
    "PATH[\"data_raw\"] = \"../Data/raw/\"\n",
    "PATH[\"data_interim\"] = \"../Data/interim/\"\n",
    "PATH[\"data_processed\"] = \"../Data/processed/\"\n",
    "PATH[\"data_external\"] = \"../Data/external/\"\n",
    "\n",
    "FILENAME = {}\n",
    "FILENAME[\"accidents\"] = \"Road Safety Data - Accidents 2019.csv\"\n",
    "FILENAME[\"casualties\"] = \"Road Safety Data - Casualties 2019.csv\"\n",
    "FILENAME[\"vehicles\"] = \"Road Safety Data- Vehicles 2019.csv\" \n",
    "\n",
    "TABLENAMES = [\"accidents\", \"casualties\", \"vehicles\"]"
   ]
  },
  {
   "cell_type": "markdown",
   "metadata": {},
   "source": [
    "## Load raw data"
   ]
  },
  {
   "cell_type": "markdown",
   "metadata": {},
   "source": [
    "The data were downloaded from here on Jan 4th: https://data.gov.uk/dataset/road-accidents-safety-data\n",
    "That page was updated afterwards (Jan 8th), so local and online data may be inconsistent."
   ]
  },
  {
   "cell_type": "code",
   "execution_count": null,
   "metadata": {},
   "outputs": [],
   "source": [
    "dataraw = {}\n",
    "dataraw[\"accidents\"] = np.genfromtxt(PATH[\"data_raw\"]+FILENAME[\"accidents\"], delimiter=',', dtype=None, names=True, encoding='utf-8-sig')\n",
    "dataraw[\"vehicles\"] = np.genfromtxt(PATH[\"data_raw\"]+FILENAME[\"vehicles\"], delimiter=',', dtype=None, names=True, encoding='utf-8-sig')\n",
    "dataraw[\"casualties\"] = np.genfromtxt(PATH[\"data_raw\"]+FILENAME[\"casualties\"], delimiter=',', dtype=None, names=True, encoding='utf-8-sig')"
   ]
  },
  {
   "cell_type": "code",
   "execution_count": null,
   "metadata": {},
   "outputs": [],
   "source": [
    "# Get a dictionary of the variable names for each table\n",
    "variable_names_raw = {}\n",
    "for variable_name in TABLENAMES:\n",
    "    variable_names_raw[variable_name] = list(dataraw[variable_name].dtype.names)"
   ]
  },
  {
   "cell_type": "code",
   "execution_count": null,
   "metadata": {},
   "outputs": [],
   "source": [
    "#variable_names_raw[\"accidents\"]"
   ]
  },
  {
   "cell_type": "code",
   "execution_count": null,
   "metadata": {},
   "outputs": [],
   "source": [
    "#dataraw[\"accidents\"][:5]"
   ]
  },
  {
   "cell_type": "markdown",
   "metadata": {},
   "source": [
    "## Report the dimensions of the data (number of tables, rows, fields)."
   ]
  },
  {
   "cell_type": "markdown",
   "metadata": {},
   "source": [
    "We have 3 tables: Accidents, Casualites, and Vehicles data tables."
   ]
  },
  {
   "cell_type": "markdown",
   "metadata": {},
   "source": [
    "### Number of records in each table"
   ]
  },
  {
   "cell_type": "code",
   "execution_count": null,
   "metadata": {},
   "outputs": [],
   "source": [
    "print(f\"Number of records in accident table: {dataraw['accidents'].shape}\")\n",
    "print(f\"Number of records in vehicles table: {dataraw['vehicles'].shape}\")\n",
    "print(f\"Number of records in casualties table: {dataraw['casualties'].shape}\")"
   ]
  },
  {
   "cell_type": "markdown",
   "metadata": {},
   "source": [
    "### Number of fields in each table"
   ]
  },
  {
   "cell_type": "code",
   "execution_count": null,
   "metadata": {},
   "outputs": [],
   "source": [
    "print(f\"Number of fields in the accident table: {len(dataraw['accidents'].dtype)}\")\n",
    "print(f\"Number of fields in the vehicles table: {len(dataraw['vehicles'].dtype)}\")\n",
    "print(f\"Number of fields in the casualties table: {len(dataraw['casualties'].dtype)}\")"
   ]
  },
  {
   "cell_type": "code",
   "execution_count": null,
   "metadata": {},
   "outputs": [],
   "source": [
    "#dataraw[\"accidents\"][\"Local_Authority_District\"]"
   ]
  },
  {
   "cell_type": "markdown",
   "metadata": {},
   "source": [
    "## Masking for Birmingham"
   ]
  },
  {
   "cell_type": "markdown",
   "metadata": {},
   "source": [
    "Birmingham is listed as code \"300\" under the \"Local_Authority_District\" field. First we narrowed down the accidents table to only show records that match this code in that field."
   ]
  },
  {
   "cell_type": "code",
   "execution_count": null,
   "metadata": {},
   "outputs": [],
   "source": [
    "# Create a dictionary to hold all of the clean data\n",
    "data_clean = {}\n",
    "\n",
    "# creating the mask to show the data for Birmingham on the accidents sheet\n",
    "birmingham_mask = np.where(dataraw[\"accidents\"][\"Local_Authority_District\"] == 300)\n",
    "data_clean[\"accidents\"] = dataraw[\"accidents\"][birmingham_mask]"
   ]
  },
  {
   "cell_type": "markdown",
   "metadata": {},
   "source": [
    "Then we narrowed down the casualties and vehicles sheets to only have records that would be reflected in the accident sheet, thereby having only records of that pertain to Birmingham."
   ]
  },
  {
   "cell_type": "code",
   "execution_count": null,
   "metadata": {},
   "outputs": [],
   "source": [
    "# Create an array of the accident IDs related to Birmingham (use this to filter the other tables)\n",
    "accident_ids = np.array(data_clean[\"accidents\"][\"Accident_Index\"])\n",
    "\n",
    "# Create a mask to filter casualties table based on the accident ids\n",
    "casualties_mask = np.where(np.isin(dataraw[\"casualties\"][\"Accident_Index\"], (accident_ids)))\n",
    "data_clean[\"casualties\"] = dataraw[\"casualties\"][casualties_mask]"
   ]
  },
  {
   "cell_type": "code",
   "execution_count": null,
   "metadata": {},
   "outputs": [],
   "source": [
    "# Create a mask to filter vehicles table based on the accident ids\n",
    "vehicles_mask = np.where(np.isin(dataraw[\"vehicles\"][\"Accident_Index\"], (accident_ids)))\n",
    "data_clean[\"vehicles\"] = dataraw[\"vehicles\"][vehicles_mask]"
   ]
  },
  {
   "cell_type": "code",
   "execution_count": null,
   "metadata": {},
   "outputs": [],
   "source": [
    "# An example of how we would save a copy of the processed data to the correct directory\n",
    "#clean_accidents.to_csv(r'../Data/interim/clean_accidents.csv', index = False, header = True)\n",
    "#np.savetxt(PATH[\"data_interim\"] + \"clean_accidents.csv\", clean_accidents, delimiter=\",\")"
   ]
  },
  {
   "cell_type": "markdown",
   "metadata": {},
   "source": [
    "### Does every AccidentID in the casualties and vehicles tables have their corresponding AccidentID in the accident table?"
   ]
  },
  {
   "cell_type": "markdown",
   "metadata": {},
   "source": [
    "Yes, after cleaning both the casualties and vehicles sheets to only have records where their accident ID is in the cleaned Birmingham accident sheet."
   ]
  },
  {
   "cell_type": "markdown",
   "metadata": {},
   "source": [
    "## Identify for each variable whether it is numerical or categorical."
   ]
  },
  {
   "cell_type": "markdown",
   "metadata": {},
   "source": [
    "### Insight: Mixed variable types\n",
    "\n",
    "Accidents have mixed data types, including strings, floats, and integers. Categorical variables are encoded as integers. The meaning of these categories can be looked up in: ../references/variable lookup.xls"
   ]
  },
  {
   "cell_type": "code",
   "execution_count": null,
   "metadata": {},
   "outputs": [],
   "source": [
    "# Number of entries in each table after being filtered to Birmingham\n",
    "\n",
    "print(f\"Number of records in Birmingham accident table: {data_clean['accidents'].shape}\")\n",
    "print(f\"Number of records in Birmingham casualties table: {data_clean['casualties'].shape}\")\n",
    "print(f\"Number of records in Birmingham vehicles table: {data_clean['vehicles'].shape}\")"
   ]
  },
  {
   "cell_type": "markdown",
   "metadata": {},
   "source": [
    "We manually went through the variable lists to come up with which variables were categorical or numerical."
   ]
  },
  {
   "cell_type": "markdown",
   "metadata": {},
   "source": [
    "References<br>\n",
    "what is categorical - http://www.stat.yale.edu/Courses/1997-98/101/catdat.htm <br>\n",
    "the hell is LSOA - https://datadictionary.nhs.uk/nhs_business_definitions/lower_layer_super_output_area.html#:~:text=A%20Lower%20Layer%20Super%20Output,Lower%20Layer%20Super%20Output%20Areas\n",
    "decile -http://mast.roadsafetyanalysis.org/wiki/index.php?title=Driver_IMD_Decile#:~:text=An%20IMD%20decile%20is%20a,the%2010%25%20least%20deprived%20areas.\n"
   ]
  },
  {
   "cell_type": "markdown",
   "metadata": {},
   "source": [
    "Acidents <br><br>\n",
    "Accident_Index  - Categorical<br>\n",
    "Location_Easting_OSGR  - Numerical<br>\n",
    "Location_Northing_OSGR  - Numerical<br>\n",
    "Longitude  - Numerical<br>\n",
    "Latitude  - Numerical<br>\n",
    "Police_Force  - Categorical<br>\n",
    "Accident_Severity  - Categorical<br>\n",
    "Number_of_Vehicles  - Numerical<br>\n",
    "Number_of_Casualties  - Numerical<br>\n",
    "Date  - Numerical/Categorical<br>\n",
    "Day_of_Week  - Categorical<br>\n",
    "Time  - Numerical(but can be categorical)<br>\n",
    "Local_Authority_(District)  - Categorical<br>\n",
    "Local_Authority_(Highway)  - Categorical<br>\n",
    "1st_Road_Class  - Categorical<br>\n",
    "1st_Road_Number  - Categorical<br>\n",
    "Road_Type  - Categorical<br>\n",
    "Speed_limit  - Categorical(we questioned this)<br>\n",
    "Junction_Detail  - Categorical<br>\n",
    "Junction_Control  - Categorical<br>\n",
    "2nd_Road_Class  - Categorical<br>\n",
    "2nd_Road_Number  - Categorical<br>\n",
    "Pedestrian_Crossing-Human_Control  - Categorical<br>\n",
    "Pedestrian_Crossing-Physical_Facilities  - Categorical<br>\n",
    "Light_Conditions  - Categorical<br>\n",
    "Weather_Conditions  - Categorical<br>\n",
    "Road_Surface_Conditions  - Categorical<br>\n",
    "Special_Conditions_at_Site  - Categorical<br>\n",
    "Carriageway_Hazards  - Categorical<br>\n",
    "Urban_or_Rural_Area  - Categorical<br>\n",
    "Did_Police_Officer_Attend_Scene_of_Accident  - Categorical<br>\n",
    "LSOA_of_Accident_Location  - Categorical<br>"
   ]
  },
  {
   "cell_type": "markdown",
   "metadata": {},
   "source": [
    "Vehicles<br><br>\n",
    "Accident_Index  - Categorical<br>\n",
    "Vehicle_Reference  - Categorical<br>\n",
    "Vehicle_Type  - Categorical<br>\n",
    "Towing_and_Articulation  - Categorical<br>\n",
    "Vehicle_Manoeuvre  - Categorical<br>\n",
    "Vehicle_Location-Restricted_Lane  - Categorical<br>\n",
    "Junction_Location  - Categorical<br>\n",
    "Skidding_and_Overturning  - Categorical<br>\n",
    "Hit_Object_in_Carriageway  - Categorical<br>\n",
    "Vehicle_Leaving_Carriageway  - Categorical<br>\n",
    "Hit_Object_off_Carriageway  - Categorical<br>\n",
    "1st_Point_of_Impact  - Categorical<br>\n",
    "Was_Vehicle_Left_Hand_Drive?  - Categorical<br>\n",
    "Journey_Purpose_of_Driver  - Categorical<br>\n",
    "Sex_of_Driver  - Categorical<br>\n",
    "Age_of_Driver  - Numerical<br>\n",
    "Age_Band_of_Driver  - Categorical<br>\n",
    "Engine_Capacity_(CC)  - Numerical<br>\n",
    "Propulsion_Code  - Categorical(probably)<br>\n",
    "Age_of_Vehicle  - Numerical<br>\n",
    "Driver_IMD_Decile  - Categorical<br>\n",
    "Driver_Home_Area_Type  - Categorical<br>\n",
    "Vehicle_IMD_Decile  - Categorical<br>"
   ]
  },
  {
   "cell_type": "markdown",
   "metadata": {},
   "source": [
    "Casualties <br><br>\n",
    "Accident_Index  - Categorical<br>\n",
    "Vehicle_Reference  - Categorical<br>\n",
    "Casualty_Reference  - Categorical<br>\n",
    "Casualty_Class  - Categorical<br>\n",
    "Sex_of_Casualty  - Categorical<br>\n",
    "Age_of_Casualty  - Numerical<br>\n",
    "Age_Band_of_Casualty  - Categorical<br>\n",
    "Casualty_Severity  - Categorical<br>\n",
    "Pedestrian_Location  - Categorical<br>\n",
    "Pedestrian_Movement  - Categorical<br>\n",
    "Car_Passenger  - Categorical<br>\n",
    "Bus_or_Coach_Passenger  - Categorical<br>\n",
    "Pedestrian_Road_Maintenance_Worker  - Categorical<br>\n",
    "Casualty_Type  - Categorical<br>\n",
    "Casualty_Home_Area_Type  - Categorical<br>\n",
    "Casualty_IMD_Decile  - Categorical<br>"
   ]
  },
  {
   "cell_type": "markdown",
   "metadata": {},
   "source": [
    "## Dealing with missing data"
   ]
  },
  {
   "cell_type": "markdown",
   "metadata": {},
   "source": [
    "### First we will go through missing data from the unfiltered data for all of UK"
   ]
  },
  {
   "cell_type": "code",
   "execution_count": null,
   "metadata": {},
   "outputs": [],
   "source": [
    "dataraw_masked = {}\n",
    "for variable_name in TABLENAMES:\n",
    "    dataraw_masked[variable_name] = np.genfromtxt(PATH[\"data_raw\"] + FILENAME[variable_name], delimiter = ',', dtype = None, names = True, encoding='utf-8-sig', usemask = True)"
   ]
  },
  {
   "cell_type": "code",
   "execution_count": null,
   "metadata": {},
   "outputs": [],
   "source": [
    "print(f\"Number of rows with missing values: {np.count_nonzero(dataraw_masked['accidents'].mask)}\")"
   ]
  },
  {
   "cell_type": "code",
   "execution_count": null,
   "metadata": {},
   "outputs": [],
   "source": [
    "print(f\"Percentage of rows with missing values: {round(5776/117536, 2)}%\")"
   ]
  },
  {
   "cell_type": "code",
   "execution_count": null,
   "metadata": {},
   "outputs": [],
   "source": [
    "# Rows where data is missing\n",
    "row_incomplete = np.where(dataraw_masked[\"accidents\"].mask)[0]"
   ]
  },
  {
   "cell_type": "code",
   "execution_count": null,
   "metadata": {},
   "outputs": [],
   "source": [
    "missingpositions = {}\n",
    "missingvalues = 0\n",
    "missingconfigurations = set()\n",
    "for rowpos in row_incomplete:\n",
    "    missingpositions_thisrow = list(np.where(list(dataraw_masked[\"accidents\"].mask[rowpos]))[0])\n",
    "    missingpositions[rowpos] = missingpositions_thisrow\n",
    "    missingvalues += len(missingpositions_thisrow)\n",
    "    missingconfigurations.add(tuple(missingpositions_thisrow))\n",
    "    \n",
    "missingfieldnames = [np.array(variable_names_raw[\"accidents\"])[c] for c in [list(b) for b in missingconfigurations]]"
   ]
  },
  {
   "cell_type": "code",
   "execution_count": null,
   "metadata": {},
   "outputs": [],
   "source": [
    "print(\"Incomplete rows: \" + str(np.count_nonzero(dataraw_masked[\"accidents\"].mask)))\n",
    "print(\"Missing values: \" + str(missingvalues))\n",
    "\n",
    "print(\"\\nMissing field configurations: \" + str(missingconfigurations))\n",
    "for i in missingfieldnames:\n",
    "    print(i)"
   ]
  },
  {
   "cell_type": "markdown",
   "metadata": {},
   "source": [
    "### Then, we will repeat the same steps with the tables that only contain records of Birmingham."
   ]
  },
  {
   "cell_type": "code",
   "execution_count": null,
   "metadata": {},
   "outputs": [],
   "source": [
    "# Create a dictionary for the clean, masked data\n",
    "data_clean_masked = {}\n",
    "\n",
    "# creating the mask to show the data for Birmingham on the accidents sheet\n",
    "birmingham_mask2 = np.where(dataraw_masked[\"accidents\"][\"Local_Authority_District\"] == 300)\n",
    "data_clean_masked[\"accidents\"] = dataraw_masked[\"accidents\"][birmingham_mask2]"
   ]
  },
  {
   "cell_type": "code",
   "execution_count": null,
   "metadata": {},
   "outputs": [],
   "source": [
    "# Create an array of the accident IDs related to Birmingham (use this to filter the other tables)\n",
    "accident_ids2 = np.array(data_clean_masked[\"accidents\"][\"Accident_Index\"])\n",
    "\n",
    "# Create a mask to filter casualties table based on the accident ids\n",
    "casualties_mask2 = np.where(np.isin(dataraw_masked[\"casualties\"][\"Accident_Index\"], (accident_ids2)))\n",
    "data_clean_masked[\"casualties\"] = dataraw_masked[\"casualties\"][casualties_mask2]"
   ]
  },
  {
   "cell_type": "code",
   "execution_count": null,
   "metadata": {},
   "outputs": [],
   "source": [
    "# Create a mask to filter vehicles table based on the accident ids\n",
    "vehicles_mask2 = np.where(np.isin(dataraw_masked[\"vehicles\"][\"Accident_Index\"], (accident_ids2)))\n",
    "data_clean_masked[\"vehicles\"] = dataraw_masked[\"vehicles\"][vehicles_mask2]"
   ]
  },
  {
   "cell_type": "code",
   "execution_count": null,
   "metadata": {},
   "outputs": [],
   "source": [
    "print(f\"Number of rows with missing values: {np.count_nonzero(data_clean_masked['accidents'].mask)}\")\n",
    "print(f\"Number of rows with missing values: {np.count_nonzero(data_clean_masked['casualties'].mask)}\")\n",
    "print(f\"Number of rows with missing values: {np.count_nonzero(data_clean_masked['vehicles'].mask)}\")"
   ]
  },
  {
   "cell_type": "markdown",
   "metadata": {},
   "source": [
    "It seems there are no records in our narrowed down data set that have missing values."
   ]
  },
  {
   "cell_type": "markdown",
   "metadata": {},
   "source": [
    "## Report a five number summary for all numerical variables (where this makes sense)"
   ]
  },
  {
   "cell_type": "code",
   "execution_count": null,
   "metadata": {},
   "outputs": [],
   "source": []
  },
  {
   "cell_type": "markdown",
   "metadata": {},
   "source": [
    "## Report a box plot for all numerical variables (where this makes sense)"
   ]
  },
  {
   "cell_type": "code",
   "execution_count": null,
   "metadata": {},
   "outputs": [],
   "source": []
  },
  {
   "cell_type": "markdown",
   "metadata": {},
   "source": [
    "## Report a frequency histogram for all numerical variables, and a frequency bar plot for all categorical variables (where this makes sense)"
   ]
  },
  {
   "cell_type": "code",
   "execution_count": null,
   "metadata": {},
   "outputs": [],
   "source": []
  }
 ],
 "metadata": {
  "kernelspec": {
   "display_name": "Python 3",
   "language": "python",
   "name": "python3"
  },
  "language_info": {
   "codemirror_mode": {
    "name": "ipython",
    "version": 3
   },
   "file_extension": ".py",
   "mimetype": "text/x-python",
   "name": "python",
   "nbconvert_exporter": "python",
   "pygments_lexer": "ipython3",
   "version": "3.8.5"
  }
 },
 "nbformat": 4,
 "nbformat_minor": 4
}
